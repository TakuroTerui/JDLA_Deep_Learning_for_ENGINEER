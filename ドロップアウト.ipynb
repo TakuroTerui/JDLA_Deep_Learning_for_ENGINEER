{
  "nbformat": 4,
  "nbformat_minor": 0,
  "metadata": {
    "colab": {
      "name": "ドロップアウト.ipynb",
      "provenance": [],
      "authorship_tag": "ABX9TyMuS70wBVqn48l/Ix2CrrW5"
    },
    "kernelspec": {
      "name": "python3",
      "display_name": "Python 3"
    },
    "language_info": {
      "name": "python"
    }
  },
  "cells": [
    {
      "cell_type": "code",
      "execution_count": 1,
      "metadata": {
        "id": "O8hVfjVmMZAk"
      },
      "outputs": [],
      "source": [
        "import numpy as np\n",
        "\n",
        "class Dropout:\n",
        "    def __init__(self, dropout_ratio=0.5):\n",
        "        self.dropout_ratio = dropout_ratio\n",
        "        self.mask = None\n",
        "    \n",
        "    def forward(self, x, train_flg=True):\n",
        "        if train_flg:\n",
        "            self.mask = np.random.rand(*x.shape) > self.dropout_ratio\n",
        "            return x * self.mask\n",
        "        else:\n",
        "            return x * (1.0 - self.dropout_ratio)\n",
        "        \n",
        "    def backward(self, dout):\n",
        "        return dout * self.mask"
      ]
    }
  ]
}