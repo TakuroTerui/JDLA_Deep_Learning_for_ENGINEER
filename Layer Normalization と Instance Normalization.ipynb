{
  "nbformat": 4,
  "nbformat_minor": 0,
  "metadata": {
    "colab": {
      "name": "E資格Layer正規化・Instance正規化.ipynb",
      "provenance": [],
      "authorship_tag": "ABX9TyOSwVboTlMKoYYpUbTpgVpK"
    },
    "kernelspec": {
      "name": "python3",
      "display_name": "Python 3"
    },
    "language_info": {
      "name": "python"
    }
  },
  "cells": [
    {
      "cell_type": "code",
      "execution_count": 1,
      "metadata": {
        "id": "FmmpsvF3hjVq"
      },
      "outputs": [],
      "source": [
        "import numpy as np\n",
        "import pandas as pd\n",
        "import torch\n",
        "import torch.nn as nn"
      ]
    },
    {
      "cell_type": "code",
      "source": [
        "# 画像の生成\n",
        "input = torch.rand(1, 3, 28, 28)\n",
        "input.shape"
      ],
      "metadata": {
        "colab": {
          "base_uri": "https://localhost:8080/"
        },
        "id": "-AXmeL3ChxNR",
        "outputId": "821fd932-45bb-41f5-af22-60b30239278b"
      },
      "execution_count": 2,
      "outputs": [
        {
          "output_type": "execute_result",
          "data": {
            "text/plain": [
              "torch.Size([1, 3, 28, 28])"
            ]
          },
          "metadata": {},
          "execution_count": 2
        }
      ]
    },
    {
      "cell_type": "code",
      "source": [
        "input"
      ],
      "metadata": {
        "colab": {
          "base_uri": "https://localhost:8080/"
        },
        "id": "1Z7QURGgh8Q3",
        "outputId": "8df33fb4-385d-4134-f37f-db999f7e7bbf"
      },
      "execution_count": 3,
      "outputs": [
        {
          "output_type": "execute_result",
          "data": {
            "text/plain": [
              "tensor([[[[0.3455, 0.3337, 0.9270,  ..., 0.5143, 0.5913, 0.1302],\n",
              "          [0.0763, 0.0748, 0.0564,  ..., 0.5409, 0.5018, 0.8260],\n",
              "          [0.9718, 0.2735, 0.9358,  ..., 0.6335, 0.2251, 0.3949],\n",
              "          ...,\n",
              "          [0.0643, 0.0176, 0.8142,  ..., 0.6152, 0.6194, 0.9676],\n",
              "          [0.3616, 0.5416, 0.6959,  ..., 0.7746, 0.0397, 0.6139],\n",
              "          [0.0020, 0.7954, 0.2128,  ..., 0.9926, 0.2233, 0.3331]],\n",
              "\n",
              "         [[0.9073, 0.8798, 0.3725,  ..., 0.4657, 0.9358, 0.3971],\n",
              "          [0.8721, 0.2120, 0.5610,  ..., 0.5644, 0.7939, 0.0160],\n",
              "          [0.4750, 0.7863, 0.6852,  ..., 0.4250, 0.2117, 0.3242],\n",
              "          ...,\n",
              "          [0.8990, 0.1786, 0.8498,  ..., 0.7496, 0.0862, 0.2734],\n",
              "          [0.8071, 0.0668, 0.0201,  ..., 0.1633, 0.4293, 0.3058],\n",
              "          [0.0422, 0.3744, 0.9060,  ..., 0.3995, 0.8709, 0.8571]],\n",
              "\n",
              "         [[0.4805, 0.1433, 0.4751,  ..., 0.4419, 0.0768, 0.2020],\n",
              "          [0.6982, 0.5362, 0.5231,  ..., 0.2704, 0.1153, 0.3832],\n",
              "          [0.6369, 0.0947, 0.3606,  ..., 0.6993, 0.0472, 0.9365],\n",
              "          ...,\n",
              "          [0.0331, 0.5894, 0.1484,  ..., 0.7108, 0.9980, 0.4622],\n",
              "          [0.6786, 0.0062, 0.8834,  ..., 0.1432, 0.5949, 0.7356],\n",
              "          [0.2150, 0.8004, 0.1058,  ..., 0.5316, 0.8913, 0.2727]]]])"
            ]
          },
          "metadata": {},
          "execution_count": 3
        }
      ]
    },
    {
      "cell_type": "code",
      "source": [
        "LN = nn.LayerNorm(input.size()[1:])\n",
        "LN"
      ],
      "metadata": {
        "colab": {
          "base_uri": "https://localhost:8080/"
        },
        "id": "kKO72Hsnh9Wr",
        "outputId": "19238303-6e86-4b04-d898-033beafa18a5"
      },
      "execution_count": 4,
      "outputs": [
        {
          "output_type": "execute_result",
          "data": {
            "text/plain": [
              "LayerNorm((3, 28, 28), eps=1e-05, elementwise_affine=True)"
            ]
          },
          "metadata": {},
          "execution_count": 4
        }
      ]
    },
    {
      "cell_type": "code",
      "source": [
        "out = LN(input)\n",
        "out.shape"
      ],
      "metadata": {
        "colab": {
          "base_uri": "https://localhost:8080/"
        },
        "id": "x2r-IStoiMKp",
        "outputId": "fe634f0a-19a5-4118-b18f-9103804abbe9"
      },
      "execution_count": 5,
      "outputs": [
        {
          "output_type": "execute_result",
          "data": {
            "text/plain": [
              "torch.Size([1, 3, 28, 28])"
            ]
          },
          "metadata": {},
          "execution_count": 5
        }
      ]
    },
    {
      "cell_type": "code",
      "source": [
        "print('入力の標準偏差:{}'.format(input.view(-1).std()))\n",
        "print('入力の平均:{}'.format(input.view(-1).mean()))"
      ],
      "metadata": {
        "colab": {
          "base_uri": "https://localhost:8080/"
        },
        "id": "VCYSCsj8iOh1",
        "outputId": "2371ec69-d04a-47fb-d5ef-ff16e9a3e13a"
      },
      "execution_count": 6,
      "outputs": [
        {
          "output_type": "stream",
          "name": "stdout",
          "text": [
            "入力の標準偏差:0.28873735666275024\n",
            "入力の平均:0.49901559948921204\n"
          ]
        }
      ]
    },
    {
      "cell_type": "code",
      "source": [
        "print('入力の標準偏差:{}'.format(out.view(-1).std()))\n",
        "print('入力の平均:{}'.format(out.view(-1).mean()))"
      ],
      "metadata": {
        "colab": {
          "base_uri": "https://localhost:8080/"
        },
        "id": "QzFK9H-1irmC",
        "outputId": "ce8b47bd-88b5-4974-b337-9d565de043e6"
      },
      "execution_count": 7,
      "outputs": [
        {
          "output_type": "stream",
          "name": "stdout",
          "text": [
            "入力の標準偏差:1.0001527070999146\n",
            "入力の平均:7.460717199592182e-08\n"
          ]
        }
      ]
    },
    {
      "cell_type": "code",
      "source": [
        "IN = nn.InstanceNorm2d(input.size(1))\n",
        "IN"
      ],
      "metadata": {
        "colab": {
          "base_uri": "https://localhost:8080/"
        },
        "id": "Ae7Da9n1i-Ko",
        "outputId": "195fac7a-b13e-4517-bae6-f0cd7af9964f"
      },
      "execution_count": 8,
      "outputs": [
        {
          "output_type": "execute_result",
          "data": {
            "text/plain": [
              "InstanceNorm2d(3, eps=1e-05, momentum=0.1, affine=False, track_running_stats=False)"
            ]
          },
          "metadata": {},
          "execution_count": 8
        }
      ]
    },
    {
      "cell_type": "code",
      "source": [
        "out = IN(input)\n",
        "out.shape"
      ],
      "metadata": {
        "colab": {
          "base_uri": "https://localhost:8080/"
        },
        "id": "O9H8ApM4jPKu",
        "outputId": "dfadb142-c4b2-475e-85fd-f5b5bd40dd30"
      },
      "execution_count": 9,
      "outputs": [
        {
          "output_type": "execute_result",
          "data": {
            "text/plain": [
              "torch.Size([1, 3, 28, 28])"
            ]
          },
          "metadata": {},
          "execution_count": 9
        }
      ]
    },
    {
      "cell_type": "code",
      "source": [
        "out_channel1 = out[0][0].view(-1)\n",
        "\n",
        "print('出力の標準偏差:{}'.format(out_channel1.std()))\n",
        "print('出力の平均:{}'.format(out_channel1.mean()))"
      ],
      "metadata": {
        "colab": {
          "base_uri": "https://localhost:8080/"
        },
        "id": "YS1Hi3SPjTu8",
        "outputId": "720e3e2b-c96c-417d-f23e-4fe34804ecac"
      },
      "execution_count": 10,
      "outputs": [
        {
          "output_type": "stream",
          "name": "stdout",
          "text": [
            "出力の標準偏差:1.0005797147750854\n",
            "出力の平均:4.7440430250844656e-08\n"
          ]
        }
      ]
    }
  ]
}