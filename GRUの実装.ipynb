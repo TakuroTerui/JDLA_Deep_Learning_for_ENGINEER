{
  "nbformat": 4,
  "nbformat_minor": 0,
  "metadata": {
    "colab": {
      "name": "GRUの実装.ipynb",
      "provenance": [],
      "authorship_tag": "ABX9TyOU7s3Bw1B9fWvzbj08sGBH"
    },
    "kernelspec": {
      "name": "python3",
      "display_name": "Python 3"
    },
    "language_info": {
      "name": "python"
    }
  },
  "cells": [
    {
      "cell_type": "markdown",
      "source": [
        "## GRUの実装"
      ],
      "metadata": {
        "id": "VUUecOFghBTg"
      }
    },
    {
      "cell_type": "code",
      "source": [
        "import numpy as np\n",
        "\n",
        "def sigmoid(x):\n",
        "    return 1 / (1 + np.exp(-x))"
      ],
      "metadata": {
        "id": "LBvg-LT4hspm"
      },
      "execution_count": 1,
      "outputs": []
    },
    {
      "cell_type": "markdown",
      "source": [
        "### resetゲート"
      ],
      "metadata": {
        "id": "Ikn9GVBmhaMz"
      }
    },
    {
      "cell_type": "code",
      "source": [
        "N = 32\n",
        "T = 16\n",
        "D = 100\n",
        "H = 100\n",
        "\n",
        "xs = np.random.randn(N, T, D)\n",
        "\n",
        "x = xs[:, 0, :]\n",
        "\n",
        "h_prev = np.zeros((N, H))"
      ],
      "metadata": {
        "id": "653_bap2hoCj"
      },
      "execution_count": 2,
      "outputs": []
    },
    {
      "cell_type": "code",
      "source": [
        "Wh_r = np.random.randn(H, H)\n",
        "Wx_r = np.random.randn(D, H)\n",
        "b_r = np.random.randn(N, H)"
      ],
      "metadata": {
        "id": "3ybWNe0piXL1"
      },
      "execution_count": 3,
      "outputs": []
    },
    {
      "cell_type": "code",
      "source": [
        "r = sigmoid(np.dot(x, Wx_r) + np.dot(h_prev, Wh_r) + b_r)"
      ],
      "metadata": {
        "id": "wvpWCvK5ikEr"
      },
      "execution_count": 5,
      "outputs": []
    },
    {
      "cell_type": "markdown",
      "source": [
        "### updateゲート"
      ],
      "metadata": {
        "id": "SQjvG-_7it3T"
      }
    },
    {
      "cell_type": "code",
      "source": [
        "Wh_z = np.random.randn(H, H)\n",
        "Wx_z = np.random.randn(D, H)\n",
        "b_z = np.random.randn(N, H)\n",
        "\n",
        "Wh_h = np.random.randn(H, H)\n",
        "Wx_h = np.random.randn(D, H)\n",
        "b_h = np.random.randn(N, H)\n",
        "\n",
        "z = sigmoid(np.dot(x, Wx_z) + np.dot(h_prev, Wh_z) + b_z)\n",
        "h_hat = np.tanh(np.dot(x, Wx_h) + np.dot(r * h_prev, Wh_h) + b_h)"
      ],
      "metadata": {
        "id": "OAEYta29ixL0"
      },
      "execution_count": 6,
      "outputs": []
    },
    {
      "cell_type": "code",
      "source": [
        "h_next = (1 - z) * h_prev + z * h_hat"
      ],
      "metadata": {
        "id": "pbyZd2k5jgYY"
      },
      "execution_count": 7,
      "outputs": []
    },
    {
      "cell_type": "markdown",
      "source": [
        "### 処理をまとめる"
      ],
      "metadata": {
        "id": "hHNYfpoyj1fd"
      }
    },
    {
      "cell_type": "code",
      "source": [
        "# Wh_r = np.random.randn(H, H)\n",
        "# Wh_z = np.random.randn(H, H)\n",
        "# Wh_h = np.random.randn(H, H)\n",
        "\n",
        "# Wx_r = np.random.randn(D, H)\n",
        "# Wx_z = np.random.randn(D, H)\n",
        "# Wx_h = np.random.randn(D, H)\n",
        "\n",
        "# b_r = np.random.randn(N, H)\n",
        "# b_z = np.random.randn(N, H)\n",
        "# b_h = np.random.randn(N, H)"
      ],
      "metadata": {
        "id": "N9cQL0gXj4PH"
      },
      "execution_count": 8,
      "outputs": []
    },
    {
      "cell_type": "code",
      "source": [
        "Wh = np.random.randn(H, 3 * H)\n",
        "Wx = np.random.randn(D, 3 * H)\n",
        "b = np.random.randn(N, 3 * H)"
      ],
      "metadata": {
        "id": "nB8VFylfkAvS"
      },
      "execution_count": 9,
      "outputs": []
    },
    {
      "cell_type": "code",
      "source": [
        "class GRU:\n",
        "\n",
        "    def __init__(self, Wx, Wh, b):\n",
        "        self.params = [Wx, Wh, b]\n",
        "        self.grads = [np.zeros_like(Wx), np.zeros_like(Wh), np.zeros_like(b)]\n",
        "        self.cache = None\n",
        "\n",
        "    def forward(self, x, h_prev):\n",
        "        Wx, Wh, b = self.params\n",
        "        H = Wh.shape[0]\n",
        "\n",
        "        Wx_z, Wx_r, Wx_h = Wx[:, :H], Wx[:, H:2*H], Wx[:, 2*H:]\n",
        "        Wh_z, Wh_r, Wh_h = Wh[:, :H], Wh[:, H:2*H], Wh[:, 2*H:]\n",
        "        b_z, b_r, b_h = b[:, :H], b[:, H:2*H], b[:, 2*H:]\n",
        "\n",
        "        z = sigmoid(np.dot(x, Wx_z) + np.dot(h_prev, Wh_z) + b_z)\n",
        "        r = sigmoid(np.dot(x, Wx_r) + np.dot(h_prev, Wh_r) + b_r)\n",
        "        h_hat = np.tanh(np.dot(x, Wx_h) + np.dot(r * h_prev, Wh_h) + b_h)\n",
        "\n",
        "        h_next = (1 - z) * h_prev + z * h_hat\n",
        "\n",
        "        self.cache = (x, h_prev, z, r, h_hat)\n",
        "\n",
        "        return h_next"
      ],
      "metadata": {
        "id": "MDQn7TdzkKuC"
      },
      "execution_count": 10,
      "outputs": []
    },
    {
      "cell_type": "code",
      "source": [
        "x = xs[:, 0, :]\n",
        "gru_unit = GRU(Wx, Wh, b)\n",
        "\n",
        "h_next = gru_unit.forward(x, h_prev)"
      ],
      "metadata": {
        "id": "FSCavvKglmfs"
      },
      "execution_count": 11,
      "outputs": []
    },
    {
      "cell_type": "code",
      "source": [
        "h_next.shape"
      ],
      "metadata": {
        "colab": {
          "base_uri": "https://localhost:8080/"
        },
        "id": "r0WFg3qNlzNm",
        "outputId": "675391b4-7662-4de7-9e5b-5b0848af988b"
      },
      "execution_count": 12,
      "outputs": [
        {
          "output_type": "execute_result",
          "data": {
            "text/plain": [
              "(32, 100)"
            ]
          },
          "metadata": {},
          "execution_count": 12
        }
      ]
    }
  ]
}