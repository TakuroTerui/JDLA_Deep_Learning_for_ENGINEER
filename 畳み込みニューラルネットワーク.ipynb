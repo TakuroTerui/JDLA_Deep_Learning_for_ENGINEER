{
  "nbformat": 4,
  "nbformat_minor": 0,
  "metadata": {
    "colab": {
      "name": "畳み込みニューラルネットワーク.ipynb",
      "provenance": [],
      "authorship_tag": "ABX9TyNFbWY7q7sBz6EzqdGFKXww"
    },
    "kernelspec": {
      "name": "python3",
      "display_name": "Python 3"
    },
    "language_info": {
      "name": "python"
    }
  },
  "cells": [
    {
      "cell_type": "code",
      "execution_count": 1,
      "metadata": {
        "id": "qhIn_cLDnNSc"
      },
      "outputs": [],
      "source": [
        "import numpy as np"
      ]
    },
    {
      "cell_type": "code",
      "source": [
        "def im2col(input_data, filter_h, filter_w, stride, pad, constand_values=0):\n",
        "    '''\n",
        "    input_data: (データ数、チャンネル数、高さ、幅)の4次元配列\n",
        "    filter_h: フィルタの高さ\n",
        "    filter_w: フィルタの幅\n",
        "    stride: ストライドサイズ\n",
        "    pad: パディングサイズ\n",
        "    constant_values: パディング処理で埋める際の値\n",
        "    '''\n",
        "    # 入力データのデータ数、チャンネル数、高さ、幅を取得\n",
        "    N, C, H, W = input_data.shape\n",
        "\n",
        "    # 出力データの高さ（端数は切り捨てる）\n",
        "    out_h = (H + 2 * pad - filter_h) // stride + 1\n",
        "\n",
        "    # 出力データの幅（端数は切り捨てる）\n",
        "    out_w = (W + 2 * pad - filter_w) // stride + 1\n",
        "\n",
        "    # パディング処理\n",
        "    img = np.pad(\n",
        "        input_data,\n",
        "        # （ ア ）\n",
        "        [(0, 0), (0, 0), (pad, pad), (pad, pad)],\n",
        "        'constant',\n",
        "        constant_values=constand_values\n",
        "    )\n",
        "\n",
        "    # 配列の初期化\n",
        "    col = np.zeros((N, C, filter_h, filter_h, out_h, out_w))\n",
        "\n",
        "    # フィルタ内のある1要素に対応する画像中の画素を取り出してcolに代入する\n",
        "    for y in range(filter_h):\n",
        "        y_max = y + stride * out_h\n",
        "        for x in range(filter_w):\n",
        "            x_max = x + stride * out_w\n",
        "            # （ イ ）\n",
        "            col[:, :, y, x, :, :] = img[:, :, y:y_max:stride, x:x_max:stride]\n",
        "    \n",
        "    # 軸を入れ替えて、2次元配列（行列）に変換する\n",
        "    col = col.transpose(0, 4, 5, 1, 2, 3).reshape(N * out_h * out_w, -1)\n",
        "\n",
        "    return col"
      ],
      "metadata": {
        "id": "1YDjVFAFnSJu"
      },
      "execution_count": 2,
      "outputs": []
    },
    {
      "cell_type": "code",
      "source": [
        "def maxpooling_forward(x, pad, stride, pool_h, pool_w):\n",
        "    '''\n",
        "    x: 入力データ、配列形状 = (データ数、チャンネル数、高さ、幅)\n",
        "    pad: パディングサイズ\n",
        "    stride: ストライドサイズ\n",
        "    pool_h: プーリング領域の縦\n",
        "    pool_w: プーリング領域の横\n",
        "    '''\n",
        "    N, C, H, W = x.shape\n",
        "\n",
        "    # 出力の高さ（端数は切り捨てる）\n",
        "    out_h = (H + 2 * pad - pool_h) // stride + 1\n",
        "\n",
        "    # 出力の幅（端数は切り捨てる）\n",
        "    out_w = (W + 2 * pad - pool_w) // stride + 1\n",
        "\n",
        "    # 2次元配列に変換する\n",
        "    col = im2col(x, pool_h, pool_w, stride, pad, constant_values=0)\n",
        "\n",
        "    # チャンネル方向のデータが横に並んでいるので、縦に並び替える\n",
        "    col = col.reshape(-1, pool_h * pool_w)\n",
        "\n",
        "    # 最大値と最大値のインデックス（逆伝播時に使用)を求める\n",
        "    # （ ウ ）\n",
        "    out_idx = np.argmax(col, axis=1)\n",
        "\n",
        "    # 最大値を求める\n",
        "    # （ エ ）\n",
        "    out = np.max(col, axis=1)\n",
        "\n",
        "    # 画像形式に戻して、チャンネル数の軸を2番目に移動させる\n",
        "    out = out.reshape(N, out_h, out_w, C).transpose(0, 3, 1, 2)\n",
        "\n",
        "    return out_idx, out"
      ],
      "metadata": {
        "id": "wqk3SAp5qVHY"
      },
      "execution_count": 3,
      "outputs": []
    },
    {
      "cell_type": "code",
      "source": [
        "def convolution_forward(x, W, b, pad, stride):\n",
        "    '''\n",
        "    x: 入力データ、配列形状 = (データ数、チャンネル数、高さ、幅)\n",
        "    w: フィルタ、配列形状 = (出力チャンネル数、入力チャンネル数、高さ、幅)\n",
        "    b: バイアス\n",
        "    pad: パディングサイズ\n",
        "    stride: ストライドサイズ\n",
        "    '''\n",
        "    FN, C, FH, FW = W.shape\n",
        "    N, C, H, W = x.shape\n",
        "\n",
        "    # 出力の高さ（端数は切り捨てる）\n",
        "    out_h = (H + 2 * pad - FH) // stride + 1\n",
        "\n",
        "    # 出力の幅（端数は切り捨てる）\n",
        "    out_w = (W + 2 * pad - FW) // stride + 1\n",
        "\n",
        "    # 畳み込み演算を効率的に行えるようにするため、入力xを行列colに変換する\n",
        "    col = im2col(x, FH, FW, stride, pad)\n",
        "\n",
        "    # フィルタを2次元配列に変換する\n",
        "    # （ オ ）\n",
        "    col_W = W.reshape(FN, -1).T\n",
        "\n",
        "    # 行列の積を計算す、バイアスを2次元配列に変換する\n",
        "    out = np.dot(col, col_W) + b\n",
        "\n",
        "    # 画像形式に戻して、チャンネルの軸を2番目に移動させる\n",
        "    out = out.reshape(N, out_h, out_w, -1).transpose(0, 3, 1, 2)\n",
        "\n",
        "    return out"
      ],
      "metadata": {
        "id": "wbjMjntWruUV"
      },
      "execution_count": 4,
      "outputs": []
    },
    {
      "cell_type": "code",
      "source": [
        ""
      ],
      "metadata": {
        "id": "vhjXpl8StjFA"
      },
      "execution_count": null,
      "outputs": []
    }
  ]
}