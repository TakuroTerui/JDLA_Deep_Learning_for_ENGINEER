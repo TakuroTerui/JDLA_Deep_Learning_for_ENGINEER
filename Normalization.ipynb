{
  "nbformat": 4,
  "nbformat_minor": 0,
  "metadata": {
    "colab": {
      "name": "Normalization.ipynb",
      "provenance": [],
      "authorship_tag": "ABX9TyN6ZJViNf6fXqgy8cfZpalY"
    },
    "kernelspec": {
      "name": "python3",
      "display_name": "Python 3"
    },
    "language_info": {
      "name": "python"
    }
  },
  "cells": [
    {
      "cell_type": "markdown",
      "source": [
        "### Batch Normalization"
      ],
      "metadata": {
        "id": "ScmfJ6nNIa15"
      }
    },
    {
      "cell_type": "markdown",
      "source": [
        "$$ x_{s} = \\frac{x - \\hat{x}}{\\sigma} $$\n",
        "$$ \\hat{x} = \\sigma x_{s} + \\beta $$"
      ],
      "metadata": {
        "id": "lvju3UqNInpm"
      }
    },
    {
      "cell_type": "markdown",
      "source": [
        "### Layer Normalization"
      ],
      "metadata": {
        "id": "xcZ_n2QxJCsO"
      }
    },
    {
      "cell_type": "markdown",
      "source": [
        "$$\\mu^{l} = \\frac{1}{H} \\sum_{i=1}^{H} \\alpha^{l}_{i}  $$\n",
        "$$\\alpha^{l} = \\sqrt{\\frac{1}{H} \\sum_{i=1}^{H} (\\alpha^{l}_{i} - \\mu^{l})^{2}}  $$"
      ],
      "metadata": {
        "id": "ojEIPKENJElP"
      }
    },
    {
      "cell_type": "markdown",
      "source": [
        "Batch Normalizationが、ミニバッチ毎（サンプル方向）に標準化を行うのに対して、\n",
        "Layer Normalizationは 、1つのサンプルにおける各レイヤーの隠れ層の値の平均・分散で正規化する"
      ],
      "metadata": {
        "id": "pisXqDatK9VA"
      }
    },
    {
      "cell_type": "code",
      "source": [
        "import numpy as np\n",
        "import pandas as pd\n",
        "import torch\n",
        "import torch.nn as nn"
      ],
      "metadata": {
        "id": "QSuRwR7yKFFx"
      },
      "execution_count": 1,
      "outputs": []
    },
    {
      "cell_type": "code",
      "source": [
        "# 画像の作成：(C, H, W) = (3, 28, 28)\n",
        "input = torch.rand(1, 3, 28, 28)\n",
        "input.shape"
      ],
      "metadata": {
        "colab": {
          "base_uri": "https://localhost:8080/"
        },
        "id": "vXlKJ3khKHWd",
        "outputId": "45445dc9-170f-459d-911a-e72eeb0b63e0"
      },
      "execution_count": 2,
      "outputs": [
        {
          "output_type": "execute_result",
          "data": {
            "text/plain": [
              "torch.Size([1, 3, 28, 28])"
            ]
          },
          "metadata": {},
          "execution_count": 2
        }
      ]
    },
    {
      "cell_type": "code",
      "source": [
        "# 画像を確認\n",
        "input"
      ],
      "metadata": {
        "colab": {
          "base_uri": "https://localhost:8080/"
        },
        "id": "kyvCzwAUKId4",
        "outputId": "393837c8-0deb-45f5-d162-c7cc57599bfc"
      },
      "execution_count": 3,
      "outputs": [
        {
          "output_type": "execute_result",
          "data": {
            "text/plain": [
              "tensor([[[[0.2117, 0.5617, 0.9664,  ..., 0.5292, 0.2169, 0.2054],\n",
              "          [0.3558, 0.3703, 0.4561,  ..., 0.7974, 0.5192, 0.6712],\n",
              "          [0.1011, 0.1756, 0.8697,  ..., 0.0114, 0.6608, 0.4918],\n",
              "          ...,\n",
              "          [0.3632, 0.4285, 0.7972,  ..., 0.7495, 0.3126, 0.4290],\n",
              "          [0.3066, 0.3918, 0.4270,  ..., 0.1841, 0.2785, 0.0787],\n",
              "          [0.6787, 0.4572, 0.5339,  ..., 0.9754, 0.4797, 0.7979]],\n",
              "\n",
              "         [[0.2856, 0.2147, 0.3213,  ..., 0.8876, 0.2945, 0.2835],\n",
              "          [0.4598, 0.7339, 0.6797,  ..., 0.0769, 0.8199, 0.2718],\n",
              "          [0.4718, 0.0178, 0.3338,  ..., 0.5118, 0.8639, 0.6437],\n",
              "          ...,\n",
              "          [0.9543, 0.6597, 0.2724,  ..., 0.2706, 0.4850, 0.0444],\n",
              "          [0.3520, 0.1686, 0.8206,  ..., 0.9651, 0.6378, 0.7685],\n",
              "          [0.8162, 0.8924, 0.4770,  ..., 0.0891, 0.1188, 0.7805]],\n",
              "\n",
              "         [[0.6312, 0.1654, 0.4232,  ..., 0.2291, 0.0288, 0.1466],\n",
              "          [0.5285, 0.4453, 0.9092,  ..., 0.7442, 0.3052, 0.8597],\n",
              "          [0.8435, 0.8897, 0.1183,  ..., 0.9692, 0.6061, 0.5157],\n",
              "          ...,\n",
              "          [0.7416, 0.4641, 0.3381,  ..., 0.7667, 0.9582, 0.7585],\n",
              "          [0.0819, 0.6342, 0.3224,  ..., 0.8305, 0.1004, 0.6267],\n",
              "          [0.1977, 0.8575, 0.9444,  ..., 0.0564, 0.9045, 0.0421]]]])"
            ]
          },
          "metadata": {},
          "execution_count": 3
        }
      ]
    },
    {
      "cell_type": "code",
      "source": [
        "LN = nn.LayerNorm(input.size()[1:])\n",
        "LN"
      ],
      "metadata": {
        "colab": {
          "base_uri": "https://localhost:8080/"
        },
        "id": "JwZR0GNTKJ7O",
        "outputId": "7ac6df38-fa9e-44db-ad86-89af91065330"
      },
      "execution_count": 4,
      "outputs": [
        {
          "output_type": "execute_result",
          "data": {
            "text/plain": [
              "LayerNorm((3, 28, 28), eps=1e-05, elementwise_affine=True)"
            ]
          },
          "metadata": {},
          "execution_count": 4
        }
      ]
    },
    {
      "cell_type": "code",
      "source": [
        "out = LN(input)\n",
        "out.shape"
      ],
      "metadata": {
        "colab": {
          "base_uri": "https://localhost:8080/"
        },
        "id": "mzLiuVmNKPJ6",
        "outputId": "9364e6b7-44a4-4704-f2df-c5c27d8f0c73"
      },
      "execution_count": 5,
      "outputs": [
        {
          "output_type": "execute_result",
          "data": {
            "text/plain": [
              "torch.Size([1, 3, 28, 28])"
            ]
          },
          "metadata": {},
          "execution_count": 5
        }
      ]
    },
    {
      "cell_type": "code",
      "source": [
        "input.view(-1)"
      ],
      "metadata": {
        "colab": {
          "base_uri": "https://localhost:8080/"
        },
        "id": "uJ9Q6Ye9KREh",
        "outputId": "4096258c-bdce-4f28-b73e-b55a717b11be"
      },
      "execution_count": 6,
      "outputs": [
        {
          "output_type": "execute_result",
          "data": {
            "text/plain": [
              "tensor([0.2117, 0.5617, 0.9664,  ..., 0.0564, 0.9045, 0.0421])"
            ]
          },
          "metadata": {},
          "execution_count": 6
        }
      ]
    },
    {
      "cell_type": "code",
      "source": [
        "print(f'入力の標準偏差：{input.view(-1).std()}')\n",
        "print(f'入力の平均：{input.view(-1).mean()}')"
      ],
      "metadata": {
        "colab": {
          "base_uri": "https://localhost:8080/"
        },
        "id": "D_X5Vx3-KY3K",
        "outputId": "15f34790-6993-4d90-d2f1-ead2e3ad72ed"
      },
      "execution_count": 7,
      "outputs": [
        {
          "output_type": "stream",
          "name": "stdout",
          "text": [
            "入力の標準偏差：0.28660666942596436\n",
            "入力の平均：0.5007555484771729\n"
          ]
        }
      ]
    },
    {
      "cell_type": "code",
      "source": [
        "print(f'出力の標準偏差：{out.view(-1).std()}')\n",
        "print(f'出力の平均：{out.view(-1).mean()}')"
      ],
      "metadata": {
        "colab": {
          "base_uri": "https://localhost:8080/"
        },
        "id": "yfuPvUuaKkL0",
        "outputId": "881db485-e554-4d1f-dfcc-1ad66e11a2b6"
      },
      "execution_count": 8,
      "outputs": [
        {
          "output_type": "stream",
          "name": "stdout",
          "text": [
            "出力の標準偏差：1.0001517534255981\n",
            "出力の平均：-3.308666123302828e-07\n"
          ]
        }
      ]
    },
    {
      "cell_type": "markdown",
      "source": [
        "### Instance Normalization"
      ],
      "metadata": {
        "id": "mjNKpi25Klvi"
      }
    },
    {
      "cell_type": "markdown",
      "source": [
        "Batch Normalizationが、ミニバッチ毎（サンプル方向）に標準化を行うのに対して、\n",
        "Instance Normalizationは 、各チャネル独立に画像の縦横方向についてのみ使用して計算した\n",
        "平均・分散で標準化する"
      ],
      "metadata": {
        "id": "Mnq44TblK3fK"
      }
    },
    {
      "cell_type": "markdown",
      "source": [
        "$$\\mu_{ti} = \\frac{1}{HW} \\sum_{l=1}^{W} \\sum_{m=1}^{H} x_{tilm}  $$\n",
        "$$\\alpha_{ti} = \\sqrt{\\frac{1}{HW} \\sum_{l=1}^{W} \\sum_{m=1}^{H} (x_{tilm} - \\mu_{ti})}  $$"
      ],
      "metadata": {
        "id": "WTkQ3ecXLM8r"
      }
    },
    {
      "cell_type": "code",
      "source": [
        "IN = nn.InstanceNorm2d(input.size(1))\n",
        "IN"
      ],
      "metadata": {
        "colab": {
          "base_uri": "https://localhost:8080/"
        },
        "id": "WmNDB43fMAZD",
        "outputId": "5837ad05-baa2-4891-b3a7-4c86b164651f"
      },
      "execution_count": 9,
      "outputs": [
        {
          "output_type": "execute_result",
          "data": {
            "text/plain": [
              "InstanceNorm2d(3, eps=1e-05, momentum=0.1, affine=False, track_running_stats=False)"
            ]
          },
          "metadata": {},
          "execution_count": 9
        }
      ]
    },
    {
      "cell_type": "code",
      "source": [
        "out = IN(input)\n",
        "out.shape"
      ],
      "metadata": {
        "colab": {
          "base_uri": "https://localhost:8080/"
        },
        "id": "Hh56zhiOMCK4",
        "outputId": "06cc08f4-13d0-4097-beae-ef4334caf51e"
      },
      "execution_count": 10,
      "outputs": [
        {
          "output_type": "execute_result",
          "data": {
            "text/plain": [
              "torch.Size([1, 3, 28, 28])"
            ]
          },
          "metadata": {},
          "execution_count": 10
        }
      ]
    },
    {
      "cell_type": "code",
      "source": [
        "out_channel1 = out[0][0].view(-1)\n",
        "\n",
        "print(f'出力の平均：{out_channel1.mean()}')\n",
        "print(f'出力の標準偏差：{out_channel1.std()}')"
      ],
      "metadata": {
        "colab": {
          "base_uri": "https://localhost:8080/"
        },
        "id": "2ar0fy0oMDbk",
        "outputId": "b301d692-318f-4a85-dd43-513c50123802"
      },
      "execution_count": 11,
      "outputs": [
        {
          "output_type": "stream",
          "name": "stdout",
          "text": [
            "出力の平均：-1.459705600836969e-07\n",
            "出力の標準偏差：1.0005773305892944\n"
          ]
        }
      ]
    },
    {
      "cell_type": "code",
      "source": [
        ""
      ],
      "metadata": {
        "id": "CqjNd2DpMHXc"
      },
      "execution_count": null,
      "outputs": []
    }
  ]
}