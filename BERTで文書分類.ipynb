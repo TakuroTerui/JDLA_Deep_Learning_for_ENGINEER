{
  "nbformat": 4,
  "nbformat_minor": 0,
  "metadata": {
    "colab": {
      "name": "BERTで文書分類.ipynb",
      "provenance": [],
      "authorship_tag": "ABX9TyMfKY4Y6ahjdHRbL9KH7qg4"
    },
    "kernelspec": {
      "name": "python3",
      "display_name": "Python 3"
    },
    "language_info": {
      "name": "python"
    },
    "accelerator": "GPU",
    "widgets": {
      "application/vnd.jupyter.widget-state+json": {
        "546df4f2a9024a2ab71fb53fd8518970": {
          "model_module": "@jupyter-widgets/controls",
          "model_name": "HBoxModel",
          "model_module_version": "1.5.0",
          "state": {
            "_dom_classes": [],
            "_model_module": "@jupyter-widgets/controls",
            "_model_module_version": "1.5.0",
            "_model_name": "HBoxModel",
            "_view_count": null,
            "_view_module": "@jupyter-widgets/controls",
            "_view_module_version": "1.5.0",
            "_view_name": "HBoxView",
            "box_style": "",
            "children": [
              "IPY_MODEL_df57603e95ca4b05993c807b34ad30f4",
              "IPY_MODEL_2e961b1340164470a52f65e96d8afb3f",
              "IPY_MODEL_b8b2532241e4484db492015ab71d53c8"
            ],
            "layout": "IPY_MODEL_cad1a1903e0d42a080ab3dd7bb6cc7c5"
          }
        },
        "df57603e95ca4b05993c807b34ad30f4": {
          "model_module": "@jupyter-widgets/controls",
          "model_name": "HTMLModel",
          "model_module_version": "1.5.0",
          "state": {
            "_dom_classes": [],
            "_model_module": "@jupyter-widgets/controls",
            "_model_module_version": "1.5.0",
            "_model_name": "HTMLModel",
            "_view_count": null,
            "_view_module": "@jupyter-widgets/controls",
            "_view_module_version": "1.5.0",
            "_view_name": "HTMLView",
            "description": "",
            "description_tooltip": null,
            "layout": "IPY_MODEL_b0c1b809fcf94c54be649c039be08765",
            "placeholder": "​",
            "style": "IPY_MODEL_72c99ac7b46a4afe830fdf402670f547",
            "value": "Downloading: 100%"
          }
        },
        "2e961b1340164470a52f65e96d8afb3f": {
          "model_module": "@jupyter-widgets/controls",
          "model_name": "FloatProgressModel",
          "model_module_version": "1.5.0",
          "state": {
            "_dom_classes": [],
            "_model_module": "@jupyter-widgets/controls",
            "_model_module_version": "1.5.0",
            "_model_name": "FloatProgressModel",
            "_view_count": null,
            "_view_module": "@jupyter-widgets/controls",
            "_view_module_version": "1.5.0",
            "_view_name": "ProgressView",
            "bar_style": "success",
            "description": "",
            "description_tooltip": null,
            "layout": "IPY_MODEL_1f61997d9f3e48e688792c85e6288081",
            "max": 257706,
            "min": 0,
            "orientation": "horizontal",
            "style": "IPY_MODEL_6a65b24c0de34c4ab2a464ba426c1f2a",
            "value": 257706
          }
        },
        "b8b2532241e4484db492015ab71d53c8": {
          "model_module": "@jupyter-widgets/controls",
          "model_name": "HTMLModel",
          "model_module_version": "1.5.0",
          "state": {
            "_dom_classes": [],
            "_model_module": "@jupyter-widgets/controls",
            "_model_module_version": "1.5.0",
            "_model_name": "HTMLModel",
            "_view_count": null,
            "_view_module": "@jupyter-widgets/controls",
            "_view_module_version": "1.5.0",
            "_view_name": "HTMLView",
            "description": "",
            "description_tooltip": null,
            "layout": "IPY_MODEL_9c31fcdcda6e46d5a7c8f5ad03206b21",
            "placeholder": "​",
            "style": "IPY_MODEL_4c4f2f43f87c40ea8258edb6689fbe27",
            "value": " 258k/258k [00:00&lt;00:00, 982kB/s]"
          }
        },
        "cad1a1903e0d42a080ab3dd7bb6cc7c5": {
          "model_module": "@jupyter-widgets/base",
          "model_name": "LayoutModel",
          "model_module_version": "1.2.0",
          "state": {
            "_model_module": "@jupyter-widgets/base",
            "_model_module_version": "1.2.0",
            "_model_name": "LayoutModel",
            "_view_count": null,
            "_view_module": "@jupyter-widgets/base",
            "_view_module_version": "1.2.0",
            "_view_name": "LayoutView",
            "align_content": null,
            "align_items": null,
            "align_self": null,
            "border": null,
            "bottom": null,
            "display": null,
            "flex": null,
            "flex_flow": null,
            "grid_area": null,
            "grid_auto_columns": null,
            "grid_auto_flow": null,
            "grid_auto_rows": null,
            "grid_column": null,
            "grid_gap": null,
            "grid_row": null,
            "grid_template_areas": null,
            "grid_template_columns": null,
            "grid_template_rows": null,
            "height": null,
            "justify_content": null,
            "justify_items": null,
            "left": null,
            "margin": null,
            "max_height": null,
            "max_width": null,
            "min_height": null,
            "min_width": null,
            "object_fit": null,
            "object_position": null,
            "order": null,
            "overflow": null,
            "overflow_x": null,
            "overflow_y": null,
            "padding": null,
            "right": null,
            "top": null,
            "visibility": null,
            "width": null
          }
        },
        "b0c1b809fcf94c54be649c039be08765": {
          "model_module": "@jupyter-widgets/base",
          "model_name": "LayoutModel",
          "model_module_version": "1.2.0",
          "state": {
            "_model_module": "@jupyter-widgets/base",
            "_model_module_version": "1.2.0",
            "_model_name": "LayoutModel",
            "_view_count": null,
            "_view_module": "@jupyter-widgets/base",
            "_view_module_version": "1.2.0",
            "_view_name": "LayoutView",
            "align_content": null,
            "align_items": null,
            "align_self": null,
            "border": null,
            "bottom": null,
            "display": null,
            "flex": null,
            "flex_flow": null,
            "grid_area": null,
            "grid_auto_columns": null,
            "grid_auto_flow": null,
            "grid_auto_rows": null,
            "grid_column": null,
            "grid_gap": null,
            "grid_row": null,
            "grid_template_areas": null,
            "grid_template_columns": null,
            "grid_template_rows": null,
            "height": null,
            "justify_content": null,
            "justify_items": null,
            "left": null,
            "margin": null,
            "max_height": null,
            "max_width": null,
            "min_height": null,
            "min_width": null,
            "object_fit": null,
            "object_position": null,
            "order": null,
            "overflow": null,
            "overflow_x": null,
            "overflow_y": null,
            "padding": null,
            "right": null,
            "top": null,
            "visibility": null,
            "width": null
          }
        },
        "72c99ac7b46a4afe830fdf402670f547": {
          "model_module": "@jupyter-widgets/controls",
          "model_name": "DescriptionStyleModel",
          "model_module_version": "1.5.0",
          "state": {
            "_model_module": "@jupyter-widgets/controls",
            "_model_module_version": "1.5.0",
            "_model_name": "DescriptionStyleModel",
            "_view_count": null,
            "_view_module": "@jupyter-widgets/base",
            "_view_module_version": "1.2.0",
            "_view_name": "StyleView",
            "description_width": ""
          }
        },
        "1f61997d9f3e48e688792c85e6288081": {
          "model_module": "@jupyter-widgets/base",
          "model_name": "LayoutModel",
          "model_module_version": "1.2.0",
          "state": {
            "_model_module": "@jupyter-widgets/base",
            "_model_module_version": "1.2.0",
            "_model_name": "LayoutModel",
            "_view_count": null,
            "_view_module": "@jupyter-widgets/base",
            "_view_module_version": "1.2.0",
            "_view_name": "LayoutView",
            "align_content": null,
            "align_items": null,
            "align_self": null,
            "border": null,
            "bottom": null,
            "display": null,
            "flex": null,
            "flex_flow": null,
            "grid_area": null,
            "grid_auto_columns": null,
            "grid_auto_flow": null,
            "grid_auto_rows": null,
            "grid_column": null,
            "grid_gap": null,
            "grid_row": null,
            "grid_template_areas": null,
            "grid_template_columns": null,
            "grid_template_rows": null,
            "height": null,
            "justify_content": null,
            "justify_items": null,
            "left": null,
            "margin": null,
            "max_height": null,
            "max_width": null,
            "min_height": null,
            "min_width": null,
            "object_fit": null,
            "object_position": null,
            "order": null,
            "overflow": null,
            "overflow_x": null,
            "overflow_y": null,
            "padding": null,
            "right": null,
            "top": null,
            "visibility": null,
            "width": null
          }
        },
        "6a65b24c0de34c4ab2a464ba426c1f2a": {
          "model_module": "@jupyter-widgets/controls",
          "model_name": "ProgressStyleModel",
          "model_module_version": "1.5.0",
          "state": {
            "_model_module": "@jupyter-widgets/controls",
            "_model_module_version": "1.5.0",
            "_model_name": "ProgressStyleModel",
            "_view_count": null,
            "_view_module": "@jupyter-widgets/base",
            "_view_module_version": "1.2.0",
            "_view_name": "StyleView",
            "bar_color": null,
            "description_width": ""
          }
        },
        "9c31fcdcda6e46d5a7c8f5ad03206b21": {
          "model_module": "@jupyter-widgets/base",
          "model_name": "LayoutModel",
          "model_module_version": "1.2.0",
          "state": {
            "_model_module": "@jupyter-widgets/base",
            "_model_module_version": "1.2.0",
            "_model_name": "LayoutModel",
            "_view_count": null,
            "_view_module": "@jupyter-widgets/base",
            "_view_module_version": "1.2.0",
            "_view_name": "LayoutView",
            "align_content": null,
            "align_items": null,
            "align_self": null,
            "border": null,
            "bottom": null,
            "display": null,
            "flex": null,
            "flex_flow": null,
            "grid_area": null,
            "grid_auto_columns": null,
            "grid_auto_flow": null,
            "grid_auto_rows": null,
            "grid_column": null,
            "grid_gap": null,
            "grid_row": null,
            "grid_template_areas": null,
            "grid_template_columns": null,
            "grid_template_rows": null,
            "height": null,
            "justify_content": null,
            "justify_items": null,
            "left": null,
            "margin": null,
            "max_height": null,
            "max_width": null,
            "min_height": null,
            "min_width": null,
            "object_fit": null,
            "object_position": null,
            "order": null,
            "overflow": null,
            "overflow_x": null,
            "overflow_y": null,
            "padding": null,
            "right": null,
            "top": null,
            "visibility": null,
            "width": null
          }
        },
        "4c4f2f43f87c40ea8258edb6689fbe27": {
          "model_module": "@jupyter-widgets/controls",
          "model_name": "DescriptionStyleModel",
          "model_module_version": "1.5.0",
          "state": {
            "_model_module": "@jupyter-widgets/controls",
            "_model_module_version": "1.5.0",
            "_model_name": "DescriptionStyleModel",
            "_view_count": null,
            "_view_module": "@jupyter-widgets/base",
            "_view_module_version": "1.2.0",
            "_view_name": "StyleView",
            "description_width": ""
          }
        },
        "22e7fc258cb9445dae66ed856a482b4d": {
          "model_module": "@jupyter-widgets/controls",
          "model_name": "HBoxModel",
          "model_module_version": "1.5.0",
          "state": {
            "_dom_classes": [],
            "_model_module": "@jupyter-widgets/controls",
            "_model_module_version": "1.5.0",
            "_model_name": "HBoxModel",
            "_view_count": null,
            "_view_module": "@jupyter-widgets/controls",
            "_view_module_version": "1.5.0",
            "_view_name": "HBoxView",
            "box_style": "",
            "children": [
              "IPY_MODEL_0b3c3dd1337546ef80b2212f0c2e9fa7",
              "IPY_MODEL_0a933b6aabb14f15a7c7fc4c2abcad6b",
              "IPY_MODEL_8bae584ec7ac445e87736eb7c40f3ee7"
            ],
            "layout": "IPY_MODEL_2af1946ff4ec49fd90d3f353e655fbc1"
          }
        },
        "0b3c3dd1337546ef80b2212f0c2e9fa7": {
          "model_module": "@jupyter-widgets/controls",
          "model_name": "HTMLModel",
          "model_module_version": "1.5.0",
          "state": {
            "_dom_classes": [],
            "_model_module": "@jupyter-widgets/controls",
            "_model_module_version": "1.5.0",
            "_model_name": "HTMLModel",
            "_view_count": null,
            "_view_module": "@jupyter-widgets/controls",
            "_view_module_version": "1.5.0",
            "_view_name": "HTMLView",
            "description": "",
            "description_tooltip": null,
            "layout": "IPY_MODEL_e834bf2faf27441cb6a2bb8fef98def1",
            "placeholder": "​",
            "style": "IPY_MODEL_c7f6a9dba405425aaa62b00783a8e62f",
            "value": "Downloading: 100%"
          }
        },
        "0a933b6aabb14f15a7c7fc4c2abcad6b": {
          "model_module": "@jupyter-widgets/controls",
          "model_name": "FloatProgressModel",
          "model_module_version": "1.5.0",
          "state": {
            "_dom_classes": [],
            "_model_module": "@jupyter-widgets/controls",
            "_model_module_version": "1.5.0",
            "_model_name": "FloatProgressModel",
            "_view_count": null,
            "_view_module": "@jupyter-widgets/controls",
            "_view_module_version": "1.5.0",
            "_view_name": "ProgressView",
            "bar_style": "success",
            "description": "",
            "description_tooltip": null,
            "layout": "IPY_MODEL_224bfb2d23ee4317a3d67bfb3a6ca7cd",
            "max": 110,
            "min": 0,
            "orientation": "horizontal",
            "style": "IPY_MODEL_ac11bbc6ed7747d188171e7a3ae85157",
            "value": 110
          }
        },
        "8bae584ec7ac445e87736eb7c40f3ee7": {
          "model_module": "@jupyter-widgets/controls",
          "model_name": "HTMLModel",
          "model_module_version": "1.5.0",
          "state": {
            "_dom_classes": [],
            "_model_module": "@jupyter-widgets/controls",
            "_model_module_version": "1.5.0",
            "_model_name": "HTMLModel",
            "_view_count": null,
            "_view_module": "@jupyter-widgets/controls",
            "_view_module_version": "1.5.0",
            "_view_name": "HTMLView",
            "description": "",
            "description_tooltip": null,
            "layout": "IPY_MODEL_d4baa6cf17db45d290dc0c04e10b9fec",
            "placeholder": "​",
            "style": "IPY_MODEL_978fcb3e07e44c5c9b4bdc18146ac665",
            "value": " 110/110 [00:00&lt;00:00, 2.82kB/s]"
          }
        },
        "2af1946ff4ec49fd90d3f353e655fbc1": {
          "model_module": "@jupyter-widgets/base",
          "model_name": "LayoutModel",
          "model_module_version": "1.2.0",
          "state": {
            "_model_module": "@jupyter-widgets/base",
            "_model_module_version": "1.2.0",
            "_model_name": "LayoutModel",
            "_view_count": null,
            "_view_module": "@jupyter-widgets/base",
            "_view_module_version": "1.2.0",
            "_view_name": "LayoutView",
            "align_content": null,
            "align_items": null,
            "align_self": null,
            "border": null,
            "bottom": null,
            "display": null,
            "flex": null,
            "flex_flow": null,
            "grid_area": null,
            "grid_auto_columns": null,
            "grid_auto_flow": null,
            "grid_auto_rows": null,
            "grid_column": null,
            "grid_gap": null,
            "grid_row": null,
            "grid_template_areas": null,
            "grid_template_columns": null,
            "grid_template_rows": null,
            "height": null,
            "justify_content": null,
            "justify_items": null,
            "left": null,
            "margin": null,
            "max_height": null,
            "max_width": null,
            "min_height": null,
            "min_width": null,
            "object_fit": null,
            "object_position": null,
            "order": null,
            "overflow": null,
            "overflow_x": null,
            "overflow_y": null,
            "padding": null,
            "right": null,
            "top": null,
            "visibility": null,
            "width": null
          }
        },
        "e834bf2faf27441cb6a2bb8fef98def1": {
          "model_module": "@jupyter-widgets/base",
          "model_name": "LayoutModel",
          "model_module_version": "1.2.0",
          "state": {
            "_model_module": "@jupyter-widgets/base",
            "_model_module_version": "1.2.0",
            "_model_name": "LayoutModel",
            "_view_count": null,
            "_view_module": "@jupyter-widgets/base",
            "_view_module_version": "1.2.0",
            "_view_name": "LayoutView",
            "align_content": null,
            "align_items": null,
            "align_self": null,
            "border": null,
            "bottom": null,
            "display": null,
            "flex": null,
            "flex_flow": null,
            "grid_area": null,
            "grid_auto_columns": null,
            "grid_auto_flow": null,
            "grid_auto_rows": null,
            "grid_column": null,
            "grid_gap": null,
            "grid_row": null,
            "grid_template_areas": null,
            "grid_template_columns": null,
            "grid_template_rows": null,
            "height": null,
            "justify_content": null,
            "justify_items": null,
            "left": null,
            "margin": null,
            "max_height": null,
            "max_width": null,
            "min_height": null,
            "min_width": null,
            "object_fit": null,
            "object_position": null,
            "order": null,
            "overflow": null,
            "overflow_x": null,
            "overflow_y": null,
            "padding": null,
            "right": null,
            "top": null,
            "visibility": null,
            "width": null
          }
        },
        "c7f6a9dba405425aaa62b00783a8e62f": {
          "model_module": "@jupyter-widgets/controls",
          "model_name": "DescriptionStyleModel",
          "model_module_version": "1.5.0",
          "state": {
            "_model_module": "@jupyter-widgets/controls",
            "_model_module_version": "1.5.0",
            "_model_name": "DescriptionStyleModel",
            "_view_count": null,
            "_view_module": "@jupyter-widgets/base",
            "_view_module_version": "1.2.0",
            "_view_name": "StyleView",
            "description_width": ""
          }
        },
        "224bfb2d23ee4317a3d67bfb3a6ca7cd": {
          "model_module": "@jupyter-widgets/base",
          "model_name": "LayoutModel",
          "model_module_version": "1.2.0",
          "state": {
            "_model_module": "@jupyter-widgets/base",
            "_model_module_version": "1.2.0",
            "_model_name": "LayoutModel",
            "_view_count": null,
            "_view_module": "@jupyter-widgets/base",
            "_view_module_version": "1.2.0",
            "_view_name": "LayoutView",
            "align_content": null,
            "align_items": null,
            "align_self": null,
            "border": null,
            "bottom": null,
            "display": null,
            "flex": null,
            "flex_flow": null,
            "grid_area": null,
            "grid_auto_columns": null,
            "grid_auto_flow": null,
            "grid_auto_rows": null,
            "grid_column": null,
            "grid_gap": null,
            "grid_row": null,
            "grid_template_areas": null,
            "grid_template_columns": null,
            "grid_template_rows": null,
            "height": null,
            "justify_content": null,
            "justify_items": null,
            "left": null,
            "margin": null,
            "max_height": null,
            "max_width": null,
            "min_height": null,
            "min_width": null,
            "object_fit": null,
            "object_position": null,
            "order": null,
            "overflow": null,
            "overflow_x": null,
            "overflow_y": null,
            "padding": null,
            "right": null,
            "top": null,
            "visibility": null,
            "width": null
          }
        },
        "ac11bbc6ed7747d188171e7a3ae85157": {
          "model_module": "@jupyter-widgets/controls",
          "model_name": "ProgressStyleModel",
          "model_module_version": "1.5.0",
          "state": {
            "_model_module": "@jupyter-widgets/controls",
            "_model_module_version": "1.5.0",
            "_model_name": "ProgressStyleModel",
            "_view_count": null,
            "_view_module": "@jupyter-widgets/base",
            "_view_module_version": "1.2.0",
            "_view_name": "StyleView",
            "bar_color": null,
            "description_width": ""
          }
        },
        "d4baa6cf17db45d290dc0c04e10b9fec": {
          "model_module": "@jupyter-widgets/base",
          "model_name": "LayoutModel",
          "model_module_version": "1.2.0",
          "state": {
            "_model_module": "@jupyter-widgets/base",
            "_model_module_version": "1.2.0",
            "_model_name": "LayoutModel",
            "_view_count": null,
            "_view_module": "@jupyter-widgets/base",
            "_view_module_version": "1.2.0",
            "_view_name": "LayoutView",
            "align_content": null,
            "align_items": null,
            "align_self": null,
            "border": null,
            "bottom": null,
            "display": null,
            "flex": null,
            "flex_flow": null,
            "grid_area": null,
            "grid_auto_columns": null,
            "grid_auto_flow": null,
            "grid_auto_rows": null,
            "grid_column": null,
            "grid_gap": null,
            "grid_row": null,
            "grid_template_areas": null,
            "grid_template_columns": null,
            "grid_template_rows": null,
            "height": null,
            "justify_content": null,
            "justify_items": null,
            "left": null,
            "margin": null,
            "max_height": null,
            "max_width": null,
            "min_height": null,
            "min_width": null,
            "object_fit": null,
            "object_position": null,
            "order": null,
            "overflow": null,
            "overflow_x": null,
            "overflow_y": null,
            "padding": null,
            "right": null,
            "top": null,
            "visibility": null,
            "width": null
          }
        },
        "978fcb3e07e44c5c9b4bdc18146ac665": {
          "model_module": "@jupyter-widgets/controls",
          "model_name": "DescriptionStyleModel",
          "model_module_version": "1.5.0",
          "state": {
            "_model_module": "@jupyter-widgets/controls",
            "_model_module_version": "1.5.0",
            "_model_name": "DescriptionStyleModel",
            "_view_count": null,
            "_view_module": "@jupyter-widgets/base",
            "_view_module_version": "1.2.0",
            "_view_name": "StyleView",
            "description_width": ""
          }
        },
        "5a1807987af34042b0e9e56179d79ba3": {
          "model_module": "@jupyter-widgets/controls",
          "model_name": "HBoxModel",
          "model_module_version": "1.5.0",
          "state": {
            "_dom_classes": [],
            "_model_module": "@jupyter-widgets/controls",
            "_model_module_version": "1.5.0",
            "_model_name": "HBoxModel",
            "_view_count": null,
            "_view_module": "@jupyter-widgets/controls",
            "_view_module_version": "1.5.0",
            "_view_name": "HBoxView",
            "box_style": "",
            "children": [
              "IPY_MODEL_24e88357df754c5594c7e8f8b6de2745",
              "IPY_MODEL_7500d2aa07cb4122b4757112a2483a34",
              "IPY_MODEL_62868976d6654d5ba4a9cdcba2df575b"
            ],
            "layout": "IPY_MODEL_9a86bcac9ebc4637874bb3e45bf75c11"
          }
        },
        "24e88357df754c5594c7e8f8b6de2745": {
          "model_module": "@jupyter-widgets/controls",
          "model_name": "HTMLModel",
          "model_module_version": "1.5.0",
          "state": {
            "_dom_classes": [],
            "_model_module": "@jupyter-widgets/controls",
            "_model_module_version": "1.5.0",
            "_model_name": "HTMLModel",
            "_view_count": null,
            "_view_module": "@jupyter-widgets/controls",
            "_view_module_version": "1.5.0",
            "_view_name": "HTMLView",
            "description": "",
            "description_tooltip": null,
            "layout": "IPY_MODEL_ac4f453df25d442d85a0ddfd5225838c",
            "placeholder": "​",
            "style": "IPY_MODEL_5e19b41676394414b3c5943a81a131fe",
            "value": "Downloading: 100%"
          }
        },
        "7500d2aa07cb4122b4757112a2483a34": {
          "model_module": "@jupyter-widgets/controls",
          "model_name": "FloatProgressModel",
          "model_module_version": "1.5.0",
          "state": {
            "_dom_classes": [],
            "_model_module": "@jupyter-widgets/controls",
            "_model_module_version": "1.5.0",
            "_model_name": "FloatProgressModel",
            "_view_count": null,
            "_view_module": "@jupyter-widgets/controls",
            "_view_module_version": "1.5.0",
            "_view_name": "ProgressView",
            "bar_style": "success",
            "description": "",
            "description_tooltip": null,
            "layout": "IPY_MODEL_ae525f70a38447d49edad1e2c57e1ed8",
            "max": 479,
            "min": 0,
            "orientation": "horizontal",
            "style": "IPY_MODEL_6757f2221332412e9f011f0e26912bd3",
            "value": 479
          }
        },
        "62868976d6654d5ba4a9cdcba2df575b": {
          "model_module": "@jupyter-widgets/controls",
          "model_name": "HTMLModel",
          "model_module_version": "1.5.0",
          "state": {
            "_dom_classes": [],
            "_model_module": "@jupyter-widgets/controls",
            "_model_module_version": "1.5.0",
            "_model_name": "HTMLModel",
            "_view_count": null,
            "_view_module": "@jupyter-widgets/controls",
            "_view_module_version": "1.5.0",
            "_view_name": "HTMLView",
            "description": "",
            "description_tooltip": null,
            "layout": "IPY_MODEL_c66b6d9fa0ca4c4285a297a2e9e9e072",
            "placeholder": "​",
            "style": "IPY_MODEL_e8cd60c6a2af4354bec03738261253ad",
            "value": " 479/479 [00:00&lt;00:00, 4.10kB/s]"
          }
        },
        "9a86bcac9ebc4637874bb3e45bf75c11": {
          "model_module": "@jupyter-widgets/base",
          "model_name": "LayoutModel",
          "model_module_version": "1.2.0",
          "state": {
            "_model_module": "@jupyter-widgets/base",
            "_model_module_version": "1.2.0",
            "_model_name": "LayoutModel",
            "_view_count": null,
            "_view_module": "@jupyter-widgets/base",
            "_view_module_version": "1.2.0",
            "_view_name": "LayoutView",
            "align_content": null,
            "align_items": null,
            "align_self": null,
            "border": null,
            "bottom": null,
            "display": null,
            "flex": null,
            "flex_flow": null,
            "grid_area": null,
            "grid_auto_columns": null,
            "grid_auto_flow": null,
            "grid_auto_rows": null,
            "grid_column": null,
            "grid_gap": null,
            "grid_row": null,
            "grid_template_areas": null,
            "grid_template_columns": null,
            "grid_template_rows": null,
            "height": null,
            "justify_content": null,
            "justify_items": null,
            "left": null,
            "margin": null,
            "max_height": null,
            "max_width": null,
            "min_height": null,
            "min_width": null,
            "object_fit": null,
            "object_position": null,
            "order": null,
            "overflow": null,
            "overflow_x": null,
            "overflow_y": null,
            "padding": null,
            "right": null,
            "top": null,
            "visibility": null,
            "width": null
          }
        },
        "ac4f453df25d442d85a0ddfd5225838c": {
          "model_module": "@jupyter-widgets/base",
          "model_name": "LayoutModel",
          "model_module_version": "1.2.0",
          "state": {
            "_model_module": "@jupyter-widgets/base",
            "_model_module_version": "1.2.0",
            "_model_name": "LayoutModel",
            "_view_count": null,
            "_view_module": "@jupyter-widgets/base",
            "_view_module_version": "1.2.0",
            "_view_name": "LayoutView",
            "align_content": null,
            "align_items": null,
            "align_self": null,
            "border": null,
            "bottom": null,
            "display": null,
            "flex": null,
            "flex_flow": null,
            "grid_area": null,
            "grid_auto_columns": null,
            "grid_auto_flow": null,
            "grid_auto_rows": null,
            "grid_column": null,
            "grid_gap": null,
            "grid_row": null,
            "grid_template_areas": null,
            "grid_template_columns": null,
            "grid_template_rows": null,
            "height": null,
            "justify_content": null,
            "justify_items": null,
            "left": null,
            "margin": null,
            "max_height": null,
            "max_width": null,
            "min_height": null,
            "min_width": null,
            "object_fit": null,
            "object_position": null,
            "order": null,
            "overflow": null,
            "overflow_x": null,
            "overflow_y": null,
            "padding": null,
            "right": null,
            "top": null,
            "visibility": null,
            "width": null
          }
        },
        "5e19b41676394414b3c5943a81a131fe": {
          "model_module": "@jupyter-widgets/controls",
          "model_name": "DescriptionStyleModel",
          "model_module_version": "1.5.0",
          "state": {
            "_model_module": "@jupyter-widgets/controls",
            "_model_module_version": "1.5.0",
            "_model_name": "DescriptionStyleModel",
            "_view_count": null,
            "_view_module": "@jupyter-widgets/base",
            "_view_module_version": "1.2.0",
            "_view_name": "StyleView",
            "description_width": ""
          }
        },
        "ae525f70a38447d49edad1e2c57e1ed8": {
          "model_module": "@jupyter-widgets/base",
          "model_name": "LayoutModel",
          "model_module_version": "1.2.0",
          "state": {
            "_model_module": "@jupyter-widgets/base",
            "_model_module_version": "1.2.0",
            "_model_name": "LayoutModel",
            "_view_count": null,
            "_view_module": "@jupyter-widgets/base",
            "_view_module_version": "1.2.0",
            "_view_name": "LayoutView",
            "align_content": null,
            "align_items": null,
            "align_self": null,
            "border": null,
            "bottom": null,
            "display": null,
            "flex": null,
            "flex_flow": null,
            "grid_area": null,
            "grid_auto_columns": null,
            "grid_auto_flow": null,
            "grid_auto_rows": null,
            "grid_column": null,
            "grid_gap": null,
            "grid_row": null,
            "grid_template_areas": null,
            "grid_template_columns": null,
            "grid_template_rows": null,
            "height": null,
            "justify_content": null,
            "justify_items": null,
            "left": null,
            "margin": null,
            "max_height": null,
            "max_width": null,
            "min_height": null,
            "min_width": null,
            "object_fit": null,
            "object_position": null,
            "order": null,
            "overflow": null,
            "overflow_x": null,
            "overflow_y": null,
            "padding": null,
            "right": null,
            "top": null,
            "visibility": null,
            "width": null
          }
        },
        "6757f2221332412e9f011f0e26912bd3": {
          "model_module": "@jupyter-widgets/controls",
          "model_name": "ProgressStyleModel",
          "model_module_version": "1.5.0",
          "state": {
            "_model_module": "@jupyter-widgets/controls",
            "_model_module_version": "1.5.0",
            "_model_name": "ProgressStyleModel",
            "_view_count": null,
            "_view_module": "@jupyter-widgets/base",
            "_view_module_version": "1.2.0",
            "_view_name": "StyleView",
            "bar_color": null,
            "description_width": ""
          }
        },
        "c66b6d9fa0ca4c4285a297a2e9e9e072": {
          "model_module": "@jupyter-widgets/base",
          "model_name": "LayoutModel",
          "model_module_version": "1.2.0",
          "state": {
            "_model_module": "@jupyter-widgets/base",
            "_model_module_version": "1.2.0",
            "_model_name": "LayoutModel",
            "_view_count": null,
            "_view_module": "@jupyter-widgets/base",
            "_view_module_version": "1.2.0",
            "_view_name": "LayoutView",
            "align_content": null,
            "align_items": null,
            "align_self": null,
            "border": null,
            "bottom": null,
            "display": null,
            "flex": null,
            "flex_flow": null,
            "grid_area": null,
            "grid_auto_columns": null,
            "grid_auto_flow": null,
            "grid_auto_rows": null,
            "grid_column": null,
            "grid_gap": null,
            "grid_row": null,
            "grid_template_areas": null,
            "grid_template_columns": null,
            "grid_template_rows": null,
            "height": null,
            "justify_content": null,
            "justify_items": null,
            "left": null,
            "margin": null,
            "max_height": null,
            "max_width": null,
            "min_height": null,
            "min_width": null,
            "object_fit": null,
            "object_position": null,
            "order": null,
            "overflow": null,
            "overflow_x": null,
            "overflow_y": null,
            "padding": null,
            "right": null,
            "top": null,
            "visibility": null,
            "width": null
          }
        },
        "e8cd60c6a2af4354bec03738261253ad": {
          "model_module": "@jupyter-widgets/controls",
          "model_name": "DescriptionStyleModel",
          "model_module_version": "1.5.0",
          "state": {
            "_model_module": "@jupyter-widgets/controls",
            "_model_module_version": "1.5.0",
            "_model_name": "DescriptionStyleModel",
            "_view_count": null,
            "_view_module": "@jupyter-widgets/base",
            "_view_module_version": "1.2.0",
            "_view_name": "StyleView",
            "description_width": ""
          }
        },
        "8727e7f2f2004689a94bc86c6b1c3115": {
          "model_module": "@jupyter-widgets/controls",
          "model_name": "HBoxModel",
          "model_module_version": "1.5.0",
          "state": {
            "_dom_classes": [],
            "_model_module": "@jupyter-widgets/controls",
            "_model_module_version": "1.5.0",
            "_model_name": "HBoxModel",
            "_view_count": null,
            "_view_module": "@jupyter-widgets/controls",
            "_view_module_version": "1.5.0",
            "_view_name": "HBoxView",
            "box_style": "",
            "children": [
              "IPY_MODEL_5dfc867e9c03443dabcd46697240a5c9",
              "IPY_MODEL_6c168b4f656d495db2c975d113f9fce0",
              "IPY_MODEL_ca9692d13bcc475aa69ff71c0f576cf8"
            ],
            "layout": "IPY_MODEL_cf0c3dfd5757479f82bdc8788f31e262"
          }
        },
        "5dfc867e9c03443dabcd46697240a5c9": {
          "model_module": "@jupyter-widgets/controls",
          "model_name": "HTMLModel",
          "model_module_version": "1.5.0",
          "state": {
            "_dom_classes": [],
            "_model_module": "@jupyter-widgets/controls",
            "_model_module_version": "1.5.0",
            "_model_name": "HTMLModel",
            "_view_count": null,
            "_view_module": "@jupyter-widgets/controls",
            "_view_module_version": "1.5.0",
            "_view_name": "HTMLView",
            "description": "",
            "description_tooltip": null,
            "layout": "IPY_MODEL_c7797f203099422e92aa171b6e6bae32",
            "placeholder": "​",
            "style": "IPY_MODEL_b33d22a57edb483594f372d6b5a65fc9",
            "value": "Downloading: 100%"
          }
        },
        "6c168b4f656d495db2c975d113f9fce0": {
          "model_module": "@jupyter-widgets/controls",
          "model_name": "FloatProgressModel",
          "model_module_version": "1.5.0",
          "state": {
            "_dom_classes": [],
            "_model_module": "@jupyter-widgets/controls",
            "_model_module_version": "1.5.0",
            "_model_name": "FloatProgressModel",
            "_view_count": null,
            "_view_module": "@jupyter-widgets/controls",
            "_view_module_version": "1.5.0",
            "_view_name": "ProgressView",
            "bar_style": "success",
            "description": "",
            "description_tooltip": null,
            "layout": "IPY_MODEL_2a5d563cd14146d0bbabf0645adfc319",
            "max": 445021143,
            "min": 0,
            "orientation": "horizontal",
            "style": "IPY_MODEL_acca0de94a76409d84790f3bd6b1de87",
            "value": 445021143
          }
        },
        "ca9692d13bcc475aa69ff71c0f576cf8": {
          "model_module": "@jupyter-widgets/controls",
          "model_name": "HTMLModel",
          "model_module_version": "1.5.0",
          "state": {
            "_dom_classes": [],
            "_model_module": "@jupyter-widgets/controls",
            "_model_module_version": "1.5.0",
            "_model_name": "HTMLModel",
            "_view_count": null,
            "_view_module": "@jupyter-widgets/controls",
            "_view_module_version": "1.5.0",
            "_view_name": "HTMLView",
            "description": "",
            "description_tooltip": null,
            "layout": "IPY_MODEL_2957398a35574e9bb5a8a26b4a37a616",
            "placeholder": "​",
            "style": "IPY_MODEL_8dd55a7df9a2451d9661c9c7aab23d71",
            "value": " 445M/445M [00:08&lt;00:00, 59.3MB/s]"
          }
        },
        "cf0c3dfd5757479f82bdc8788f31e262": {
          "model_module": "@jupyter-widgets/base",
          "model_name": "LayoutModel",
          "model_module_version": "1.2.0",
          "state": {
            "_model_module": "@jupyter-widgets/base",
            "_model_module_version": "1.2.0",
            "_model_name": "LayoutModel",
            "_view_count": null,
            "_view_module": "@jupyter-widgets/base",
            "_view_module_version": "1.2.0",
            "_view_name": "LayoutView",
            "align_content": null,
            "align_items": null,
            "align_self": null,
            "border": null,
            "bottom": null,
            "display": null,
            "flex": null,
            "flex_flow": null,
            "grid_area": null,
            "grid_auto_columns": null,
            "grid_auto_flow": null,
            "grid_auto_rows": null,
            "grid_column": null,
            "grid_gap": null,
            "grid_row": null,
            "grid_template_areas": null,
            "grid_template_columns": null,
            "grid_template_rows": null,
            "height": null,
            "justify_content": null,
            "justify_items": null,
            "left": null,
            "margin": null,
            "max_height": null,
            "max_width": null,
            "min_height": null,
            "min_width": null,
            "object_fit": null,
            "object_position": null,
            "order": null,
            "overflow": null,
            "overflow_x": null,
            "overflow_y": null,
            "padding": null,
            "right": null,
            "top": null,
            "visibility": null,
            "width": null
          }
        },
        "c7797f203099422e92aa171b6e6bae32": {
          "model_module": "@jupyter-widgets/base",
          "model_name": "LayoutModel",
          "model_module_version": "1.2.0",
          "state": {
            "_model_module": "@jupyter-widgets/base",
            "_model_module_version": "1.2.0",
            "_model_name": "LayoutModel",
            "_view_count": null,
            "_view_module": "@jupyter-widgets/base",
            "_view_module_version": "1.2.0",
            "_view_name": "LayoutView",
            "align_content": null,
            "align_items": null,
            "align_self": null,
            "border": null,
            "bottom": null,
            "display": null,
            "flex": null,
            "flex_flow": null,
            "grid_area": null,
            "grid_auto_columns": null,
            "grid_auto_flow": null,
            "grid_auto_rows": null,
            "grid_column": null,
            "grid_gap": null,
            "grid_row": null,
            "grid_template_areas": null,
            "grid_template_columns": null,
            "grid_template_rows": null,
            "height": null,
            "justify_content": null,
            "justify_items": null,
            "left": null,
            "margin": null,
            "max_height": null,
            "max_width": null,
            "min_height": null,
            "min_width": null,
            "object_fit": null,
            "object_position": null,
            "order": null,
            "overflow": null,
            "overflow_x": null,
            "overflow_y": null,
            "padding": null,
            "right": null,
            "top": null,
            "visibility": null,
            "width": null
          }
        },
        "b33d22a57edb483594f372d6b5a65fc9": {
          "model_module": "@jupyter-widgets/controls",
          "model_name": "DescriptionStyleModel",
          "model_module_version": "1.5.0",
          "state": {
            "_model_module": "@jupyter-widgets/controls",
            "_model_module_version": "1.5.0",
            "_model_name": "DescriptionStyleModel",
            "_view_count": null,
            "_view_module": "@jupyter-widgets/base",
            "_view_module_version": "1.2.0",
            "_view_name": "StyleView",
            "description_width": ""
          }
        },
        "2a5d563cd14146d0bbabf0645adfc319": {
          "model_module": "@jupyter-widgets/base",
          "model_name": "LayoutModel",
          "model_module_version": "1.2.0",
          "state": {
            "_model_module": "@jupyter-widgets/base",
            "_model_module_version": "1.2.0",
            "_model_name": "LayoutModel",
            "_view_count": null,
            "_view_module": "@jupyter-widgets/base",
            "_view_module_version": "1.2.0",
            "_view_name": "LayoutView",
            "align_content": null,
            "align_items": null,
            "align_self": null,
            "border": null,
            "bottom": null,
            "display": null,
            "flex": null,
            "flex_flow": null,
            "grid_area": null,
            "grid_auto_columns": null,
            "grid_auto_flow": null,
            "grid_auto_rows": null,
            "grid_column": null,
            "grid_gap": null,
            "grid_row": null,
            "grid_template_areas": null,
            "grid_template_columns": null,
            "grid_template_rows": null,
            "height": null,
            "justify_content": null,
            "justify_items": null,
            "left": null,
            "margin": null,
            "max_height": null,
            "max_width": null,
            "min_height": null,
            "min_width": null,
            "object_fit": null,
            "object_position": null,
            "order": null,
            "overflow": null,
            "overflow_x": null,
            "overflow_y": null,
            "padding": null,
            "right": null,
            "top": null,
            "visibility": null,
            "width": null
          }
        },
        "acca0de94a76409d84790f3bd6b1de87": {
          "model_module": "@jupyter-widgets/controls",
          "model_name": "ProgressStyleModel",
          "model_module_version": "1.5.0",
          "state": {
            "_model_module": "@jupyter-widgets/controls",
            "_model_module_version": "1.5.0",
            "_model_name": "ProgressStyleModel",
            "_view_count": null,
            "_view_module": "@jupyter-widgets/base",
            "_view_module_version": "1.2.0",
            "_view_name": "StyleView",
            "bar_color": null,
            "description_width": ""
          }
        },
        "2957398a35574e9bb5a8a26b4a37a616": {
          "model_module": "@jupyter-widgets/base",
          "model_name": "LayoutModel",
          "model_module_version": "1.2.0",
          "state": {
            "_model_module": "@jupyter-widgets/base",
            "_model_module_version": "1.2.0",
            "_model_name": "LayoutModel",
            "_view_count": null,
            "_view_module": "@jupyter-widgets/base",
            "_view_module_version": "1.2.0",
            "_view_name": "LayoutView",
            "align_content": null,
            "align_items": null,
            "align_self": null,
            "border": null,
            "bottom": null,
            "display": null,
            "flex": null,
            "flex_flow": null,
            "grid_area": null,
            "grid_auto_columns": null,
            "grid_auto_flow": null,
            "grid_auto_rows": null,
            "grid_column": null,
            "grid_gap": null,
            "grid_row": null,
            "grid_template_areas": null,
            "grid_template_columns": null,
            "grid_template_rows": null,
            "height": null,
            "justify_content": null,
            "justify_items": null,
            "left": null,
            "margin": null,
            "max_height": null,
            "max_width": null,
            "min_height": null,
            "min_width": null,
            "object_fit": null,
            "object_position": null,
            "order": null,
            "overflow": null,
            "overflow_x": null,
            "overflow_y": null,
            "padding": null,
            "right": null,
            "top": null,
            "visibility": null,
            "width": null
          }
        },
        "8dd55a7df9a2451d9661c9c7aab23d71": {
          "model_module": "@jupyter-widgets/controls",
          "model_name": "DescriptionStyleModel",
          "model_module_version": "1.5.0",
          "state": {
            "_model_module": "@jupyter-widgets/controls",
            "_model_module_version": "1.5.0",
            "_model_name": "DescriptionStyleModel",
            "_view_count": null,
            "_view_module": "@jupyter-widgets/base",
            "_view_module_version": "1.2.0",
            "_view_name": "StyleView",
            "description_width": ""
          }
        }
      }
    }
  },
  "cells": [
    {
      "cell_type": "markdown",
      "source": [
        "### 必要なライブラリのインストール"
      ],
      "metadata": {
        "id": "jzTWkz52v3gu"
      }
    },
    {
      "cell_type": "code",
      "source": [
        "!pip install -q transformers==4.4.0\n",
        "!pip install -q pytorch_lightning\n",
        "!pip install -q torchmetrics"
      ],
      "metadata": {
        "colab": {
          "base_uri": "https://localhost:8080/"
        },
        "id": "6PnZEuRRwTcR",
        "outputId": "410fa1e2-6677-4ebe-e37d-0c48b32887cf"
      },
      "execution_count": 1,
      "outputs": [
        {
          "output_type": "stream",
          "name": "stdout",
          "text": [
            "\u001b[K     |████████████████████████████████| 2.1 MB 7.9 MB/s \n",
            "\u001b[K     |████████████████████████████████| 880 kB 65.5 MB/s \n",
            "\u001b[K     |████████████████████████████████| 3.3 MB 46.8 MB/s \n",
            "\u001b[?25h  Building wheel for sacremoses (setup.py) ... \u001b[?25l\u001b[?25hdone\n",
            "\u001b[K     |████████████████████████████████| 585 kB 6.9 MB/s \n",
            "\u001b[K     |████████████████████████████████| 419 kB 29.9 MB/s \n",
            "\u001b[K     |████████████████████████████████| 596 kB 51.6 MB/s \n",
            "\u001b[K     |████████████████████████████████| 140 kB 77.7 MB/s \n",
            "\u001b[K     |████████████████████████████████| 1.1 MB 53.0 MB/s \n",
            "\u001b[K     |████████████████████████████████| 94 kB 4.0 MB/s \n",
            "\u001b[K     |████████████████████████████████| 271 kB 71.0 MB/s \n",
            "\u001b[K     |████████████████████████████████| 144 kB 73.8 MB/s \n",
            "\u001b[?25h"
          ]
        }
      ]
    },
    {
      "cell_type": "code",
      "source": [
        "!pip install --upgrade torchtext==0.9.1"
      ],
      "metadata": {
        "colab": {
          "base_uri": "https://localhost:8080/"
        },
        "id": "WESIYboXxFge",
        "outputId": "81290c76-41c7-431a-bfc1-0b1d26c157eb"
      },
      "execution_count": 2,
      "outputs": [
        {
          "output_type": "stream",
          "name": "stdout",
          "text": [
            "Looking in indexes: https://pypi.org/simple, https://us-python.pkg.dev/colab-wheels/public/simple/\n",
            "Collecting torchtext==0.9.1\n",
            "  Downloading torchtext-0.9.1-cp37-cp37m-manylinux1_x86_64.whl (7.1 MB)\n",
            "\u001b[K     |████████████████████████████████| 7.1 MB 5.7 MB/s \n",
            "\u001b[?25hRequirement already satisfied: requests in /usr/local/lib/python3.7/dist-packages (from torchtext==0.9.1) (2.23.0)\n",
            "Requirement already satisfied: tqdm in /usr/local/lib/python3.7/dist-packages (from torchtext==0.9.1) (4.64.0)\n",
            "Collecting torch==1.8.1\n",
            "  Downloading torch-1.8.1-cp37-cp37m-manylinux1_x86_64.whl (804.1 MB)\n",
            "\u001b[K     |████████████████████████████████| 804.1 MB 2.8 kB/s \n",
            "\u001b[?25hRequirement already satisfied: numpy in /usr/local/lib/python3.7/dist-packages (from torchtext==0.9.1) (1.21.6)\n",
            "Requirement already satisfied: typing-extensions in /usr/local/lib/python3.7/dist-packages (from torch==1.8.1->torchtext==0.9.1) (4.1.1)\n",
            "Requirement already satisfied: urllib3!=1.25.0,!=1.25.1,<1.26,>=1.21.1 in /usr/local/lib/python3.7/dist-packages (from requests->torchtext==0.9.1) (1.24.3)\n",
            "Requirement already satisfied: idna<3,>=2.5 in /usr/local/lib/python3.7/dist-packages (from requests->torchtext==0.9.1) (2.10)\n",
            "Requirement already satisfied: chardet<4,>=3.0.2 in /usr/local/lib/python3.7/dist-packages (from requests->torchtext==0.9.1) (3.0.4)\n",
            "Requirement already satisfied: certifi>=2017.4.17 in /usr/local/lib/python3.7/dist-packages (from requests->torchtext==0.9.1) (2022.6.15)\n",
            "Installing collected packages: torch, torchtext\n",
            "  Attempting uninstall: torch\n",
            "    Found existing installation: torch 1.11.0+cu113\n",
            "    Uninstalling torch-1.11.0+cu113:\n",
            "      Successfully uninstalled torch-1.11.0+cu113\n",
            "  Attempting uninstall: torchtext\n",
            "    Found existing installation: torchtext 0.12.0\n",
            "    Uninstalling torchtext-0.12.0:\n",
            "      Successfully uninstalled torchtext-0.12.0\n",
            "\u001b[31mERROR: pip's dependency resolver does not currently take into account all the packages that are installed. This behaviour is the source of the following dependency conflicts.\n",
            "torchvision 0.12.0+cu113 requires torch==1.11.0, but you have torch 1.8.1 which is incompatible.\n",
            "torchaudio 0.11.0+cu113 requires torch==1.11.0, but you have torch 1.8.1 which is incompatible.\u001b[0m\n",
            "Successfully installed torch-1.8.1 torchtext-0.9.1\n"
          ]
        }
      ]
    },
    {
      "cell_type": "code",
      "source": [
        "import torch\n",
        "import torch.nn as nn\n",
        "import torch.nn.functional as F\n",
        "from torchtext.legacy.data import Field, TabularDataset, BucketIterator #legacy.data と変更してください  \n",
        "import pytorch_lightning as pl\n",
        "import transformers\n",
        "\n",
        "import torchmetrics\n",
        "from torchmetrics.functional import accuracy"
      ],
      "metadata": {
        "colab": {
          "base_uri": "https://localhost:8080/"
        },
        "id": "_q1tGlgxwUoN",
        "outputId": "05072105-badf-482f-fff3-3315fe1966bb"
      },
      "execution_count": 3,
      "outputs": [
        {
          "output_type": "stream",
          "name": "stderr",
          "text": [
            "/usr/local/lib/python3.7/dist-packages/torchvision/io/image.py:13: UserWarning: Failed to load image Python extension: libtorch_cuda_cu.so: cannot open shared object file: No such file or directory\n",
            "  warn(f\"Failed to load image Python extension: {e}\")\n"
          ]
        }
      ]
    },
    {
      "cell_type": "code",
      "source": [
        "import torchtext\n",
        "print(torch.__version__)\n",
        "print(torchtext.__version__)\n",
        "print(pl.__version__)"
      ],
      "metadata": {
        "id": "W-KeNMgYwa_Y",
        "colab": {
          "base_uri": "https://localhost:8080/"
        },
        "outputId": "2b2926e4-b411-4a22-f88d-446daa2953b8"
      },
      "execution_count": 4,
      "outputs": [
        {
          "output_type": "stream",
          "name": "stdout",
          "text": [
            "1.8.1+cu102\n",
            "0.9.1\n",
            "1.6.4\n"
          ]
        }
      ]
    },
    {
      "cell_type": "code",
      "source": [
        "# 202110 時点 Google Colaboratory では Tesla K80 がメイン GPU になりました。  \n",
        "torch.cuda.get_device_name(0)"
      ],
      "metadata": {
        "colab": {
          "base_uri": "https://localhost:8080/",
          "height": 35
        },
        "id": "dCHyCiIqx-5s",
        "outputId": "05790ccc-e78e-47ad-f261-9874d08d11da"
      },
      "execution_count": 5,
      "outputs": [
        {
          "output_type": "execute_result",
          "data": {
            "text/plain": [
              "'Tesla T4'"
            ],
            "application/vnd.google.colaboratory.intrinsic+json": {
              "type": "string"
            }
          },
          "metadata": {},
          "execution_count": 5
        }
      ]
    },
    {
      "cell_type": "code",
      "source": [
        "!unzip -q text.zip"
      ],
      "metadata": {
        "id": "B8sqTEsKyAbU"
      },
      "execution_count": 7,
      "outputs": []
    },
    {
      "cell_type": "markdown",
      "source": [
        "### データセットの作成"
      ],
      "metadata": {
        "id": "CkBF8cULyOOq"
      }
    },
    {
      "cell_type": "code",
      "source": [
        "import os\n",
        "\n",
        "pl.seed_everything(0)\n",
        "\n",
        "# カテゴリを配列で取得\n",
        "categories = [name for name in os.listdir(\"text\") if os.path.isdir(\"text/\" + name)]\n",
        "\n",
        "# ID → カテゴリ\n",
        "id2cat = dict(zip(list(range(len(categories))), categories))\n",
        "# カテゴリ → ID \n",
        "cat2id = dict(zip(categories, list(range(len(categories)))))\n",
        "print('id2cat:', id2cat)\n",
        "print('cat2id:', cat2id)"
      ],
      "metadata": {
        "colab": {
          "base_uri": "https://localhost:8080/"
        },
        "id": "ApJwMojlyZY4",
        "outputId": "092d2041-e1e1-459c-98f0-e47a496985c8"
      },
      "execution_count": 8,
      "outputs": [
        {
          "output_type": "stream",
          "name": "stderr",
          "text": [
            "Global seed set to 0\n"
          ]
        },
        {
          "output_type": "stream",
          "name": "stdout",
          "text": [
            "id2cat: {0: 'sports-watch', 1: 'kaden-channel', 2: 'movie-enter', 3: 'it-life-hack', 4: 'topic-news', 5: 'livedoor-homme', 6: 'smax', 7: 'dokujo-tsushin', 8: 'peachy'}\n",
            "cat2id: {'sports-watch': 0, 'kaden-channel': 1, 'movie-enter': 2, 'it-life-hack': 3, 'topic-news': 4, 'livedoor-homme': 5, 'smax': 6, 'dokujo-tsushin': 7, 'peachy': 8}\n"
          ]
        }
      ]
    },
    {
      "cell_type": "code",
      "source": [
        "from glob import glob\n",
        "\n",
        "# 各ファイルへのパスを取得\n",
        "for cat in categories[:3]:\n",
        "    path = \"text/\" + cat + \"/*.txt\"\n",
        "    files = sorted(glob(path))\n",
        "    print(files[3])"
      ],
      "metadata": {
        "colab": {
          "base_uri": "https://localhost:8080/"
        },
        "id": "Xdt84RVEynUV",
        "outputId": "05124178-dfa3-4013-a820-490627b19685"
      },
      "execution_count": 9,
      "outputs": [
        {
          "output_type": "stream",
          "name": "stdout",
          "text": [
            "text/sports-watch/sports-watch-4604621.txt\n",
            "text/kaden-channel/kaden-channel-5775172.txt\n",
            "text/movie-enter/movie-enter-5840524.txt\n"
          ]
        }
      ]
    },
    {
      "cell_type": "code",
      "source": [
        "import linecache\n",
        "\n",
        "# 各テキストデータの３行目（タイトル）のみを取得\n",
        "for text_name in files[0:10]:\n",
        "    title = linecache.getline(text_name, 3)\n",
        "    print(title)"
      ],
      "metadata": {
        "colab": {
          "base_uri": "https://localhost:8080/"
        },
        "id": "thftC0lYytc6",
        "outputId": "b5c5284e-7b67-47c0-aedb-b0bebe7bac7a"
      },
      "execution_count": 10,
      "outputs": [
        {
          "output_type": "stream",
          "name": "stdout",
          "text": [
            "原著作者のクレジットを表示し、ニュース記事の改変をしないことを条件に、記事全文を\n",
            "\n",
            "インタビュー：宮崎あおい＆堺雅人「一緒にいるのが当たり前」\n",
            "\n",
            "「さわお」×「わさお」が奇跡の対面\n",
            "\n",
            "上島竜兵が「出川には負けない！」と極秘実験でイケメンマッチョに変身\n",
            "\n",
            "吉澤ひとみが新チーム結成「今、大事にしなきゃいけない人」\n",
            "\n",
            "2012年に映像革命が起こる、『ロード・オブ・ザ・リング』の前章『ホビット』の公開が決定\n",
            "\n",
            "ヴェネチア国際映画祭で染谷将太、二階堂ふみに大歓声！　園子温監督作『ヒミズ』に金獅子賞の期待膨らむ \n",
            "\n",
            "『バイオハザード』を超えた、『三銃士』がドイツで初登場1位を獲得\n",
            "\n",
            "日本最果ての地で誕生した映画が『しんぼる』『となりのトトロ』に続くプレミア上映決定\n",
            "\n",
            "「好きよ、抱いて！」、映画『モテキ』着信ボイスを無料配信\n",
            "\n"
          ]
        }
      ]
    },
    {
      "cell_type": "markdown",
      "source": [
        "1. 変数 `categories` を元に `text` フォルダ内のテキストデータ全てを読み込む\n",
        "    - テキストは各テキストファイルの 3 行目のタイトルのみ\n",
        "2. `\\n` のみ除去\n",
        "3. データフレームに格納\n",
        "    - カラム → `title` : テキストデータのタイトル / `category` :  テキストデータのカテゴリ名\n",
        "4. データを `.sample` でシャッフルすること\n",
        "5. データセット作成後、`category` 列を参照して、カテゴリ → ID に変換\n",
        "    - `title` : テキストデータ / `category` : カテゴリ / `category_id` : カテゴリの ID"
      ],
      "metadata": {
        "id": "3scz5Ypqy0a2"
      }
    },
    {
      "cell_type": "code",
      "source": [
        "import pandas as pd\n",
        "\n",
        "# データフレームの用意\n",
        "datasets = pd.DataFrame(columns=[\"title\", \"category\"])"
      ],
      "metadata": {
        "id": "QW7tJj43y78X"
      },
      "execution_count": 11,
      "outputs": []
    },
    {
      "cell_type": "code",
      "source": [
        "import re\n",
        "\n",
        "# 先程までの処理をまとめてデータフレームに格納\n",
        "for cat in categories:\n",
        "    path = \"text/\" + cat + \"/*.txt\"\n",
        "    files = sorted(glob(path))\n",
        "    for text_name in files:\n",
        "        title = linecache.getline(text_name, 3)\n",
        "        cleaned_title = re.sub('\\n', '', title)\n",
        "        s = pd.Series([cleaned_title, cat], index=datasets.columns)\n",
        "        datasets = datasets.append(s, ignore_index=True)\n",
        "\n",
        "# データをシャッフル\n",
        "livedoor_data = datasets.sample(frac=1).reset_index(drop=True)\n",
        "\n",
        "# カテゴリ → ID を適用\n",
        "livedoor_data['category_id'] = livedoor_data['category'].map(cat2id)\n",
        "livedoor_data.head(3)"
      ],
      "metadata": {
        "colab": {
          "base_uri": "https://localhost:8080/",
          "height": 143
        },
        "id": "G3LXilOJzEyf",
        "outputId": "9dd7b76f-c8b4-44c8-f1fd-0215052e71ea"
      },
      "execution_count": 12,
      "outputs": [
        {
          "output_type": "execute_result",
          "data": {
            "text/plain": [
              "                                               title        category  \\\n",
              "0                          友を失うその前に！？　ビジネススキルの意外なる盲点  livedoor-homme   \n",
              "1  【終了しました】自然のちからを肌に届ける「草花木果」で、つるんとなめらか、透明肌へ。セットで...          peachy   \n",
              "2                        独女的映画レビュー vol.3 『カンバセーションズ』  dokujo-tsushin   \n",
              "\n",
              "   category_id  \n",
              "0            5  \n",
              "1            8  \n",
              "2            7  "
            ],
            "text/html": [
              "\n",
              "  <div id=\"df-c8b7a3e1-f238-4e18-a6d1-3052aa0375e9\">\n",
              "    <div class=\"colab-df-container\">\n",
              "      <div>\n",
              "<style scoped>\n",
              "    .dataframe tbody tr th:only-of-type {\n",
              "        vertical-align: middle;\n",
              "    }\n",
              "\n",
              "    .dataframe tbody tr th {\n",
              "        vertical-align: top;\n",
              "    }\n",
              "\n",
              "    .dataframe thead th {\n",
              "        text-align: right;\n",
              "    }\n",
              "</style>\n",
              "<table border=\"1\" class=\"dataframe\">\n",
              "  <thead>\n",
              "    <tr style=\"text-align: right;\">\n",
              "      <th></th>\n",
              "      <th>title</th>\n",
              "      <th>category</th>\n",
              "      <th>category_id</th>\n",
              "    </tr>\n",
              "  </thead>\n",
              "  <tbody>\n",
              "    <tr>\n",
              "      <th>0</th>\n",
              "      <td>友を失うその前に！？　ビジネススキルの意外なる盲点</td>\n",
              "      <td>livedoor-homme</td>\n",
              "      <td>5</td>\n",
              "    </tr>\n",
              "    <tr>\n",
              "      <th>1</th>\n",
              "      <td>【終了しました】自然のちからを肌に届ける「草花木果」で、つるんとなめらか、透明肌へ。セットで...</td>\n",
              "      <td>peachy</td>\n",
              "      <td>8</td>\n",
              "    </tr>\n",
              "    <tr>\n",
              "      <th>2</th>\n",
              "      <td>独女的映画レビュー vol.3 『カンバセーションズ』</td>\n",
              "      <td>dokujo-tsushin</td>\n",
              "      <td>7</td>\n",
              "    </tr>\n",
              "  </tbody>\n",
              "</table>\n",
              "</div>\n",
              "      <button class=\"colab-df-convert\" onclick=\"convertToInteractive('df-c8b7a3e1-f238-4e18-a6d1-3052aa0375e9')\"\n",
              "              title=\"Convert this dataframe to an interactive table.\"\n",
              "              style=\"display:none;\">\n",
              "        \n",
              "  <svg xmlns=\"http://www.w3.org/2000/svg\" height=\"24px\"viewBox=\"0 0 24 24\"\n",
              "       width=\"24px\">\n",
              "    <path d=\"M0 0h24v24H0V0z\" fill=\"none\"/>\n",
              "    <path d=\"M18.56 5.44l.94 2.06.94-2.06 2.06-.94-2.06-.94-.94-2.06-.94 2.06-2.06.94zm-11 1L8.5 8.5l.94-2.06 2.06-.94-2.06-.94L8.5 2.5l-.94 2.06-2.06.94zm10 10l.94 2.06.94-2.06 2.06-.94-2.06-.94-.94-2.06-.94 2.06-2.06.94z\"/><path d=\"M17.41 7.96l-1.37-1.37c-.4-.4-.92-.59-1.43-.59-.52 0-1.04.2-1.43.59L10.3 9.45l-7.72 7.72c-.78.78-.78 2.05 0 2.83L4 21.41c.39.39.9.59 1.41.59.51 0 1.02-.2 1.41-.59l7.78-7.78 2.81-2.81c.8-.78.8-2.07 0-2.86zM5.41 20L4 18.59l7.72-7.72 1.47 1.35L5.41 20z\"/>\n",
              "  </svg>\n",
              "      </button>\n",
              "      \n",
              "  <style>\n",
              "    .colab-df-container {\n",
              "      display:flex;\n",
              "      flex-wrap:wrap;\n",
              "      gap: 12px;\n",
              "    }\n",
              "\n",
              "    .colab-df-convert {\n",
              "      background-color: #E8F0FE;\n",
              "      border: none;\n",
              "      border-radius: 50%;\n",
              "      cursor: pointer;\n",
              "      display: none;\n",
              "      fill: #1967D2;\n",
              "      height: 32px;\n",
              "      padding: 0 0 0 0;\n",
              "      width: 32px;\n",
              "    }\n",
              "\n",
              "    .colab-df-convert:hover {\n",
              "      background-color: #E2EBFA;\n",
              "      box-shadow: 0px 1px 2px rgba(60, 64, 67, 0.3), 0px 1px 3px 1px rgba(60, 64, 67, 0.15);\n",
              "      fill: #174EA6;\n",
              "    }\n",
              "\n",
              "    [theme=dark] .colab-df-convert {\n",
              "      background-color: #3B4455;\n",
              "      fill: #D2E3FC;\n",
              "    }\n",
              "\n",
              "    [theme=dark] .colab-df-convert:hover {\n",
              "      background-color: #434B5C;\n",
              "      box-shadow: 0px 1px 3px 1px rgba(0, 0, 0, 0.15);\n",
              "      filter: drop-shadow(0px 1px 2px rgba(0, 0, 0, 0.3));\n",
              "      fill: #FFFFFF;\n",
              "    }\n",
              "  </style>\n",
              "\n",
              "      <script>\n",
              "        const buttonEl =\n",
              "          document.querySelector('#df-c8b7a3e1-f238-4e18-a6d1-3052aa0375e9 button.colab-df-convert');\n",
              "        buttonEl.style.display =\n",
              "          google.colab.kernel.accessAllowed ? 'block' : 'none';\n",
              "\n",
              "        async function convertToInteractive(key) {\n",
              "          const element = document.querySelector('#df-c8b7a3e1-f238-4e18-a6d1-3052aa0375e9');\n",
              "          const dataTable =\n",
              "            await google.colab.kernel.invokeFunction('convertToInteractive',\n",
              "                                                     [key], {});\n",
              "          if (!dataTable) return;\n",
              "\n",
              "          const docLinkHtml = 'Like what you see? Visit the ' +\n",
              "            '<a target=\"_blank\" href=https://colab.research.google.com/notebooks/data_table.ipynb>data table notebook</a>'\n",
              "            + ' to learn more about interactive tables.';\n",
              "          element.innerHTML = '';\n",
              "          dataTable['output_type'] = 'display_data';\n",
              "          await google.colab.output.renderOutput(dataTable, element);\n",
              "          const docLink = document.createElement('div');\n",
              "          docLink.innerHTML = docLinkHtml;\n",
              "          element.appendChild(docLink);\n",
              "        }\n",
              "      </script>\n",
              "    </div>\n",
              "  </div>\n",
              "  "
            ]
          },
          "metadata": {},
          "execution_count": 12
        }
      ]
    },
    {
      "cell_type": "code",
      "source": [
        "livedoor_data = livedoor_data[['title', 'category_id']]\n",
        "livedoor_data.head(3)"
      ],
      "metadata": {
        "colab": {
          "base_uri": "https://localhost:8080/",
          "height": 143
        },
        "id": "iciiiCilzOOs",
        "outputId": "fbcd8cb3-ede5-4996-976b-717bc9220f80"
      },
      "execution_count": 13,
      "outputs": [
        {
          "output_type": "execute_result",
          "data": {
            "text/plain": [
              "                                               title  category_id\n",
              "0                          友を失うその前に！？　ビジネススキルの意外なる盲点            5\n",
              "1  【終了しました】自然のちからを肌に届ける「草花木果」で、つるんとなめらか、透明肌へ。セットで...            8\n",
              "2                        独女的映画レビュー vol.3 『カンバセーションズ』            7"
            ],
            "text/html": [
              "\n",
              "  <div id=\"df-780064fc-db19-47d0-ac14-e81f5c4e93fe\">\n",
              "    <div class=\"colab-df-container\">\n",
              "      <div>\n",
              "<style scoped>\n",
              "    .dataframe tbody tr th:only-of-type {\n",
              "        vertical-align: middle;\n",
              "    }\n",
              "\n",
              "    .dataframe tbody tr th {\n",
              "        vertical-align: top;\n",
              "    }\n",
              "\n",
              "    .dataframe thead th {\n",
              "        text-align: right;\n",
              "    }\n",
              "</style>\n",
              "<table border=\"1\" class=\"dataframe\">\n",
              "  <thead>\n",
              "    <tr style=\"text-align: right;\">\n",
              "      <th></th>\n",
              "      <th>title</th>\n",
              "      <th>category_id</th>\n",
              "    </tr>\n",
              "  </thead>\n",
              "  <tbody>\n",
              "    <tr>\n",
              "      <th>0</th>\n",
              "      <td>友を失うその前に！？　ビジネススキルの意外なる盲点</td>\n",
              "      <td>5</td>\n",
              "    </tr>\n",
              "    <tr>\n",
              "      <th>1</th>\n",
              "      <td>【終了しました】自然のちからを肌に届ける「草花木果」で、つるんとなめらか、透明肌へ。セットで...</td>\n",
              "      <td>8</td>\n",
              "    </tr>\n",
              "    <tr>\n",
              "      <th>2</th>\n",
              "      <td>独女的映画レビュー vol.3 『カンバセーションズ』</td>\n",
              "      <td>7</td>\n",
              "    </tr>\n",
              "  </tbody>\n",
              "</table>\n",
              "</div>\n",
              "      <button class=\"colab-df-convert\" onclick=\"convertToInteractive('df-780064fc-db19-47d0-ac14-e81f5c4e93fe')\"\n",
              "              title=\"Convert this dataframe to an interactive table.\"\n",
              "              style=\"display:none;\">\n",
              "        \n",
              "  <svg xmlns=\"http://www.w3.org/2000/svg\" height=\"24px\"viewBox=\"0 0 24 24\"\n",
              "       width=\"24px\">\n",
              "    <path d=\"M0 0h24v24H0V0z\" fill=\"none\"/>\n",
              "    <path d=\"M18.56 5.44l.94 2.06.94-2.06 2.06-.94-2.06-.94-.94-2.06-.94 2.06-2.06.94zm-11 1L8.5 8.5l.94-2.06 2.06-.94-2.06-.94L8.5 2.5l-.94 2.06-2.06.94zm10 10l.94 2.06.94-2.06 2.06-.94-2.06-.94-.94-2.06-.94 2.06-2.06.94z\"/><path d=\"M17.41 7.96l-1.37-1.37c-.4-.4-.92-.59-1.43-.59-.52 0-1.04.2-1.43.59L10.3 9.45l-7.72 7.72c-.78.78-.78 2.05 0 2.83L4 21.41c.39.39.9.59 1.41.59.51 0 1.02-.2 1.41-.59l7.78-7.78 2.81-2.81c.8-.78.8-2.07 0-2.86zM5.41 20L4 18.59l7.72-7.72 1.47 1.35L5.41 20z\"/>\n",
              "  </svg>\n",
              "      </button>\n",
              "      \n",
              "  <style>\n",
              "    .colab-df-container {\n",
              "      display:flex;\n",
              "      flex-wrap:wrap;\n",
              "      gap: 12px;\n",
              "    }\n",
              "\n",
              "    .colab-df-convert {\n",
              "      background-color: #E8F0FE;\n",
              "      border: none;\n",
              "      border-radius: 50%;\n",
              "      cursor: pointer;\n",
              "      display: none;\n",
              "      fill: #1967D2;\n",
              "      height: 32px;\n",
              "      padding: 0 0 0 0;\n",
              "      width: 32px;\n",
              "    }\n",
              "\n",
              "    .colab-df-convert:hover {\n",
              "      background-color: #E2EBFA;\n",
              "      box-shadow: 0px 1px 2px rgba(60, 64, 67, 0.3), 0px 1px 3px 1px rgba(60, 64, 67, 0.15);\n",
              "      fill: #174EA6;\n",
              "    }\n",
              "\n",
              "    [theme=dark] .colab-df-convert {\n",
              "      background-color: #3B4455;\n",
              "      fill: #D2E3FC;\n",
              "    }\n",
              "\n",
              "    [theme=dark] .colab-df-convert:hover {\n",
              "      background-color: #434B5C;\n",
              "      box-shadow: 0px 1px 3px 1px rgba(0, 0, 0, 0.15);\n",
              "      filter: drop-shadow(0px 1px 2px rgba(0, 0, 0, 0.3));\n",
              "      fill: #FFFFFF;\n",
              "    }\n",
              "  </style>\n",
              "\n",
              "      <script>\n",
              "        const buttonEl =\n",
              "          document.querySelector('#df-780064fc-db19-47d0-ac14-e81f5c4e93fe button.colab-df-convert');\n",
              "        buttonEl.style.display =\n",
              "          google.colab.kernel.accessAllowed ? 'block' : 'none';\n",
              "\n",
              "        async function convertToInteractive(key) {\n",
              "          const element = document.querySelector('#df-780064fc-db19-47d0-ac14-e81f5c4e93fe');\n",
              "          const dataTable =\n",
              "            await google.colab.kernel.invokeFunction('convertToInteractive',\n",
              "                                                     [key], {});\n",
              "          if (!dataTable) return;\n",
              "\n",
              "          const docLinkHtml = 'Like what you see? Visit the ' +\n",
              "            '<a target=\"_blank\" href=https://colab.research.google.com/notebooks/data_table.ipynb>data table notebook</a>'\n",
              "            + ' to learn more about interactive tables.';\n",
              "          element.innerHTML = '';\n",
              "          dataTable['output_type'] = 'display_data';\n",
              "          await google.colab.output.renderOutput(dataTable, element);\n",
              "          const docLink = document.createElement('div');\n",
              "          docLink.innerHTML = docLinkHtml;\n",
              "          element.appendChild(docLink);\n",
              "        }\n",
              "      </script>\n",
              "    </div>\n",
              "  </div>\n",
              "  "
            ]
          },
          "metadata": {},
          "execution_count": 13
        }
      ]
    },
    {
      "cell_type": "markdown",
      "source": [
        "### データの分割"
      ],
      "metadata": {
        "id": "061hKWq_zW3y"
      }
    },
    {
      "cell_type": "code",
      "source": [
        "# 学習用データとテストデータに分ける\n",
        "from sklearn.model_selection import train_test_split\n",
        "\n",
        "train_val_df, test_df = train_test_split(livedoor_data, test_size=0.2, random_state=0)\n",
        "train_df, val_df = train_test_split(train_val_df, test_size=0.3, random_state=0)\n",
        "\n",
        "print(\"学習用データのサイズ\", train_df.shape)\n",
        "print(\"検証用データのサイズ\", val_df.shape)\n",
        "print(\"テスト用データのサイズ\", test_df.shape)"
      ],
      "metadata": {
        "colab": {
          "base_uri": "https://localhost:8080/"
        },
        "id": "fU8ypNlezZoH",
        "outputId": "1e9d62f8-d808-440e-9863-0122cd7a08de"
      },
      "execution_count": 14,
      "outputs": [
        {
          "output_type": "stream",
          "name": "stdout",
          "text": [
            "学習用データのサイズ (4130, 2)\n",
            "検証用データのサイズ (1770, 2)\n",
            "テスト用データのサイズ (1476, 2)\n"
          ]
        }
      ]
    },
    {
      "cell_type": "code",
      "source": [
        "# csvファイルとして保存する\n",
        "train_df.to_csv('train.csv', header=None, index=None)\n",
        "val_df.to_csv('val.csv', header=None, index=None)\n",
        "test_df.to_csv('test.csv', header=None, index=None)"
      ],
      "metadata": {
        "id": "-Isncaod0Inf"
      },
      "execution_count": 15,
      "outputs": []
    },
    {
      "cell_type": "markdown",
      "source": [
        "### BERT 用分かち書き（Tokenizer）の用意"
      ],
      "metadata": {
        "id": "m_JB6EHY0Ktp"
      }
    },
    {
      "cell_type": "code",
      "source": [
        "!pip install -q fugashi\n",
        "!pip install -q ipadic"
      ],
      "metadata": {
        "colab": {
          "base_uri": "https://localhost:8080/"
        },
        "id": "a8HTD2hk0OAV",
        "outputId": "7fb510d4-1312-4574-e02b-402b512e072b"
      },
      "execution_count": 16,
      "outputs": [
        {
          "output_type": "stream",
          "name": "stdout",
          "text": [
            "\u001b[K     |████████████████████████████████| 568 kB 8.0 MB/s \n",
            "\u001b[K     |████████████████████████████████| 13.4 MB 8.2 MB/s \n",
            "\u001b[?25h  Building wheel for ipadic (setup.py) ... \u001b[?25l\u001b[?25hdone\n"
          ]
        }
      ]
    },
    {
      "cell_type": "code",
      "source": [
        "# 分かち書き用の tokenizer\n",
        "from transformers import BertJapaneseTokenizer\n",
        "\n",
        "tokenizer = BertJapaneseTokenizer.from_pretrained('cl-tohoku/bert-base-japanese-whole-word-masking')"
      ],
      "metadata": {
        "colab": {
          "base_uri": "https://localhost:8080/",
          "height": 81,
          "referenced_widgets": [
            "546df4f2a9024a2ab71fb53fd8518970",
            "df57603e95ca4b05993c807b34ad30f4",
            "2e961b1340164470a52f65e96d8afb3f",
            "b8b2532241e4484db492015ab71d53c8",
            "cad1a1903e0d42a080ab3dd7bb6cc7c5",
            "b0c1b809fcf94c54be649c039be08765",
            "72c99ac7b46a4afe830fdf402670f547",
            "1f61997d9f3e48e688792c85e6288081",
            "6a65b24c0de34c4ab2a464ba426c1f2a",
            "9c31fcdcda6e46d5a7c8f5ad03206b21",
            "4c4f2f43f87c40ea8258edb6689fbe27",
            "22e7fc258cb9445dae66ed856a482b4d",
            "0b3c3dd1337546ef80b2212f0c2e9fa7",
            "0a933b6aabb14f15a7c7fc4c2abcad6b",
            "8bae584ec7ac445e87736eb7c40f3ee7",
            "2af1946ff4ec49fd90d3f353e655fbc1",
            "e834bf2faf27441cb6a2bb8fef98def1",
            "c7f6a9dba405425aaa62b00783a8e62f",
            "224bfb2d23ee4317a3d67bfb3a6ca7cd",
            "ac11bbc6ed7747d188171e7a3ae85157",
            "d4baa6cf17db45d290dc0c04e10b9fec",
            "978fcb3e07e44c5c9b4bdc18146ac665"
          ]
        },
        "id": "lNEkgknf0PGE",
        "outputId": "a904749c-498f-438a-b87f-af98b727eb3f"
      },
      "execution_count": 17,
      "outputs": [
        {
          "output_type": "display_data",
          "data": {
            "text/plain": [
              "Downloading:   0%|          | 0.00/258k [00:00<?, ?B/s]"
            ],
            "application/vnd.jupyter.widget-view+json": {
              "version_major": 2,
              "version_minor": 0,
              "model_id": "546df4f2a9024a2ab71fb53fd8518970"
            }
          },
          "metadata": {}
        },
        {
          "output_type": "display_data",
          "data": {
            "text/plain": [
              "Downloading:   0%|          | 0.00/110 [00:00<?, ?B/s]"
            ],
            "application/vnd.jupyter.widget-view+json": {
              "version_major": 2,
              "version_minor": 0,
              "model_id": "22e7fc258cb9445dae66ed856a482b4d"
            }
          },
          "metadata": {}
        }
      ]
    },
    {
      "cell_type": "markdown",
      "source": [
        "### Tokenizer の結果を確認"
      ],
      "metadata": {
        "id": "qrQxuRQL0SQR"
      }
    },
    {
      "cell_type": "code",
      "source": [
        "# 分かち書き用の tokenizer\n",
        "text = list(train_df['title'])[0]\n",
        "\n",
        "# return_tensors に pt(PyTorch) を選択\n",
        "wakati_ids = tokenizer.encode(text, return_tensors='pt')\n",
        "\n",
        "print('各単語に振られている id：', wakati_ids)\n",
        "print('id のサイズ：', wakati_ids.size())"
      ],
      "metadata": {
        "colab": {
          "base_uri": "https://localhost:8080/"
        },
        "id": "OD6RaRuq0U6T",
        "outputId": "00119dcd-92f0-4975-f04f-898b9c910b41"
      },
      "execution_count": 18,
      "outputs": [
        {
          "output_type": "stream",
          "name": "stdout",
          "text": [
            "各単語に振られている id： tensor([[   2, 7319,   14,  107, 8896, 2935, 2910,   15,   10, 4027,    5,   36,\n",
            "         8065, 3700,   38,   14, 4459,    7,  737,   80, 1515, 9680, 4459, 9594,\n",
            "            3]])\n",
            "id のサイズ： torch.Size([1, 25])\n"
          ]
        }
      ]
    },
    {
      "cell_type": "code",
      "source": [
        "text"
      ],
      "metadata": {
        "colab": {
          "base_uri": "https://localhost:8080/",
          "height": 35
        },
        "id": "ovct1YvF0Zxq",
        "outputId": "f0141fbc-e5f4-4eda-9640-71ef6c41d12b"
      },
      "execution_count": 19,
      "outputs": [
        {
          "output_type": "execute_result",
          "data": {
            "text/plain": [
              "'コンテンツが高すぎる？\\u3000スタートしたばかりの「もっとTV」が話題にならない理由【話題】'"
            ],
            "application/vnd.google.colaboratory.intrinsic+json": {
              "type": "string"
            }
          },
          "metadata": {},
          "execution_count": 19
        }
      ]
    },
    {
      "cell_type": "code",
      "source": [
        "# 分かち書き後の文\n",
        "print('分かち書きした単語：',tokenizer.convert_ids_to_tokens(wakati_ids[0]))"
      ],
      "metadata": {
        "colab": {
          "base_uri": "https://localhost:8080/"
        },
        "id": "G1D7cz0z0bcS",
        "outputId": "fcff0e2a-d5ce-41ce-857c-9cf27a6a093f"
      },
      "execution_count": 20,
      "outputs": [
        {
          "output_type": "stream",
          "name": "stdout",
          "text": [
            "分かち書きした単語： ['[CLS]', 'コンテンツ', 'が', '高', 'すぎる', '?', 'スタート', 'し', 'た', 'ばかり', 'の', '「', 'もっと', 'TV', '」', 'が', '話題', 'に', 'なら', 'ない', '理由', '【', '話題', '】', '[SEP]']\n"
          ]
        }
      ]
    },
    {
      "cell_type": "markdown",
      "source": [
        "### 分かち書き後の単語の最大長を確認"
      ],
      "metadata": {
        "id": "D4rkGZUx0iS9"
      }
    },
    {
      "cell_type": "code",
      "source": [
        "title_length = livedoor_data['title'].map(tokenizer.encode).map(len)\n",
        "\n",
        "print(max(title_length))"
      ],
      "metadata": {
        "colab": {
          "base_uri": "https://localhost:8080/"
        },
        "id": "Q4mYSNEM0lh4",
        "outputId": "498a6fc4-9988-47a0-ea8b-922b1c7e8cdd"
      },
      "execution_count": 21,
      "outputs": [
        {
          "output_type": "stream",
          "name": "stdout",
          "text": [
            "76\n"
          ]
        }
      ]
    },
    {
      "cell_type": "code",
      "source": [
        "# ヒストグラムを可視化\n",
        "import seaborn as sns\n",
        "sns.set_style('darkgrid')\n",
        "\n",
        "sns.distplot(title_length);"
      ],
      "metadata": {
        "colab": {
          "base_uri": "https://localhost:8080/",
          "height": 335
        },
        "id": "nKFoAAU30sXP",
        "outputId": "ba12d19c-c194-4d5f-e5a5-78ef8ba80262"
      },
      "execution_count": 24,
      "outputs": [
        {
          "output_type": "stream",
          "name": "stderr",
          "text": [
            "/usr/local/lib/python3.7/dist-packages/seaborn/distributions.py:2619: FutureWarning: `distplot` is a deprecated function and will be removed in a future version. Please adapt your code to use either `displot` (a figure-level function with similar flexibility) or `histplot` (an axes-level function for histograms).\n",
            "  warnings.warn(msg, FutureWarning)\n"
          ]
        },
        {
          "output_type": "display_data",
          "data": {
            "text/plain": [
              "<Figure size 432x288 with 1 Axes>"
            ],
            "image/png": "[encoded data removed]"
          },
          "metadata": {}
        }
      ]
    },
    {
      "cell_type": "markdown",
      "source": [
        "### BERT 用 Tokenizer と TorchText を使用したデータセットの作成"
      ],
      "metadata": {
        "id": "SV7WMuHL01rK"
      }
    },
    {
      "cell_type": "code",
      "source": [
        "def bert_tokenizer(text):\n",
        "    return tokenizer.encode(text, return_tensors='pt')[0]"
      ],
      "metadata": {
        "id": "IZyFbJzw05Rf"
      },
      "execution_count": 25,
      "outputs": []
    },
    {
      "cell_type": "code",
      "source": [
        "# Tokenizer の pad トークン ID の取得\n",
        "pad_token_idx = tokenizer.pad_token_id\n",
        "print(pad_token_idx)"
      ],
      "metadata": {
        "colab": {
          "base_uri": "https://localhost:8080/"
        },
        "id": "zIJRODue1B-w",
        "outputId": "c09b19c7-33a3-445c-ef82-0caf9ec63c13"
      },
      "execution_count": 26,
      "outputs": [
        {
          "output_type": "stream",
          "name": "stdout",
          "text": [
            "0\n"
          ]
        }
      ]
    },
    {
      "cell_type": "code",
      "source": [
        "# Field の設定\n",
        "TEXT = Field(\n",
        "    tokenize=bert_tokenizer, \n",
        "    use_vocab=False,\n",
        "    batch_first=True, \n",
        "    pad_token=pad_token_idx)\n",
        "\n",
        "LABEL = Field(\n",
        "    sequential=False, \n",
        "    use_vocab=False,\n",
        "    is_target=True)"
      ],
      "metadata": {
        "id": "oWtaI9hT1GB3"
      },
      "execution_count": 27,
      "outputs": []
    },
    {
      "cell_type": "code",
      "source": [
        "# TorchText TabularDataset を使用した読み込み\n",
        "train_data, val_data, test_data = TabularDataset.splits(\n",
        "    path='',\n",
        "    train='train.csv',\n",
        "    validation = 'val.csv',\n",
        "    test='test.csv',\n",
        "    format='csv',\n",
        "    fields=[('x', TEXT), ('t', LABEL)])"
      ],
      "metadata": {
        "id": "rFaxF7Mj1OEs"
      },
      "execution_count": 28,
      "outputs": []
    },
    {
      "cell_type": "markdown",
      "source": [
        "### DataLoader の作成"
      ],
      "metadata": {
        "id": "NRhWnO7J1SQ6"
      }
    },
    {
      "cell_type": "code",
      "source": [
        "pl.seed_everything(0)\n",
        "\n",
        "batch_size=32\n",
        "\n",
        "train_loader = BucketIterator(train_data, batch_size, shuffle=True)\n",
        "val_loader = BucketIterator(val_data, batch_size)\n",
        "test_loader = BucketIterator(test_data, batch_size)"
      ],
      "metadata": {
        "colab": {
          "base_uri": "https://localhost:8080/"
        },
        "id": "P3spnk0m1UmF",
        "outputId": "39002304-1a53-475a-8a33-dfdf5fcc0499"
      },
      "execution_count": 29,
      "outputs": [
        {
          "output_type": "stream",
          "name": "stderr",
          "text": [
            "Global seed set to 0\n"
          ]
        }
      ]
    },
    {
      "cell_type": "code",
      "source": [
        "# 中身を確認\n",
        "batch = next(iter(train_loader))\n",
        "\n",
        "print('train_iter 内の最初の文章（ID）：', batch.x[0])\n",
        "print(\"長さ：\", len(batch.x[0]))  \n",
        "print(\"ラベル：\", batch.t[0])\n",
        "print('文章のカテゴリ：', id2cat[int(batch.t[0])])\n",
        "\n",
        "print('含まれる文字列：', tokenizer.convert_ids_to_tokens(batch.x[0]))"
      ],
      "metadata": {
        "colab": {
          "base_uri": "https://localhost:8080/"
        },
        "id": "qEaXSQIm1Yje",
        "outputId": "55ba7b98-6c73-4cc2-f2dc-b0d3037224e8"
      },
      "execution_count": 30,
      "outputs": [
        {
          "output_type": "stream",
          "name": "stdout",
          "text": [
            "train_iter 内の最初の文章（ID）： tensor([    2,  5366, 11916,     7, 15528, 28457,  1216, 26712,     5,  2868,\n",
            "            3,     0,     0,     0,     0,     0,     0,     0,     0,     0,\n",
            "            0,     0,     0,     0,     0,     0,     0,     0,     0,     0,\n",
            "            0,     0,     0,     0])\n",
            "長さ： 34\n",
            "ラベル： tensor(0)\n",
            "文章のカテゴリ： sports-watch\n",
            "含まれる文字列： ['[CLS]', '底', '##抜け', 'に', '可愛', '##い', '国内', '無敵', 'の', 'チャンピオン', '[SEP]', '[PAD]', '[PAD]', '[PAD]', '[PAD]', '[PAD]', '[PAD]', '[PAD]', '[PAD]', '[PAD]', '[PAD]', '[PAD]', '[PAD]', '[PAD]', '[PAD]', '[PAD]', '[PAD]', '[PAD]', '[PAD]', '[PAD]', '[PAD]', '[PAD]', '[PAD]', '[PAD]']\n"
          ]
        }
      ]
    },
    {
      "cell_type": "code",
      "source": [
        "from transformers import BertModel\n",
        "\n",
        "# BERT のモデル構造を確認\n",
        "bert = BertModel.from_pretrained('cl-tohoku/bert-base-japanese-whole-word-masking')\n",
        "\n",
        "print(bert.config)"
      ],
      "metadata": {
        "colab": {
          "base_uri": "https://localhost:8080/",
          "height": 545,
          "referenced_widgets": [
            "5a1807987af34042b0e9e56179d79ba3",
            "24e88357df754c5594c7e8f8b6de2745",
            "7500d2aa07cb4122b4757112a2483a34",
            "62868976d6654d5ba4a9cdcba2df575b",
            "9a86bcac9ebc4637874bb3e45bf75c11",
            "ac4f453df25d442d85a0ddfd5225838c",
            "5e19b41676394414b3c5943a81a131fe",
            "ae525f70a38447d49edad1e2c57e1ed8",
            "6757f2221332412e9f011f0e26912bd3",
            "c66b6d9fa0ca4c4285a297a2e9e9e072",
            "e8cd60c6a2af4354bec03738261253ad",
            "8727e7f2f2004689a94bc86c6b1c3115",
            "5dfc867e9c03443dabcd46697240a5c9",
            "6c168b4f656d495db2c975d113f9fce0",
            "ca9692d13bcc475aa69ff71c0f576cf8",
            "cf0c3dfd5757479f82bdc8788f31e262",
            "c7797f203099422e92aa171b6e6bae32",
            "b33d22a57edb483594f372d6b5a65fc9",
            "2a5d563cd14146d0bbabf0645adfc319",
            "acca0de94a76409d84790f3bd6b1de87",
            "2957398a35574e9bb5a8a26b4a37a616",
            "8dd55a7df9a2451d9661c9c7aab23d71"
          ]
        },
        "id": "milfW2sz1aWF",
        "outputId": "1fdb1987-b37e-4ecf-b403-cf69ebb527e2"
      },
      "execution_count": 31,
      "outputs": [
        {
          "output_type": "display_data",
          "data": {
            "text/plain": [
              "Downloading:   0%|          | 0.00/479 [00:00<?, ?B/s]"
            ],
            "application/vnd.jupyter.widget-view+json": {
              "version_major": 2,
              "version_minor": 0,
              "model_id": "5a1807987af34042b0e9e56179d79ba3"
            }
          },
          "metadata": {}
        },
        {
          "output_type": "display_data",
          "data": {
            "text/plain": [
              "Downloading:   0%|          | 0.00/445M [00:00<?, ?B/s]"
            ],
            "application/vnd.jupyter.widget-view+json": {
              "version_major": 2,
              "version_minor": 0,
              "model_id": "8727e7f2f2004689a94bc86c6b1c3115"
            }
          },
          "metadata": {}
        },
        {
          "output_type": "stream",
          "name": "stdout",
          "text": [
            "BertConfig {\n",
            "  \"_name_or_path\": \"cl-tohoku/bert-base-japanese-whole-word-masking\",\n",
            "  \"architectures\": [\n",
            "    \"BertForMaskedLM\"\n",
            "  ],\n",
            "  \"attention_probs_dropout_prob\": 0.1,\n",
            "  \"gradient_checkpointing\": false,\n",
            "  \"hidden_act\": \"gelu\",\n",
            "  \"hidden_dropout_prob\": 0.1,\n",
            "  \"hidden_size\": 768,\n",
            "  \"initializer_range\": 0.02,\n",
            "  \"intermediate_size\": 3072,\n",
            "  \"layer_norm_eps\": 1e-12,\n",
            "  \"max_position_embeddings\": 512,\n",
            "  \"model_type\": \"bert\",\n",
            "  \"num_attention_heads\": 12,\n",
            "  \"num_hidden_layers\": 12,\n",
            "  \"pad_token_id\": 0,\n",
            "  \"position_embedding_type\": \"absolute\",\n",
            "  \"tokenizer_class\": \"BertJapaneseTokenizer\",\n",
            "  \"transformers_version\": \"4.4.0\",\n",
            "  \"type_vocab_size\": 2,\n",
            "  \"use_cache\": true,\n",
            "  \"vocab_size\": 32000\n",
            "}\n",
            "\n"
          ]
        }
      ]
    },
    {
      "cell_type": "code",
      "source": [
        "sample_ids = batch.x[0].unsqueeze(0)\n",
        "\n",
        "bert_out = bert(sample_ids, output_attentions=True)\n",
        "\n",
        "len(bert_out)"
      ],
      "metadata": {
        "colab": {
          "base_uri": "https://localhost:8080/"
        },
        "id": "saRMxcrf1fhz",
        "outputId": "134afcb5-377c-49a4-a0d3-e285ddb9fb68"
      },
      "execution_count": 32,
      "outputs": [
        {
          "output_type": "execute_result",
          "data": {
            "text/plain": [
              "3"
            ]
          },
          "metadata": {},
          "execution_count": 32
        }
      ]
    },
    {
      "cell_type": "code",
      "source": [
        "# BERT の出力 1 sequence_output\n",
        "# ここに格納されているのは、BERT により入力された系列が埋め込み表現に変換された値です。\n",
        "print('BERT の分散表現:', bert_out[0])\n",
        "print('分散表現の形：', bert_out[0].shape)"
      ],
      "metadata": {
        "colab": {
          "base_uri": "https://localhost:8080/"
        },
        "id": "gfYNvssM1o5U",
        "outputId": "000e185c-62da-4653-db6a-4a249db2cb3c"
      },
      "execution_count": 33,
      "outputs": [
        {
          "output_type": "stream",
          "name": "stdout",
          "text": [
            "BERT の分散表現: tensor([[[-0.7664,  0.3372,  0.0734,  ..., -0.3660, -1.4090,  0.1561],\n",
            "         [-0.6048,  0.4757,  0.0143,  ..., -0.6551, -1.4973,  0.2622],\n",
            "         [-0.5128,  0.5648, -0.0591,  ..., -0.1275, -0.9531,  0.4290],\n",
            "         ...,\n",
            "         [-0.6346,  0.3120,  0.2112,  ..., -0.2405, -1.4402,  0.2512],\n",
            "         [-0.6527,  0.3371,  0.1984,  ..., -0.1991, -1.4577,  0.2344],\n",
            "         [-0.6527,  0.3539,  0.2050,  ..., -0.1626, -1.4910,  0.2146]]],\n",
            "       grad_fn=<NativeLayerNormBackward>)\n",
            "分散表現の形： torch.Size([1, 34, 768])\n"
          ]
        }
      ]
    },
    {
      "cell_type": "code",
      "source": [
        "# BERT の出力 2 pooled_output\n",
        "# [CLS] トークンに対応するベクトルをさらに線形写像したものが格納されています。\n",
        "print(bert_out[1])\n",
        "print(bert_out[1].shape)"
      ],
      "metadata": {
        "colab": {
          "base_uri": "https://localhost:8080/"
        },
        "id": "-AsMTWTU1rG9",
        "outputId": "bcaa4aa8-08c2-4bf2-f621-9363e10d8890"
      },
      "execution_count": 34,
      "outputs": [
        {
          "output_type": "stream",
          "name": "stdout",
          "text": [
            "tensor([[ 7.7604e-01, -4.7069e-01, -2.5753e-01, -1.6704e-01,  1.2131e-01,\n",
            "          9.9813e-01, -4.1677e-01,  6.3521e-02,  1.2830e-01, -7.2432e-02,\n",
            "          1.7502e-01,  2.8855e-01,  4.4259e-02,  4.4484e-01,  2.3860e-01,\n",
            "         -3.4121e-01,  2.7969e-01, -2.4965e-02,  2.9459e-01,  1.7401e-03,\n",
            "         -1.0727e-01,  2.8687e-01, -2.6278e-02,  9.9540e-01,  9.9941e-01,\n",
            "          4.8138e-01,  3.4808e-02, -5.1303e-01,  9.9840e-01,  6.4132e-01,\n",
            "          5.3104e-01,  1.4260e-01,  5.4266e-02,  2.7531e-02,  7.8514e-02,\n",
            "         -8.3245e-02,  7.2229e-01,  1.3809e-01, -9.4432e-03, -2.3540e-01,\n",
            "         -8.1260e-02, -9.2222e-01, -8.3041e-01, -2.6173e-02,  5.0509e-01,\n",
            "          1.8540e-01, -1.7790e-01, -5.2040e-01,  2.9715e-01,  1.4456e-01,\n",
            "         -2.7709e-01,  2.2371e-01, -9.9959e-02, -9.9737e-01, -1.0351e-01,\n",
            "          5.9449e-01,  5.6427e-03, -3.4658e-01, -7.4529e-02,  9.9889e-01,\n",
            "          9.7608e-01, -3.4261e-01,  7.7707e-02,  3.7855e-01, -5.3713e-01,\n",
            "          6.6663e-01,  1.0126e-01,  4.0459e-01,  5.3285e-01,  9.1116e-01,\n",
            "          3.4251e-01,  1.8165e-01, -2.3903e-01,  1.8133e-01,  5.1630e-01,\n",
            "          1.7467e-01,  9.8417e-01, -9.9729e-02, -9.5744e-01,  4.2160e-02,\n",
            "         -9.2318e-01,  3.7742e-01, -3.0422e-01,  3.5146e-01, -5.8587e-01,\n",
            "          5.8285e-01, -1.7070e-01, -3.8886e-01,  1.9384e-01,  6.3688e-01,\n",
            "          5.4851e-02, -9.6308e-01,  3.0508e-02, -1.5628e-01, -8.8359e-03,\n",
            "         -1.2177e-02, -4.2218e-01,  6.0936e-01, -2.8453e-01,  1.8932e-01,\n",
            "          2.5549e-01,  4.5011e-01, -4.3365e-01, -4.6521e-02,  2.3887e-01,\n",
            "          2.3724e-01,  3.2586e-02,  3.5166e-01, -2.8466e-01,  1.4464e-01,\n",
            "         -1.7920e-01, -2.4978e-01, -3.5441e-01, -2.9566e-01,  7.6564e-02,\n",
            "          3.9983e-01, -4.2970e-01, -2.9566e-01, -1.9745e-01,  3.5341e-01,\n",
            "         -9.5497e-03, -7.5883e-01,  5.8134e-01, -1.7534e-01, -9.4534e-01,\n",
            "         -9.9739e-01, -6.7819e-01,  1.0981e-03,  9.5223e-02,  7.4182e-03,\n",
            "         -2.1331e-01,  1.7297e-01,  3.0062e-01,  1.9542e-01, -2.1245e-01,\n",
            "          3.0922e-01,  3.8360e-01,  2.4339e-01, -4.1889e-01, -1.4126e-01,\n",
            "         -2.3400e-01,  9.1925e-01,  2.7816e-01,  7.1828e-01, -9.9946e-01,\n",
            "         -1.3229e-01,  6.6398e-01,  9.7178e-02, -1.8743e-01,  2.0833e-01,\n",
            "         -4.6782e-01, -1.3602e-01,  3.3677e-01, -2.9536e-01,  3.3501e-01,\n",
            "          2.4285e-01,  6.4108e-01,  7.7748e-02,  4.9200e-01, -5.3979e-01,\n",
            "         -3.0128e-01,  2.8280e-01, -3.4725e-01, -5.3207e-01, -2.4769e-01,\n",
            "          1.7679e-02, -3.2016e-01, -3.7561e-01,  4.3993e-01, -2.3487e-01,\n",
            "         -4.3555e-01,  1.7787e-01,  5.8687e-01, -9.2779e-01,  7.8293e-02,\n",
            "         -3.2291e-01,  5.2273e-01,  5.8086e-01,  7.6438e-01,  2.4351e-01,\n",
            "         -2.6456e-01,  3.0450e-01,  3.8276e-01,  1.6542e-01, -6.1331e-02,\n",
            "          4.9544e-01, -1.7957e-01, -3.2175e-01, -8.2836e-01, -5.2719e-01,\n",
            "          1.3681e-01,  9.0717e-01, -6.6937e-02, -3.6430e-01,  3.5598e-01,\n",
            "         -5.8447e-02, -2.0461e-01,  3.2324e-02,  6.7646e-01,  9.9197e-01,\n",
            "         -6.0207e-01, -5.3350e-01,  3.2297e-02,  7.7847e-01, -4.5472e-01,\n",
            "         -5.6041e-02,  7.7986e-01,  1.8023e-01, -5.6491e-01, -7.1711e-03,\n",
            "         -6.1268e-01, -4.3689e-01, -9.3883e-01,  9.3737e-01,  9.1724e-01,\n",
            "         -1.6029e-01, -1.3976e-01,  7.7304e-02, -1.0846e-02, -3.8640e-01,\n",
            "         -4.5745e-01,  9.3909e-01, -8.7485e-01,  2.0861e-01, -5.4842e-01,\n",
            "          2.1960e-01, -5.6998e-01, -2.3444e-01, -7.9532e-02,  9.8740e-01,\n",
            "          8.1570e-01, -8.7884e-02,  5.4126e-01, -2.2230e-01, -2.9284e-01,\n",
            "          3.0341e-01, -2.1441e-01,  3.2898e-01,  6.6834e-02,  1.0008e-01,\n",
            "         -3.7782e-01, -3.2737e-01,  2.8673e-01,  9.8511e-01,  1.0480e-01,\n",
            "          2.1617e-01,  7.7701e-02, -1.0242e-01, -2.6988e-01,  3.1366e-01,\n",
            "         -9.9948e-01, -1.9064e-01, -2.4589e-02,  2.2826e-01,  1.3300e-01,\n",
            "          1.9755e-01,  9.3583e-01,  2.5703e-01,  9.5988e-01,  2.3922e-01,\n",
            "         -5.4861e-01, -7.5302e-01, -5.3769e-01, -2.3461e-01,  9.0176e-01,\n",
            "         -3.1987e-01,  2.8648e-02,  3.3601e-01,  7.0815e-01,  9.5551e-01,\n",
            "          1.4793e-01, -4.2138e-02,  9.1312e-01, -5.9578e-02, -7.4324e-01,\n",
            "         -1.1122e-01, -3.9690e-01, -5.8681e-01, -5.7661e-02, -2.3750e-01,\n",
            "          6.9197e-02,  3.5203e-01, -3.3614e-01,  9.9815e-01,  1.2112e-01,\n",
            "         -1.6832e-01, -2.8567e-01,  1.6462e-01,  1.1146e-01, -9.9918e-01,\n",
            "          2.5283e-01,  1.2623e-01, -1.9550e-01,  4.6246e-01, -3.5622e-01,\n",
            "          2.8338e-02,  3.3180e-01, -3.3416e-01,  2.9461e-01, -1.1753e-01,\n",
            "          3.2323e-02,  9.4876e-01,  4.9868e-01,  3.3264e-01, -5.8297e-01,\n",
            "          2.2537e-01, -9.9911e-01,  1.2608e-01, -3.1655e-01, -9.9792e-01,\n",
            "          9.7564e-01, -1.6432e-01, -9.9794e-01, -9.2103e-01, -1.6831e-01,\n",
            "          1.9082e-01, -2.7680e-01,  4.5461e-01,  1.4632e-01, -2.2634e-01,\n",
            "         -2.5623e-01, -5.2357e-01, -8.4137e-02,  1.4287e-02, -4.2716e-03,\n",
            "         -8.4219e-02,  1.3137e-01,  3.1551e-01,  1.9520e-01,  4.9670e-01,\n",
            "          4.7318e-01,  1.8793e-01,  4.1345e-01, -5.6609e-01, -1.3078e-01,\n",
            "          8.3046e-02,  7.4177e-01, -3.3038e-01, -2.2183e-02, -1.9423e-01,\n",
            "         -9.5793e-02,  6.3668e-01, -2.8725e-01, -4.4401e-01,  2.3311e-01,\n",
            "          1.5151e-01, -4.7021e-01, -2.6449e-01, -1.0745e-01, -7.9538e-03,\n",
            "         -5.8039e-01, -6.8363e-02, -9.9920e-02, -6.5667e-02, -6.5569e-01,\n",
            "         -1.7170e-01,  1.5571e-01,  9.9390e-02, -8.3814e-01, -2.4348e-01,\n",
            "         -2.4177e-01,  8.2070e-01, -1.1344e-01,  2.1025e-01, -9.3656e-01,\n",
            "         -7.9961e-01, -2.5458e-01, -5.9082e-01,  5.2477e-01,  8.4440e-02,\n",
            "          1.0432e-01, -4.8508e-01,  2.0860e-01, -1.5846e-01,  2.2513e-01,\n",
            "          4.6415e-01, -7.3314e-01, -2.8515e-01, -2.3298e-01,  9.9882e-01,\n",
            "          6.5413e-02,  3.4132e-01, -1.9196e-01,  5.1051e-01, -5.5866e-01,\n",
            "          8.1151e-01, -4.9003e-01, -3.3380e-04,  5.5123e-02, -2.9117e-02,\n",
            "         -2.5862e-01,  7.2056e-01, -6.9926e-01,  1.4498e-01, -1.9324e-01,\n",
            "          7.2342e-02,  1.2527e-01,  3.2947e-01, -6.1099e-01, -4.4736e-01,\n",
            "          2.1899e-01,  5.6371e-02,  8.3588e-01, -3.6154e-01,  1.3919e-01,\n",
            "         -5.8769e-01, -1.1067e-01, -2.3805e-01, -4.5571e-01,  2.8327e-01,\n",
            "         -2.7643e-01, -9.4286e-01,  3.4997e-01, -9.9661e-01,  1.6978e-01,\n",
            "         -1.8974e-01, -9.4982e-01, -9.9390e-01,  3.1503e-01,  4.8653e-01,\n",
            "          5.5260e-01,  3.2058e-01,  9.0626e-02,  3.3368e-01, -2.8799e-01,\n",
            "         -9.9054e-01,  1.4496e-01, -2.9107e-01,  2.6558e-01, -1.7378e-01,\n",
            "         -9.8347e-01,  9.9870e-01, -5.6077e-02, -4.1873e-01,  2.8914e-01,\n",
            "          3.0573e-01,  3.7632e-01,  9.6574e-01, -3.7131e-01,  2.9278e-01,\n",
            "         -3.8343e-01,  5.0328e-01,  1.4605e-01,  3.8960e-01,  6.8201e-01,\n",
            "         -8.6880e-01, -4.0313e-01,  2.9949e-01, -7.7001e-01,  4.7464e-01,\n",
            "          9.6830e-01,  5.6806e-02, -3.1467e-01,  7.4870e-01, -4.1059e-01,\n",
            "         -7.5843e-02, -4.1898e-01, -9.4153e-01, -5.8823e-01,  1.8800e-01,\n",
            "         -6.3753e-01,  2.1670e-01,  1.7899e-01, -5.7216e-01,  2.4414e-01,\n",
            "          9.9896e-01, -2.2993e-01, -7.6274e-02,  1.4580e-01, -1.2569e-01,\n",
            "          1.2232e-01,  9.6922e-01,  1.3991e-01, -3.3788e-01,  3.9499e-01,\n",
            "         -2.6557e-01,  4.2982e-01,  4.3071e-01, -1.6744e-01,  1.7980e-02,\n",
            "         -9.2180e-01, -7.7975e-01,  7.3685e-01, -9.9941e-01,  2.9562e-01,\n",
            "          1.3801e-01,  4.6568e-01, -2.9751e-01, -9.3987e-01, -2.5435e-01,\n",
            "          9.8557e-01, -5.6042e-01,  2.0954e-01, -1.0469e-01, -4.9083e-01,\n",
            "         -5.0895e-02, -4.3541e-01,  4.9796e-01,  8.8837e-01, -9.8962e-02,\n",
            "          7.1688e-01, -9.9929e-01,  6.4690e-01,  5.3570e-03, -6.4837e-01,\n",
            "          6.6247e-02,  1.3895e-01,  1.0096e-01, -6.1612e-02, -9.1603e-01,\n",
            "          1.6776e-01, -4.5150e-01, -7.7679e-02, -1.2495e-01,  5.4236e-01,\n",
            "          3.1991e-01, -4.2036e-01, -2.0425e-02,  2.4229e-01, -8.9788e-01,\n",
            "         -2.8991e-01,  4.0098e-01, -5.0712e-01,  7.9163e-01,  3.1479e-01,\n",
            "          6.9576e-02, -9.4027e-01, -3.6970e-01,  9.4621e-01, -2.6831e-01,\n",
            "         -2.5602e-01,  2.2157e-01, -2.9275e-01, -9.9515e-01, -6.1171e-01,\n",
            "          9.7663e-01, -2.0599e-01,  2.6552e-01, -3.9150e-01, -2.5089e-01,\n",
            "          2.2412e-01, -1.4784e-01, -4.1434e-01, -1.3253e-02,  1.3078e-02,\n",
            "          9.7594e-01,  2.9955e-01, -2.2008e-01, -6.2669e-01, -4.6420e-02,\n",
            "         -5.9938e-01, -3.4657e-01, -3.9789e-03, -8.0744e-01, -4.6956e-01,\n",
            "         -8.3204e-02, -9.0110e-02,  2.6822e-01,  6.4041e-02,  3.6977e-01,\n",
            "         -2.5059e-01,  4.4697e-01,  1.6841e-01, -1.6255e-01, -9.9875e-01,\n",
            "         -3.9813e-01, -2.1874e-01,  1.2385e-01, -1.9828e-01, -1.3930e-01,\n",
            "          2.9339e-01, -7.9598e-02, -8.6592e-01, -6.7082e-02,  8.4112e-01,\n",
            "         -9.6081e-01,  9.5079e-01, -6.1313e-01, -1.3579e-01, -4.9159e-02,\n",
            "          1.1345e-01, -3.7857e-01, -2.9282e-01, -5.2854e-02,  3.4266e-02,\n",
            "          2.0073e-01,  1.1264e-01, -9.2248e-01,  8.7269e-02,  1.4336e-01,\n",
            "          9.3187e-02, -6.3875e-02,  2.6844e-02,  6.1033e-01,  2.2807e-01,\n",
            "          8.8380e-02, -4.6836e-01, -6.7697e-01, -6.1345e-02, -1.2598e-01,\n",
            "         -2.9343e-01,  9.9956e-01, -2.7224e-02,  9.5329e-01,  4.8213e-01,\n",
            "          3.2609e-01, -4.0519e-01, -1.7468e-01, -6.3190e-02,  4.3311e-01,\n",
            "         -3.6636e-01, -3.9937e-01,  6.3932e-01, -9.3965e-01, -6.5156e-01,\n",
            "         -2.3537e-01, -4.0015e-01,  1.2149e-01, -1.3889e-01,  1.1667e-01,\n",
            "          9.9962e-01, -5.4430e-01, -3.3748e-01,  1.4743e-01,  1.3727e-01,\n",
            "         -9.2062e-01, -2.0732e-01,  1.2365e-01, -5.0679e-02, -9.0206e-03,\n",
            "          3.5116e-01,  3.6287e-01,  2.7624e-02,  2.1808e-01,  1.4101e-01,\n",
            "         -2.1784e-01,  7.2566e-02, -2.1369e-01,  4.2816e-01,  1.6701e-01,\n",
            "          6.5721e-01,  1.1810e-01, -9.0252e-02,  5.1636e-01, -6.6096e-01,\n",
            "         -9.8603e-01,  5.5676e-01,  7.2564e-01,  2.0418e-01, -1.6624e-01,\n",
            "         -5.8923e-02,  3.0416e-02,  3.5363e-01,  4.0101e-01, -9.9752e-01,\n",
            "         -5.5790e-01,  1.9392e-01,  2.0897e-01, -9.2700e-01,  2.2301e-01,\n",
            "         -8.5757e-02,  9.8490e-01,  2.5381e-01,  2.7470e-01, -1.4463e-01,\n",
            "         -5.6037e-02, -3.8279e-01,  9.1910e-02,  5.4775e-01,  1.6874e-01,\n",
            "         -3.4026e-01, -4.4500e-01,  9.6595e-02,  9.1744e-01, -1.5731e-01,\n",
            "          2.2978e-01, -6.2955e-02, -2.7553e-01,  3.9609e-01, -9.7297e-01,\n",
            "          3.7573e-01,  7.6037e-01, -6.6387e-02,  8.8068e-01, -4.7263e-01,\n",
            "         -2.6831e-01,  3.5900e-01,  2.2851e-01,  6.0833e-01, -5.8451e-02,\n",
            "          9.3627e-01, -4.6367e-01, -3.4269e-01, -3.5295e-01,  3.8710e-01,\n",
            "          4.4199e-01,  2.6405e-01, -1.1965e-02, -7.2634e-01, -6.7479e-01,\n",
            "         -4.9537e-01, -4.5229e-01,  9.5859e-02,  2.2389e-01,  2.3503e-01,\n",
            "          2.3459e-01, -1.2441e-01, -9.7898e-01, -5.0586e-01, -4.9870e-01,\n",
            "         -1.6873e-01,  2.7073e-01,  9.9593e-01,  2.3207e-01,  9.1956e-02,\n",
            "         -4.8606e-01, -4.4458e-01,  5.4644e-01,  4.8280e-01, -5.8943e-02,\n",
            "         -1.1028e-01, -4.0612e-02, -3.1841e-01, -1.6122e-01, -3.1273e-02,\n",
            "         -9.7125e-01, -2.4242e-01,  2.8216e-01,  5.9770e-02, -4.7440e-01,\n",
            "          1.5559e-01, -9.9969e-01, -9.8323e-01, -1.2260e-01, -4.6534e-01,\n",
            "          1.1858e-01, -4.6076e-01, -1.0812e-01, -4.0589e-01, -2.8022e-01,\n",
            "          1.6900e-01, -2.6959e-01, -3.3542e-02,  4.8256e-01,  2.8088e-02,\n",
            "          1.2707e-03, -1.1905e-02,  4.0366e-01, -9.6446e-01, -2.2626e-01,\n",
            "          9.3075e-02,  4.4333e-01,  6.0398e-01,  2.4449e-01,  5.2376e-01,\n",
            "         -9.9308e-01, -1.1021e-01,  1.9193e-01,  7.5611e-02,  3.9719e-01,\n",
            "         -3.0518e-01,  6.0357e-01,  1.8734e-01,  4.1832e-01, -1.9001e-01,\n",
            "          5.7948e-01, -7.1153e-02, -4.3752e-02]], grad_fn=<TanhBackward>)\n",
            "torch.Size([1, 768])\n"
          ]
        }
      ]
    },
    {
      "cell_type": "code",
      "source": [
        "# BERT の出力 2 Attention Weight\n",
        "# BERT 内で使用されている Attention Weight が格納されています。\n",
        "print(len(bert_out[2]))"
      ],
      "metadata": {
        "colab": {
          "base_uri": "https://localhost:8080/"
        },
        "id": "ISAd7des19Dn",
        "outputId": "26d628e7-3206-422a-cc50-6c194df9d6ff"
      },
      "execution_count": 35,
      "outputs": [
        {
          "output_type": "stream",
          "name": "stdout",
          "text": [
            "12\n"
          ]
        }
      ]
    },
    {
      "cell_type": "code",
      "source": [
        "# BERT 最終層の Attenton Weight を出力\n",
        "print('最後の　Bertlayer の　Attention Weight：', bert_out[2][-1])\n",
        "print(bert_out[2][-1].shape)"
      ],
      "metadata": {
        "colab": {
          "base_uri": "https://localhost:8080/"
        },
        "id": "ltcBOxyx2E0c",
        "outputId": "07faee71-78e5-4de6-f6a0-b4222293e0b9"
      },
      "execution_count": 36,
      "outputs": [
        {
          "output_type": "stream",
          "name": "stdout",
          "text": [
            "最後の　Bertlayer の　Attention Weight： tensor([[[[0.0171, 0.0095, 0.1053,  ..., 0.0083, 0.0084, 0.0093],\n",
            "          [0.0102, 0.0136, 0.1909,  ..., 0.0034, 0.0029, 0.0029],\n",
            "          [0.0081, 0.0103, 0.1295,  ..., 0.0037, 0.0033, 0.0033],\n",
            "          ...,\n",
            "          [0.0066, 0.0017, 0.0397,  ..., 0.0154, 0.0164, 0.0158],\n",
            "          [0.0074, 0.0018, 0.0401,  ..., 0.0143, 0.0161, 0.0164],\n",
            "          [0.0083, 0.0020, 0.0420,  ..., 0.0118, 0.0137, 0.0149]],\n",
            "\n",
            "         [[0.0383, 0.0191, 0.1478,  ..., 0.0161, 0.0158, 0.0163],\n",
            "          [0.0200, 0.0384, 0.3947,  ..., 0.0043, 0.0036, 0.0036],\n",
            "          [0.0237, 0.0342, 0.2659,  ..., 0.0076, 0.0063, 0.0057],\n",
            "          ...,\n",
            "          [0.0282, 0.0074, 0.0750,  ..., 0.0527, 0.0545, 0.0492],\n",
            "          [0.0301, 0.0070, 0.0729,  ..., 0.0451, 0.0511, 0.0517],\n",
            "          [0.0330, 0.0073, 0.0739,  ..., 0.0366, 0.0431, 0.0474]],\n",
            "\n",
            "         [[0.0281, 0.0262, 0.0622,  ..., 0.0240, 0.0246, 0.0256],\n",
            "          [0.0252, 0.0308, 0.1021,  ..., 0.0231, 0.0235, 0.0246],\n",
            "          [0.0199, 0.0361, 0.1269,  ..., 0.0187, 0.0186, 0.0190],\n",
            "          ...,\n",
            "          [0.0324, 0.0247, 0.0464,  ..., 0.0267, 0.0276, 0.0287],\n",
            "          [0.0319, 0.0241, 0.0452,  ..., 0.0269, 0.0278, 0.0291],\n",
            "          [0.0314, 0.0240, 0.0464,  ..., 0.0265, 0.0275, 0.0288]],\n",
            "\n",
            "         ...,\n",
            "\n",
            "         [[0.0443, 0.0306, 0.0367,  ..., 0.0206, 0.0191, 0.0188],\n",
            "          [0.0464, 0.0663, 0.0412,  ..., 0.0146, 0.0136, 0.0136],\n",
            "          [0.0462, 0.0365, 0.0431,  ..., 0.0163, 0.0149, 0.0148],\n",
            "          ...,\n",
            "          [0.0414, 0.0292, 0.0330,  ..., 0.0214, 0.0197, 0.0188],\n",
            "          [0.0415, 0.0289, 0.0322,  ..., 0.0214, 0.0198, 0.0191],\n",
            "          [0.0418, 0.0288, 0.0319,  ..., 0.0212, 0.0198, 0.0192]],\n",
            "\n",
            "         [[0.0330, 0.0097, 0.0558,  ..., 0.0251, 0.0246, 0.0255],\n",
            "          [0.0254, 0.0106, 0.0672,  ..., 0.0168, 0.0160, 0.0164],\n",
            "          [0.0315, 0.0092, 0.0587,  ..., 0.0204, 0.0196, 0.0205],\n",
            "          ...,\n",
            "          [0.0271, 0.0077, 0.0519,  ..., 0.0266, 0.0255, 0.0254],\n",
            "          [0.0272, 0.0077, 0.0519,  ..., 0.0263, 0.0254, 0.0254],\n",
            "          [0.0268, 0.0076, 0.0520,  ..., 0.0251, 0.0242, 0.0244]],\n",
            "\n",
            "         [[0.0448, 0.0399, 0.0768,  ..., 0.0206, 0.0210, 0.0230],\n",
            "          [0.0435, 0.0561, 0.1128,  ..., 0.0143, 0.0143, 0.0153],\n",
            "          [0.0364, 0.0444, 0.1284,  ..., 0.0145, 0.0152, 0.0169],\n",
            "          ...,\n",
            "          [0.0423, 0.0279, 0.0536,  ..., 0.0370, 0.0377, 0.0388],\n",
            "          [0.0421, 0.0274, 0.0526,  ..., 0.0383, 0.0396, 0.0411],\n",
            "          [0.0422, 0.0277, 0.0543,  ..., 0.0370, 0.0386, 0.0407]]]],\n",
            "       grad_fn=<SoftmaxBackward>)\n",
            "torch.Size([1, 12, 34, 34])\n"
          ]
        }
      ]
    },
    {
      "cell_type": "markdown",
      "source": [
        "### ネットワークの定義"
      ],
      "metadata": {
        "id": "SUaVTH3x2F_K"
      }
    },
    {
      "cell_type": "code",
      "source": [
        "class BertClassifier(pl.LightningModule):\n",
        "    def __init__(self, n_output=9):\n",
        "        super().__init__()\n",
        "        self.bert = BertModel.from_pretrained('cl-tohoku/bert-base-japanese-whole-word-masking')\n",
        "        d_model = self.bert.pooler.dense.in_features\n",
        "\n",
        "        # BERTの隠れ層の次元数は768, ニュース記事のカテゴリ数が9\n",
        "        self.fc = nn.Linear(d_model, n_output)\n",
        "\n",
        "        # Fine tuning の設定\n",
        "        # 全てを勾配計算 False に設定\n",
        "        for param in self.parameters():\n",
        "            param.requires_grad = False\n",
        "            \n",
        "        # Bert の最後の Layer を勾配計算ありに変更\n",
        "        for param in self.bert.encoder.layer[-1].parameters():\n",
        "            param.requires_grad = True\n",
        "            \n",
        "        # Linear を勾配計算ありに変更\n",
        "        for param in self.fc.parameters():\n",
        "            param.requires_grad = True\n",
        "\n",
        "    def forward(self, x):\n",
        "        bert_out = self.bert(x, output_attentions=True)\n",
        "        # [CLS] に対する分散表現のみ取得\n",
        "        h = bert_out[0][:,0,:]\n",
        "        # h = bert_out[1]\n",
        "        h = self.fc(h)\n",
        "        return h, bert_out[2]\n",
        "\n",
        "    def training_step(self, batch, batch_idx):\n",
        "        x, t = batch.x, batch.t\n",
        "        # forward の出力は out と attentions の tuple\n",
        "        y = self(x)[0]\n",
        "        loss = F.cross_entropy(y, t)\n",
        "\n",
        "        self.log('train_loss', loss, on_step=False, on_epoch=True)\n",
        "        self.log('train_acc', accuracy(y.softmax(dim=-1), t), on_step=False, on_epoch=True)\n",
        "        return loss\n",
        "\n",
        "    def validation_step(self, batch, batch_idx):\n",
        "        x, t = batch.x, batch.t\n",
        "        # forward の出力は out と attentions の tuple\n",
        "        y = self(x)[0]\n",
        "        loss = F.cross_entropy(y, t)\n",
        "\n",
        "        self.log('val_loss', loss, on_step=False, on_epoch=True)\n",
        "        self.log('val_acc', accuracy(y.softmax(dim=-1), t), on_step=False, on_epoch=True)\n",
        "        return loss\n",
        "\n",
        "    def test_step(self, batch, batch_idx):\n",
        "        x, t = batch.x, batch.t\n",
        "        # forward の出力は out と attentions の tuple\n",
        "        y = self(x)[0]\n",
        "        loss = F.cross_entropy(y, t)\n",
        "\n",
        "        self.log('test_loss', loss, on_step=False, on_epoch=True)\n",
        "        self.log('test_acc', accuracy(y.softmax(dim=-1), t), on_step=False, on_epoch=True)\n",
        "        return loss\n",
        "\n",
        "    def configure_optimizers(self):\n",
        "        # 学習率を分ける\n",
        "        optimizer = transformers.AdamW([\n",
        "                                        {'params': self.bert.encoder.layer[-1].parameters(), 'lr': 5e-5},\n",
        "                                        {'params': self.fc.parameters(), 'lr': 3e-5}\n",
        "        ])\n",
        "        return optimizer"
      ],
      "metadata": {
        "id": "qB_an5P_2NZz"
      },
      "execution_count": 37,
      "outputs": []
    },
    {
      "cell_type": "markdown",
      "source": [
        "### 学習"
      ],
      "metadata": {
        "id": "DDP7M_d02eU_"
      }
    },
    {
      "cell_type": "code",
      "source": [
        "from pytorch_lightning.loggers import CSVLogger"
      ],
      "metadata": {
        "id": "M67Bbph42f4m"
      },
      "execution_count": 38,
      "outputs": []
    },
    {
      "cell_type": "code",
      "source": [
        "# 乱数シードの固定\n",
        "pl.seed_everything(0)\n",
        "\n",
        "# インスタンス化\n",
        "net = BertClassifier()\n",
        "\n",
        "logger = CSVLogger(save_dir=\"logs\", name='my_exp')\n",
        "\n",
        "trainer = pl.Trainer(max_epochs=4, gpus=1, deterministic=True, logger=logger)\n",
        "trainer.fit(net, train_loader, val_loader)\n"
      ],
      "metadata": {
        "colab": {
          "base_uri": "https://localhost:8080/"
        },
        "id": "o9mCcK8q2hAc",
        "outputId": "4472bfec-4717-4bfd-9946-09c7e23eac85"
      },
      "execution_count": null,
      "outputs": [
        {
          "output_type": "stream",
          "name": "stderr",
          "text": [
            "Global seed set to 0\n",
            "GPU available: True, used: True\n",
            "TPU available: False, using: 0 TPU cores\n",
            "IPU available: False, using: 0 IPUs\n",
            "HPU available: False, using: 0 HPUs\n",
            "Missing logger folder: logs/my_exp\n",
            "LOCAL_RANK: 0 - CUDA_VISIBLE_DEVICES: [0]\n"
          ]
        }
      ]
    },
    {
      "cell_type": "code",
      "source": [
        "result = trainer.test(dataloaders=test_loader)"
      ],
      "metadata": {
        "id": "NmprrLPe2inQ"
      },
      "execution_count": null,
      "outputs": []
    }
  ]
}