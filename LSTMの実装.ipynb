{
  "nbformat": 4,
  "nbformat_minor": 0,
  "metadata": {
    "colab": {
      "name": "LSTMの実装.ipynb",
      "provenance": [],
      "authorship_tag": "ABX9TyMj8+ZuIh7Fth+RHD39Eidl"
    },
    "kernelspec": {
      "name": "python3",
      "display_name": "Python 3"
    },
    "language_info": {
      "name": "python"
    }
  },
  "cells": [
    {
      "cell_type": "code",
      "execution_count": 1,
      "metadata": {
        "id": "9X6_mdcfcFc_"
      },
      "outputs": [],
      "source": [
        "import numpy as np\n",
        "\n",
        "def sigmoid(x):\n",
        "    return 1 / (1 + np.exp(-x))"
      ]
    },
    {
      "cell_type": "code",
      "source": [
        "N = 32\n",
        "T = 16\n",
        "D = 100\n",
        "H = 100\n",
        "\n",
        "xs = np.random.randn(N, T, D)\n",
        "\n",
        "Wh_f = np.random.randn(H, H)\n",
        "Wx_f = np.random.randn(D, H)\n",
        "b_f = np.random.randn(N, H)\n",
        "\n",
        "h_prev = np.zeros((N, H))\n",
        "c_prev = np.zeros((N, H))"
      ],
      "metadata": {
        "id": "fIGA8FzxcetW"
      },
      "execution_count": 2,
      "outputs": []
    },
    {
      "cell_type": "code",
      "source": [
        "x = xs[:, 0, :]"
      ],
      "metadata": {
        "id": "P9fIxglsc-3m"
      },
      "execution_count": 3,
      "outputs": []
    },
    {
      "cell_type": "code",
      "source": [
        "f = sigmoid(np.dot(x, Wx_f) + np.dot(h_prev, Wh_f) + b_f)"
      ],
      "metadata": {
        "id": "rIxw_JVwdEN7"
      },
      "execution_count": 4,
      "outputs": []
    },
    {
      "cell_type": "code",
      "source": [
        "Wh_i = np.random.randn(H, H)\n",
        "Wx_i = np.random.randn(D, H)\n",
        "b_i = np.random.randn(N, H)"
      ],
      "metadata": {
        "id": "lqmlOnyEdQoV"
      },
      "execution_count": 5,
      "outputs": []
    },
    {
      "cell_type": "code",
      "source": [
        "i = sigmoid(np.dot(x, Wx_i) + np.dot(h_prev, Wh_i) + b_i)"
      ],
      "metadata": {
        "id": "fmYXK-JbdkjE"
      },
      "execution_count": 6,
      "outputs": []
    },
    {
      "cell_type": "code",
      "source": [
        "Wh_g = np.random.randn(H, H)\n",
        "Wx_g = np.random.randn(D, H)\n",
        "b_g = np.random.randn(N, H)"
      ],
      "metadata": {
        "id": "vFzWHP-1duPx"
      },
      "execution_count": 7,
      "outputs": []
    },
    {
      "cell_type": "code",
      "source": [
        "g = np.tanh(np.dot(x, Wx_g) + np.dot(h_prev, Wh_g) + b_g)"
      ],
      "metadata": {
        "id": "J_YsY2wfeFh9"
      },
      "execution_count": 11,
      "outputs": []
    },
    {
      "cell_type": "code",
      "source": [
        "c_next = f * c_prev + g * i"
      ],
      "metadata": {
        "id": "5TPevbupeJnd"
      },
      "execution_count": 12,
      "outputs": []
    },
    {
      "cell_type": "code",
      "source": [
        "Wh_o = np.random.randn(H, H)\n",
        "Wx_o = np.random.randn(D, H)\n",
        "b_o = np.random.randn(N, H)"
      ],
      "metadata": {
        "id": "6dpctO8YefnI"
      },
      "execution_count": 13,
      "outputs": []
    },
    {
      "cell_type": "code",
      "source": [
        "o = sigmoid(np.dot(x, Wx_g) + np.dot(h_prev, Wh_g) + b_g)"
      ],
      "metadata": {
        "id": "avbz3GhAeltY"
      },
      "execution_count": 14,
      "outputs": []
    },
    {
      "cell_type": "code",
      "source": [
        "h_next = o * np.tanh(c_next)"
      ],
      "metadata": {
        "id": "Y_cmxjs7escy"
      },
      "execution_count": 15,
      "outputs": []
    },
    {
      "cell_type": "markdown",
      "source": [
        "### 処理をまとめる"
      ],
      "metadata": {
        "id": "XZ7-EWqAfio6"
      }
    },
    {
      "cell_type": "code",
      "source": [
        "# Wh_f = np.random.randn(H, H)\n",
        "# Wh_i = np.random.randn(H, H)\n",
        "# Wh_g = np.random.randn(H, H)\n",
        "# Wh_o = np.random.randn(H, H)\n",
        "\n",
        "# Wx_f = np.random.randn(D, H)\n",
        "# Wx_i = np.random.randn(D, H)\n",
        "# Wx_g = np.random.randn(D, H)\n",
        "# Wx_o = np.random.randn(D, H)\n",
        "\n",
        "# b_f = np.random.randn(N, H)\n",
        "# b_i = np.random.randn(N, H)\n",
        "# b_g = np.random.randn(N, H)\n",
        "# b_o = np.random.randn(N, H)\n",
        "\n",
        "Wh = np.random.randn(H, 4 * H)\n",
        "Wx = np.random.randn(D, 4 * H)\n",
        "b = np.random.randn(N, 4 * H)"
      ],
      "metadata": {
        "id": "x1WKWQu_exRZ"
      },
      "execution_count": 16,
      "outputs": []
    },
    {
      "cell_type": "code",
      "source": [
        "class LSTM:\n",
        "\n",
        "    def __init__(self, Wx, Wh, b):\n",
        "        self.params = [Wx, Wh, b]\n",
        "        self.grads = [np.zeros_like(Wx), np.zeros_like(Wh), np.zeros_like(b)]\n",
        "        self.cache = None\n",
        "    \n",
        "    def forward(self, x, h_prev, c_prev):\n",
        "        Wx, Wh, b = self.params\n",
        "        N, H = h_prev.shape\n",
        "\n",
        "        A = np.dot(x, Wx) + np.dot(h_prev, Wh) + b\n",
        "\n",
        "        f = A[:, :H]\n",
        "        i = A[:, H:2*H]\n",
        "        g = A[:, 2*H:3*H]\n",
        "        o = A[:, 3*H:]\n",
        "\n",
        "        f = sigmoid(f)\n",
        "        g = np.tanh(g)\n",
        "        i = sigmoid(i)\n",
        "        o = sigmoid(o)\n",
        "\n",
        "        c_next = f * c_prev + g * i\n",
        "        h_next = o * np.tanh(c_next)\n",
        "\n",
        "        self.cache = [x, h_prev, c_prev, i, f, g, o, c_next]\n",
        "\n",
        "        return h_next, c_next"
      ],
      "metadata": {
        "id": "VHXqNZyefx2t"
      },
      "execution_count": 17,
      "outputs": []
    },
    {
      "cell_type": "code",
      "source": [
        "x = xs[:, 0, :]\n",
        "lstm = LSTM(Wx, Wh, b)\n",
        "\n",
        "h_next, c_next = lstm.forward(x, h_prev, c_prev)"
      ],
      "metadata": {
        "id": "UhAfG-OIhbNE"
      },
      "execution_count": 18,
      "outputs": []
    },
    {
      "cell_type": "code",
      "source": [
        "h_next.shape, c_next.shape"
      ],
      "metadata": {
        "colab": {
          "base_uri": "https://localhost:8080/"
        },
        "id": "XdK7YnV9hqpD",
        "outputId": "6cecb117-bb4c-4ad1-e0ef-e1fd8901bb15"
      },
      "execution_count": 19,
      "outputs": [
        {
          "output_type": "execute_result",
          "data": {
            "text/plain": [
              "((32, 100), (32, 100))"
            ]
          },
          "metadata": {},
          "execution_count": 19
        }
      ]
    }
  ]
}