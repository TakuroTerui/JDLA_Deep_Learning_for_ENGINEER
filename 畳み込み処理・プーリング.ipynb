{
  "nbformat": 4,
  "nbformat_minor": 0,
  "metadata": {
    "colab": {
      "name": "畳み込み処理・プーリング.ipynb",
      "provenance": [],
      "authorship_tag": "ABX9TyMzryvbkkn5E9oFzWJI3npa"
    },
    "kernelspec": {
      "name": "python3",
      "display_name": "Python 3"
    },
    "language_info": {
      "name": "python"
    }
  },
  "cells": [
    {
      "cell_type": "markdown",
      "source": [
        "## 畳み込み層の実装"
      ],
      "metadata": {
        "id": "XLHZTP0H73el"
      }
    },
    {
      "cell_type": "code",
      "source": [
        "import numpy as np"
      ],
      "metadata": {
        "id": "f5GwpQpJ8ACs"
      },
      "execution_count": 1,
      "outputs": []
    },
    {
      "cell_type": "markdown",
      "source": [
        "### 4次元配列"
      ],
      "metadata": {
        "id": "bO92JtT98CGf"
      }
    },
    {
      "cell_type": "code",
      "source": [
        "x = np.random.rand(10, 1, 28, 28)\n",
        "\n",
        "# 1つ目のデータの形状\n",
        "x[0].shape"
      ],
      "metadata": {
        "colab": {
          "base_uri": "https://localhost:8080/"
        },
        "id": "a_49OkBT8FDf",
        "outputId": "bbf32b7e-8600-4107-c5a6-c9dab84b0793"
      },
      "execution_count": 2,
      "outputs": [
        {
          "output_type": "execute_result",
          "data": {
            "text/plain": [
              "(1, 28, 28)"
            ]
          },
          "metadata": {},
          "execution_count": 2
        }
      ]
    },
    {
      "cell_type": "markdown",
      "source": [
        "### 4次元配列を2次元の行列へ展開"
      ],
      "metadata": {
        "id": "t6OPEYrY8Rri"
      }
    },
    {
      "cell_type": "code",
      "source": [
        "# 1枚目の画像データを用意\n",
        "input_data = np.random.rand(1, 1, 3, 3)\n",
        "\n",
        "input_data.shape"
      ],
      "metadata": {
        "colab": {
          "base_uri": "https://localhost:8080/"
        },
        "id": "Coo-V8rm8Yfo",
        "outputId": "9f1b5ea6-96cf-4755-c92d-8307925884d0"
      },
      "execution_count": 3,
      "outputs": [
        {
          "output_type": "execute_result",
          "data": {
            "text/plain": [
              "(1, 1, 3, 3)"
            ]
          },
          "metadata": {},
          "execution_count": 3
        }
      ]
    },
    {
      "cell_type": "code",
      "source": [
        "N, C, H, W = input_data.shape\n",
        "\n",
        "print(N, C, H, W)"
      ],
      "metadata": {
        "colab": {
          "base_uri": "https://localhost:8080/"
        },
        "id": "REEUyfo08i4T",
        "outputId": "b74a28bb-7d9d-472d-d17f-cb7f92b16efd"
      },
      "execution_count": 4,
      "outputs": [
        {
          "output_type": "stream",
          "name": "stdout",
          "text": [
            "1 1 3 3\n"
          ]
        }
      ]
    },
    {
      "cell_type": "code",
      "source": [
        "# 展開の設定\n",
        "filter_h = 3\n",
        "filter_w = 3\n",
        "stride = 1\n",
        "pad = 1"
      ],
      "metadata": {
        "id": "MLKjpbGq8pjZ"
      },
      "execution_count": 5,
      "outputs": []
    },
    {
      "cell_type": "code",
      "source": [
        "# 特徴マップのサイズ取得\n",
        "out_h = (H + 2 * pad - filter_h) // stride + 1\n",
        "out_w = (W + 2 * pad - filter_w) // stride + 1\n",
        "\n",
        "out_h, out_w"
      ],
      "metadata": {
        "colab": {
          "base_uri": "https://localhost:8080/"
        },
        "id": "1Dgo3EgF8w1D",
        "outputId": "d5692277-a91a-45f9-ad8d-041ed746e2a7"
      },
      "execution_count": 6,
      "outputs": [
        {
          "output_type": "execute_result",
          "data": {
            "text/plain": [
              "(3, 3)"
            ]
          },
          "metadata": {},
          "execution_count": 6
        }
      ]
    },
    {
      "cell_type": "code",
      "source": [
        "# パディングの実装\n",
        "img = np.pad(input_data, [(0, 0), (0, 0), (pad, pad), (pad, pad)], 'constant')\n",
        "\n",
        "print(img)"
      ],
      "metadata": {
        "colab": {
          "base_uri": "https://localhost:8080/"
        },
        "id": "xveSMqHz88CP",
        "outputId": "70391eac-c41b-4871-a569-f98bb721f946"
      },
      "execution_count": 7,
      "outputs": [
        {
          "output_type": "stream",
          "name": "stdout",
          "text": [
            "[[[[0.         0.         0.         0.         0.        ]\n",
            "   [0.         0.12008749 0.26034823 0.31243241 0.        ]\n",
            "   [0.         0.89416154 0.13200925 0.68446477 0.        ]\n",
            "   [0.         0.68226961 0.8210616  0.3151989  0.        ]\n",
            "   [0.         0.         0.         0.         0.        ]]]]\n"
          ]
        }
      ]
    },
    {
      "cell_type": "code",
      "source": [
        "img.shape"
      ],
      "metadata": {
        "colab": {
          "base_uri": "https://localhost:8080/"
        },
        "id": "DUGlsxLW9RCx",
        "outputId": "0e38e5ea-e73e-44ec-aa9a-548e7718e00d"
      },
      "execution_count": 8,
      "outputs": [
        {
          "output_type": "execute_result",
          "data": {
            "text/plain": [
              "(1, 1, 5, 5)"
            ]
          },
          "metadata": {},
          "execution_count": 8
        }
      ]
    },
    {
      "cell_type": "code",
      "source": [
        "# 展開用の0を用意\n",
        "col = np.zeros((N, C, filter_h, filter_w, out_h, out_w))\n",
        "\n",
        "col.shape"
      ],
      "metadata": {
        "colab": {
          "base_uri": "https://localhost:8080/"
        },
        "id": "VhC6PosP9TGl",
        "outputId": "e18df76a-9520-49e8-c09d-7cdf5698829e"
      },
      "execution_count": 10,
      "outputs": [
        {
          "output_type": "execute_result",
          "data": {
            "text/plain": [
              "(1, 1, 3, 3, 3, 3)"
            ]
          },
          "metadata": {},
          "execution_count": 10
        }
      ]
    },
    {
      "cell_type": "code",
      "source": [
        "print(col)"
      ],
      "metadata": {
        "colab": {
          "base_uri": "https://localhost:8080/"
        },
        "id": "uGxl2ls19hJt",
        "outputId": "0c5d63ce-f4fb-49e7-c39a-59272bbe7a41"
      },
      "execution_count": 11,
      "outputs": [
        {
          "output_type": "stream",
          "name": "stdout",
          "text": [
            "[[[[[[0. 0. 0.]\n",
            "     [0. 0. 0.]\n",
            "     [0. 0. 0.]]\n",
            "\n",
            "    [[0. 0. 0.]\n",
            "     [0. 0. 0.]\n",
            "     [0. 0. 0.]]\n",
            "\n",
            "    [[0. 0. 0.]\n",
            "     [0. 0. 0.]\n",
            "     [0. 0. 0.]]]\n",
            "\n",
            "\n",
            "   [[[0. 0. 0.]\n",
            "     [0. 0. 0.]\n",
            "     [0. 0. 0.]]\n",
            "\n",
            "    [[0. 0. 0.]\n",
            "     [0. 0. 0.]\n",
            "     [0. 0. 0.]]\n",
            "\n",
            "    [[0. 0. 0.]\n",
            "     [0. 0. 0.]\n",
            "     [0. 0. 0.]]]\n",
            "\n",
            "\n",
            "   [[[0. 0. 0.]\n",
            "     [0. 0. 0.]\n",
            "     [0. 0. 0.]]\n",
            "\n",
            "    [[0. 0. 0.]\n",
            "     [0. 0. 0.]\n",
            "     [0. 0. 0.]]\n",
            "\n",
            "    [[0. 0. 0.]\n",
            "     [0. 0. 0.]\n",
            "     [0. 0. 0.]]]]]]\n"
          ]
        }
      ]
    },
    {
      "cell_type": "code",
      "source": [
        "for y in range(filter_h):\n",
        "    y_max = y + stride * out_h\n",
        "    for x in range(filter_w):\n",
        "        x_max = x + stride * out_w\n",
        "        print(f'画像データの縦{y}~{y_max}、横{x}~{x_max}領域を、colの{y, x}番目に代入する')"
      ],
      "metadata": {
        "colab": {
          "base_uri": "https://localhost:8080/"
        },
        "id": "gvtSmhot9lyc",
        "outputId": "839dacf3-d26c-456d-f3f6-91e55f8c8ef7"
      },
      "execution_count": 12,
      "outputs": [
        {
          "output_type": "stream",
          "name": "stdout",
          "text": [
            "画像データの縦0~3、横0~3領域を、colの(0, 0)番目に代入する\n",
            "画像データの縦0~3、横1~4領域を、colの(0, 1)番目に代入する\n",
            "画像データの縦0~3、横2~5領域を、colの(0, 2)番目に代入する\n",
            "画像データの縦1~4、横0~3領域を、colの(1, 0)番目に代入する\n",
            "画像データの縦1~4、横1~4領域を、colの(1, 1)番目に代入する\n",
            "画像データの縦1~4、横2~5領域を、colの(1, 2)番目に代入する\n",
            "画像データの縦2~5、横0~3領域を、colの(2, 0)番目に代入する\n",
            "画像データの縦2~5、横1~4領域を、colの(2, 1)番目に代入する\n",
            "画像データの縦2~5、横2~5領域を、colの(2, 2)番目に代入する\n"
          ]
        }
      ]
    },
    {
      "cell_type": "code",
      "source": [
        "# 画像データの最初の領域\n",
        "print(img[:, :, 0:3:1, 0:3:1])"
      ],
      "metadata": {
        "colab": {
          "base_uri": "https://localhost:8080/"
        },
        "id": "E2eqr2IB-XSl",
        "outputId": "ffa57ec1-585f-4b46-fb0b-a72adb356a99"
      },
      "execution_count": 16,
      "outputs": [
        {
          "output_type": "stream",
          "name": "stdout",
          "text": [
            "[[[[0.         0.         0.        ]\n",
            "   [0.         0.12008749 0.26034823]\n",
            "   [0.         0.89416154 0.13200925]]]]\n"
          ]
        }
      ]
    },
    {
      "cell_type": "code",
      "source": [
        "# col に代入する\n",
        "col[:, :, 0, 0, :, :] = img[:, :, 0:3:1, 0:3:1]\n",
        "print(col)"
      ],
      "metadata": {
        "colab": {
          "base_uri": "https://localhost:8080/"
        },
        "id": "69Sduksl_GZE",
        "outputId": "2dddbc69-33a5-4403-a2c9-7bd5a0a7d274"
      },
      "execution_count": 17,
      "outputs": [
        {
          "output_type": "stream",
          "name": "stdout",
          "text": [
            "[[[[[[0.         0.         0.        ]\n",
            "     [0.         0.12008749 0.26034823]\n",
            "     [0.         0.89416154 0.13200925]]\n",
            "\n",
            "    [[0.         0.         0.        ]\n",
            "     [0.         0.         0.        ]\n",
            "     [0.         0.         0.        ]]\n",
            "\n",
            "    [[0.         0.         0.        ]\n",
            "     [0.         0.         0.        ]\n",
            "     [0.         0.         0.        ]]]\n",
            "\n",
            "\n",
            "   [[[0.         0.         0.        ]\n",
            "     [0.         0.         0.        ]\n",
            "     [0.         0.         0.        ]]\n",
            "\n",
            "    [[0.         0.         0.        ]\n",
            "     [0.         0.         0.        ]\n",
            "     [0.         0.         0.        ]]\n",
            "\n",
            "    [[0.         0.         0.        ]\n",
            "     [0.         0.         0.        ]\n",
            "     [0.         0.         0.        ]]]\n",
            "\n",
            "\n",
            "   [[[0.         0.         0.        ]\n",
            "     [0.         0.         0.        ]\n",
            "     [0.         0.         0.        ]]\n",
            "\n",
            "    [[0.         0.         0.        ]\n",
            "     [0.         0.         0.        ]\n",
            "     [0.         0.         0.        ]]\n",
            "\n",
            "    [[0.         0.         0.        ]\n",
            "     [0.         0.         0.        ]\n",
            "     [0.         0.         0.        ]]]]]]\n"
          ]
        }
      ]
    },
    {
      "cell_type": "code",
      "source": [
        "# 画像データの 2 番目の領域\n",
        "print(img[:, :, 0:3:1, 1:4:1])"
      ],
      "metadata": {
        "colab": {
          "base_uri": "https://localhost:8080/"
        },
        "id": "7fToXeAo_ktR",
        "outputId": "f1c697b1-42fc-43fa-f745-f33183e0a768"
      },
      "execution_count": 18,
      "outputs": [
        {
          "output_type": "stream",
          "name": "stdout",
          "text": [
            "[[[[0.         0.         0.        ]\n",
            "   [0.12008749 0.26034823 0.31243241]\n",
            "   [0.89416154 0.13200925 0.68446477]]]]\n"
          ]
        }
      ]
    },
    {
      "cell_type": "code",
      "source": [
        "# col に代入\n",
        "col[:, :, 0, 1, :, :] = img[:, :, 0:3:1, 1:4:1]\n",
        "print(col)"
      ],
      "metadata": {
        "colab": {
          "base_uri": "https://localhost:8080/"
        },
        "id": "wlfSTb-g_paP",
        "outputId": "192f2dff-08ff-4ca3-8286-28b098d9aabb"
      },
      "execution_count": 19,
      "outputs": [
        {
          "output_type": "stream",
          "name": "stdout",
          "text": [
            "[[[[[[0.         0.         0.        ]\n",
            "     [0.         0.12008749 0.26034823]\n",
            "     [0.         0.89416154 0.13200925]]\n",
            "\n",
            "    [[0.         0.         0.        ]\n",
            "     [0.12008749 0.26034823 0.31243241]\n",
            "     [0.89416154 0.13200925 0.68446477]]\n",
            "\n",
            "    [[0.         0.         0.        ]\n",
            "     [0.         0.         0.        ]\n",
            "     [0.         0.         0.        ]]]\n",
            "\n",
            "\n",
            "   [[[0.         0.         0.        ]\n",
            "     [0.         0.         0.        ]\n",
            "     [0.         0.         0.        ]]\n",
            "\n",
            "    [[0.         0.         0.        ]\n",
            "     [0.         0.         0.        ]\n",
            "     [0.         0.         0.        ]]\n",
            "\n",
            "    [[0.         0.         0.        ]\n",
            "     [0.         0.         0.        ]\n",
            "     [0.         0.         0.        ]]]\n",
            "\n",
            "\n",
            "   [[[0.         0.         0.        ]\n",
            "     [0.         0.         0.        ]\n",
            "     [0.         0.         0.        ]]\n",
            "\n",
            "    [[0.         0.         0.        ]\n",
            "     [0.         0.         0.        ]\n",
            "     [0.         0.         0.        ]]\n",
            "\n",
            "    [[0.         0.         0.        ]\n",
            "     [0.         0.         0.        ]\n",
            "     [0.         0.         0.        ]]]]]]\n"
          ]
        }
      ]
    },
    {
      "cell_type": "code",
      "source": [
        "for y in range(filter_h):\n",
        "    y_max = y + stride*out_h\n",
        "    for x in range(filter_w):\n",
        "        x_max = x + stride*out_w\n",
        "        col[:, :, y, x, :, :] = img[:, :, y:y_max:stride, x:x_max:stride]\n",
        "print(col)"
      ],
      "metadata": {
        "colab": {
          "base_uri": "https://localhost:8080/"
        },
        "id": "6QGykOtF_yOw",
        "outputId": "7803238a-c7e4-407d-a26e-0132b2adf3da"
      },
      "execution_count": 20,
      "outputs": [
        {
          "output_type": "stream",
          "name": "stdout",
          "text": [
            "[[[[[[0.         0.         0.        ]\n",
            "     [0.         0.12008749 0.26034823]\n",
            "     [0.         0.89416154 0.13200925]]\n",
            "\n",
            "    [[0.         0.         0.        ]\n",
            "     [0.12008749 0.26034823 0.31243241]\n",
            "     [0.89416154 0.13200925 0.68446477]]\n",
            "\n",
            "    [[0.         0.         0.        ]\n",
            "     [0.26034823 0.31243241 0.        ]\n",
            "     [0.13200925 0.68446477 0.        ]]]\n",
            "\n",
            "\n",
            "   [[[0.         0.12008749 0.26034823]\n",
            "     [0.         0.89416154 0.13200925]\n",
            "     [0.         0.68226961 0.8210616 ]]\n",
            "\n",
            "    [[0.12008749 0.26034823 0.31243241]\n",
            "     [0.89416154 0.13200925 0.68446477]\n",
            "     [0.68226961 0.8210616  0.3151989 ]]\n",
            "\n",
            "    [[0.26034823 0.31243241 0.        ]\n",
            "     [0.13200925 0.68446477 0.        ]\n",
            "     [0.8210616  0.3151989  0.        ]]]\n",
            "\n",
            "\n",
            "   [[[0.         0.89416154 0.13200925]\n",
            "     [0.         0.68226961 0.8210616 ]\n",
            "     [0.         0.         0.        ]]\n",
            "\n",
            "    [[0.89416154 0.13200925 0.68446477]\n",
            "     [0.68226961 0.8210616  0.3151989 ]\n",
            "     [0.         0.         0.        ]]\n",
            "\n",
            "    [[0.13200925 0.68446477 0.        ]\n",
            "     [0.8210616  0.3151989  0.        ]\n",
            "     [0.         0.         0.        ]]]]]]\n"
          ]
        }
      ]
    },
    {
      "cell_type": "code",
      "source": [
        "col.shape"
      ],
      "metadata": {
        "colab": {
          "base_uri": "https://localhost:8080/"
        },
        "id": "Wsamopbf__0D",
        "outputId": "64445a1a-18d3-4199-8bd2-557667ba066c"
      },
      "execution_count": 21,
      "outputs": [
        {
          "output_type": "execute_result",
          "data": {
            "text/plain": [
              "(1, 1, 3, 3, 3, 3)"
            ]
          },
          "metadata": {},
          "execution_count": 21
        }
      ]
    },
    {
      "cell_type": "code",
      "source": [
        "# 配列の順番を入れ替えて 2 次元の行列に整形する\n",
        "col = col.transpose(0, 4, 5, 1, 2, 3).reshape(N*out_h*out_w, -1)"
      ],
      "metadata": {
        "id": "OMc9LOq7AG0S"
      },
      "execution_count": 22,
      "outputs": []
    },
    {
      "cell_type": "code",
      "source": [
        "col.shape"
      ],
      "metadata": {
        "colab": {
          "base_uri": "https://localhost:8080/"
        },
        "id": "lLdJF-qSAIJh",
        "outputId": "8698d1dc-322e-48ae-b7fd-920bed6ab373"
      },
      "execution_count": 23,
      "outputs": [
        {
          "output_type": "execute_result",
          "data": {
            "text/plain": [
              "(9, 9)"
            ]
          },
          "metadata": {},
          "execution_count": 23
        }
      ]
    },
    {
      "cell_type": "code",
      "source": [
        "def im2col(input_data, filter_h, filter_w, stride=1, pad=0):\n",
        "   \n",
        "    N, C, H, W = input_data.shape\n",
        "    out_h = (H + 2*pad - filter_h)//stride + 1\n",
        "    out_w = (W + 2*pad - filter_w)//stride + 1\n",
        "\n",
        "    img = np.pad(input_data, [(0,0), (0,0), (pad, pad), (pad, pad)], 'constant')\n",
        "    col = np.zeros((N, C, filter_h, filter_w, out_h, out_w))\n",
        "\n",
        "    for y in range(filter_h):\n",
        "        y_max = y + stride*out_h\n",
        "        for x in range(filter_w):\n",
        "            x_max = x + stride*out_w\n",
        "            col[:, :, y, x, :, :] = img[:, :, y:y_max:stride, x:x_max:stride]\n",
        "\n",
        "    col = col.transpose(0, 4, 5, 1, 2, 3).reshape(N*out_h*out_w, -1)\n",
        "    return col"
      ],
      "metadata": {
        "id": "Hrq-pgJYAJOg"
      },
      "execution_count": 24,
      "outputs": []
    },
    {
      "cell_type": "code",
      "source": [
        "x1 = np.random.rand(10, 3, 7, 7)\n",
        "col1 = im2col(x1, 3, 3, stride=1, pad=1)\n",
        "print(col1.shape)"
      ],
      "metadata": {
        "colab": {
          "base_uri": "https://localhost:8080/"
        },
        "id": "sQAwJ71vAmpE",
        "outputId": "a5d5b430-5b96-499a-9895-3ec6601e7b5f"
      },
      "execution_count": 25,
      "outputs": [
        {
          "output_type": "stream",
          "name": "stdout",
          "text": [
            "(490, 27)\n"
          ]
        }
      ]
    },
    {
      "cell_type": "code",
      "source": [
        "# 画像、重み、バイアス、パディング、ストライドの設定\n",
        "x = np.random.rand(1, 3, 224, 224)\n",
        "conv_W = np.random.rand(64, 3, 3, 3)\n",
        "b = 0\n",
        "pad = 1\n",
        "stride = 1"
      ],
      "metadata": {
        "id": "Ek1zFWNfAo0W"
      },
      "execution_count": 26,
      "outputs": []
    },
    {
      "cell_type": "code",
      "source": [
        "# 各サイズの取得\n",
        "FN, C, FH, FW = conv_W.shape\n",
        "N, C, H, W = x.shape\n",
        "\n",
        "# 出力特徴マップサイズ（縦、横）の取得\n",
        "out_h = 1 + int((H + 2*pad - FH) / stride)\n",
        "out_w = 1 + int((W + 2*pad - FW) / stride)\n",
        "print(out_h, out_w)"
      ],
      "metadata": {
        "colab": {
          "base_uri": "https://localhost:8080/"
        },
        "id": "aYviucxvAw2X",
        "outputId": "82460b3e-7840-4bb3-fe7a-f3a241d1be8a"
      },
      "execution_count": 27,
      "outputs": [
        {
          "output_type": "stream",
          "name": "stdout",
          "text": [
            "224 224\n"
          ]
        }
      ]
    },
    {
      "cell_type": "code",
      "source": [
        "# 画像データの行列展開\n",
        "col = im2col(x, FH, FW, stride, pad)\n",
        "print(col.shape)"
      ],
      "metadata": {
        "colab": {
          "base_uri": "https://localhost:8080/"
        },
        "id": "VK2JAkA-A7xu",
        "outputId": "d92382ba-5a53-47c0-b537-6de704c3dc6c"
      },
      "execution_count": 28,
      "outputs": [
        {
          "output_type": "stream",
          "name": "stdout",
          "text": [
            "(50176, 27)\n"
          ]
        }
      ]
    },
    {
      "cell_type": "code",
      "source": [
        "# 重みを行列に整形\n",
        "col_W = conv_W.reshape(FN, -1).T\n",
        "print(col_W.shape)"
      ],
      "metadata": {
        "colab": {
          "base_uri": "https://localhost:8080/"
        },
        "id": "A6xmvQJwA9YU",
        "outputId": "00507e37-9dc6-48e7-f1b1-7252f27a052e"
      },
      "execution_count": 29,
      "outputs": [
        {
          "output_type": "stream",
          "name": "stdout",
          "text": [
            "(27, 64)\n"
          ]
        }
      ]
    },
    {
      "cell_type": "code",
      "source": [
        "# 畳み込み演算（画像と重みの行列積）\n",
        "out = np.dot(col, col_W) + b\n",
        "print(out.shape)"
      ],
      "metadata": {
        "colab": {
          "base_uri": "https://localhost:8080/"
        },
        "id": "jbSOmCkkBBaD",
        "outputId": "1741adc8-618f-4985-85b6-aa7e8540f925"
      },
      "execution_count": 30,
      "outputs": [
        {
          "output_type": "stream",
          "name": "stdout",
          "text": [
            "(50176, 64)\n"
          ]
        }
      ]
    },
    {
      "cell_type": "code",
      "source": [
        "# 画像データに成型\n",
        "out = out.reshape(N, out_h, out_w, -1).transpose(0, 3, 1, 2)\n",
        "print(out.shape)"
      ],
      "metadata": {
        "colab": {
          "base_uri": "https://localhost:8080/"
        },
        "id": "BvDCa7w2BJ12",
        "outputId": "57d17bc2-f9c4-40a5-b62e-f8684a16e1a5"
      },
      "execution_count": 31,
      "outputs": [
        {
          "output_type": "stream",
          "name": "stdout",
          "text": [
            "(1, 64, 224, 224)\n"
          ]
        }
      ]
    },
    {
      "cell_type": "code",
      "source": [
        "class Convolution:\n",
        "\n",
        "    def __init__(self, W, b, stride=1, pad=0):\n",
        "        self.W = W\n",
        "        self.b = b\n",
        "        self.stride = stride\n",
        "        self.pad = pad\n",
        "\n",
        "    def forward(self, x):\n",
        "        FN, C, FH, FW = self.W.shape\n",
        "        N, C, H, W = x.shape\n",
        "        out_h = 1 + int((H + 2*self.pad - FH) / self.stride)\n",
        "        out_w = 1 + int((W + 2*self.pad - FW) / self.stride)\n",
        "\n",
        "        col = im2col(x, FH, FW, self.stride, self.pad)\n",
        "        col_W = self.W.reshape(FN, -1).T\n",
        "        out = np.dot(col, col_W) + self.b\n",
        "        \n",
        "        out = out.reshape(N, out_h, out_w, -1).transpose(0, 3, 1, 2)\n",
        "\n",
        "        return out"
      ],
      "metadata": {
        "id": "sKvGmhvIBMve"
      },
      "execution_count": 32,
      "outputs": []
    },
    {
      "cell_type": "code",
      "source": [
        "# 画像と重み\n",
        "x = np.random.rand(1, 3, 224, 224)\n",
        "W = np.random.rand(64, 3, 3, 3)"
      ],
      "metadata": {
        "id": "bPTULkhzBPK-"
      },
      "execution_count": 33,
      "outputs": []
    },
    {
      "cell_type": "code",
      "source": [
        "# Convolution クラスのインスタンス化\n",
        "conv = Convolution(W, 0, 1, 1)"
      ],
      "metadata": {
        "id": "NjN-qMooBR6E"
      },
      "execution_count": 34,
      "outputs": []
    },
    {
      "cell_type": "code",
      "source": [
        "# 畳み込み処理\n",
        "out = conv.forward(x)\n",
        "print(out.shape)"
      ],
      "metadata": {
        "colab": {
          "base_uri": "https://localhost:8080/"
        },
        "id": "W2mHmDVGBTlC",
        "outputId": "8a616a2e-3897-45ce-8742-aae55fc86137"
      },
      "execution_count": 35,
      "outputs": [
        {
          "output_type": "stream",
          "name": "stdout",
          "text": [
            "(1, 64, 224, 224)\n"
          ]
        }
      ]
    },
    {
      "cell_type": "markdown",
      "source": [
        "## プーリング層の実装"
      ],
      "metadata": {
        "id": "78VWmyMlBWp4"
      }
    },
    {
      "cell_type": "code",
      "source": [
        "# 畳み込み演算後の out を使用\n",
        "out.shape"
      ],
      "metadata": {
        "colab": {
          "base_uri": "https://localhost:8080/"
        },
        "id": "o5J2oX5eBZ7E",
        "outputId": "5dec2f76-c830-4a8b-dd1f-5008f4edda42"
      },
      "execution_count": 36,
      "outputs": [
        {
          "output_type": "execute_result",
          "data": {
            "text/plain": [
              "(1, 64, 224, 224)"
            ]
          },
          "metadata": {},
          "execution_count": 36
        }
      ]
    },
    {
      "cell_type": "code",
      "source": [
        "# プーリングの設定\n",
        "pool_h = 2\n",
        "pool_w = 2\n",
        "stride = 2\n",
        "pad = 0"
      ],
      "metadata": {
        "id": "XiVEfwHpBbHV"
      },
      "execution_count": 37,
      "outputs": []
    },
    {
      "cell_type": "code",
      "source": [
        "# プーリング後のサイズ取得\n",
        "N, C, H, W = out.shape\n",
        "out_h = int(1 + (H - pool_h) / stride)\n",
        "out_w = int(1 + (W - pool_w) / stride)\n",
        "print(out_h, out_w)"
      ],
      "metadata": {
        "colab": {
          "base_uri": "https://localhost:8080/"
        },
        "id": "iU9fuhiMBchB",
        "outputId": "69ff08c6-9f5c-4f2b-c807-21385d9509db"
      },
      "execution_count": 38,
      "outputs": [
        {
          "output_type": "stream",
          "name": "stdout",
          "text": [
            "112 112\n"
          ]
        }
      ]
    },
    {
      "cell_type": "code",
      "source": [
        "# 行列展開\n",
        "col = im2col(out, pool_h, pool_w, stride, pad)\n",
        "col = col.reshape(-1, pool_h*pool_w)\n",
        "print(col.shape)"
      ],
      "metadata": {
        "colab": {
          "base_uri": "https://localhost:8080/"
        },
        "id": "dFpgxFOrBeNh",
        "outputId": "bfaa4288-d68d-4ceb-b119-21ff399701b5"
      },
      "execution_count": 39,
      "outputs": [
        {
          "output_type": "stream",
          "name": "stdout",
          "text": [
            "(802816, 4)\n"
          ]
        }
      ]
    },
    {
      "cell_type": "code",
      "source": [
        "# 最大値取得\n",
        "out = np.max(col, axis=1)\n",
        "print(out.shape)"
      ],
      "metadata": {
        "colab": {
          "base_uri": "https://localhost:8080/"
        },
        "id": "Pi2IimtbBi1Z",
        "outputId": "2a24000f-79b6-4a47-b712-38219a762215"
      },
      "execution_count": 40,
      "outputs": [
        {
          "output_type": "stream",
          "name": "stdout",
          "text": [
            "(802816,)\n"
          ]
        }
      ]
    },
    {
      "cell_type": "code",
      "source": [
        "out"
      ],
      "metadata": {
        "colab": {
          "base_uri": "https://localhost:8080/"
        },
        "id": "CAaLO04LBn_u",
        "outputId": "875c578a-a072-43ec-8f2e-02ce08cb469c"
      },
      "execution_count": 41,
      "outputs": [
        {
          "output_type": "execute_result",
          "data": {
            "text/plain": [
              "array([6.32678157, 7.33021409, 8.91505879, ..., 5.53159073, 6.68773394,\n",
              "       6.22980891])"
            ]
          },
          "metadata": {},
          "execution_count": 41
        }
      ]
    },
    {
      "cell_type": "code",
      "source": [
        "# 整形\n",
        "out = out.reshape(N, out_h, out_w, C).transpose(0, 3, 1, 2)\n",
        "print(out.shape)"
      ],
      "metadata": {
        "colab": {
          "base_uri": "https://localhost:8080/"
        },
        "id": "8nfgF0TuB3pp",
        "outputId": "08f17e6e-30c1-4f84-a425-0da974342332"
      },
      "execution_count": 42,
      "outputs": [
        {
          "output_type": "stream",
          "name": "stdout",
          "text": [
            "(1, 64, 112, 112)\n"
          ]
        }
      ]
    },
    {
      "cell_type": "code",
      "source": [
        "class Pooling:\n",
        "    def __init__(self, pool_h, pool_w, stride=2, pad=0):\n",
        "        self.pool_h = pool_h\n",
        "        self.pool_w = pool_w\n",
        "        self.stride = stride\n",
        "        self.pad = pad\n",
        "\n",
        "    def forward(self, x):\n",
        "        N, C, H, W = x.shape\n",
        "        out_h = int(1 + (H - self.pool_h) / self.stride)\n",
        "        out_w = int(1 + (W - self.pool_w) / self.stride)\n",
        "\n",
        "        col = im2col(x, self.pool_h, self.pool_w, self.stride, self.pad)\n",
        "        col = col.reshape(-1, self.pool_h*self.pool_w)\n",
        "\n",
        "        out = np.max(col, axis=1)\n",
        "        out = out.reshape(N, out_h, out_w, C).transpose(0, 3, 1, 2)\n",
        "\n",
        "        return out"
      ],
      "metadata": {
        "id": "Rqx_87XvEoXd"
      },
      "execution_count": 43,
      "outputs": []
    },
    {
      "cell_type": "code",
      "source": [
        "x = np.random.rand(10, 3, 224, 224)\n",
        "W = np.random.rand(64, 3, 3, 3)\n",
        "conv = Convolution(W, 0, 1, 1)\n",
        "pool = Pooling(2, 2, 2, 0)"
      ],
      "metadata": {
        "id": "o5dCpXK4Eqd9"
      },
      "execution_count": 44,
      "outputs": []
    },
    {
      "cell_type": "code",
      "source": [
        "# 畳み込み処理\n",
        "out = conv.forward(x)\n",
        "print(out.shape)"
      ],
      "metadata": {
        "colab": {
          "base_uri": "https://localhost:8080/"
        },
        "id": "d_qVfSHaEr4b",
        "outputId": "42f70ba6-5244-4421-b63f-20e40ffc5afe"
      },
      "execution_count": 45,
      "outputs": [
        {
          "output_type": "stream",
          "name": "stdout",
          "text": [
            "(10, 64, 224, 224)\n"
          ]
        }
      ]
    },
    {
      "cell_type": "code",
      "source": [
        "# プーリング処理\n",
        "out_ = pool.forward(out)\n",
        "print(out_.shape)"
      ],
      "metadata": {
        "colab": {
          "base_uri": "https://localhost:8080/"
        },
        "id": "LlcRZ_JgEs5E",
        "outputId": "38c9520b-681c-4984-cc3a-5e61e95f4533"
      },
      "execution_count": 46,
      "outputs": [
        {
          "output_type": "stream",
          "name": "stdout",
          "text": [
            "(10, 64, 112, 112)\n"
          ]
        }
      ]
    },
    {
      "cell_type": "markdown",
      "source": [
        "## 実際の画像データと学習済みの重みで確認"
      ],
      "metadata": {
        "id": "1TTx8RtTEuNE"
      }
    },
    {
      "cell_type": "code",
      "source": [
        "from PIL import Image"
      ],
      "metadata": {
        "id": "gEIKhuolE1XI"
      },
      "execution_count": 47,
      "outputs": []
    },
    {
      "cell_type": "code",
      "source": [
        "img = Image.open('sample.jpg').convert('RGB')\n",
        "img"
      ],
      "metadata": {
        "id": "1Au61PT6E3DL"
      },
      "execution_count": null,
      "outputs": []
    },
    {
      "cell_type": "code",
      "source": [
        "img = np.array(img) / 255.0\n",
        "x = img[np.newaxis, :, :, :].transpose(0, 3, 1, 2)"
      ],
      "metadata": {
        "id": "lKnVpsAjE_OA"
      },
      "execution_count": null,
      "outputs": []
    },
    {
      "cell_type": "code",
      "source": [
        "import torchvision\n",
        "from torchvision.models import resnet18\n",
        "feature = resnet18(pretrained=True)\n",
        "print(feature.conv1)\n",
        "print(feature.conv1.weight.shape)\n",
        "filter_W = feature.conv1.weight.cpu().detach().numpy()"
      ],
      "metadata": {
        "id": "577h7URSFBET"
      },
      "execution_count": null,
      "outputs": []
    },
    {
      "cell_type": "markdown",
      "source": [
        "### Convolution"
      ],
      "metadata": {
        "id": "rPNXcPosFDKD"
      }
    },
    {
      "cell_type": "code",
      "source": [
        "# convolution クラスのインスタンス化\n",
        "conv = Convolution(filter_W, b=False, stride=2, pad=3)"
      ],
      "metadata": {
        "id": "CZBBTEnnFG2o"
      },
      "execution_count": null,
      "outputs": []
    },
    {
      "cell_type": "code",
      "source": [
        "out_conv = conv.forward(x)\n",
        "print(out_conv.shape)"
      ],
      "metadata": {
        "id": "zNOynHA3FINu"
      },
      "execution_count": null,
      "outputs": []
    },
    {
      "cell_type": "code",
      "source": [
        "import matplotlib.pyplot as plt"
      ],
      "metadata": {
        "id": "E30W2ymlFJOS"
      },
      "execution_count": null,
      "outputs": []
    },
    {
      "cell_type": "code",
      "source": [
        "plt.figure(figsize=(20, 20))\n",
        "for n in range(out_conv.shape[1]):\n",
        "    plt.subplot(8, 8, n+1)\n",
        "    plt.imshow(out_conv[0][n], cmap='gray')\n",
        "    plt.axis('off')"
      ],
      "metadata": {
        "id": "YSfDRLF2FKkD"
      },
      "execution_count": null,
      "outputs": []
    },
    {
      "cell_type": "markdown",
      "source": [
        "### Pooling"
      ],
      "metadata": {
        "id": "eT8IP7TpFMIr"
      }
    },
    {
      "cell_type": "code",
      "source": [
        "# Pooling クラスのインスタンス化\n",
        "pool = Pooling(2, 2, 2, 0)"
      ],
      "metadata": {
        "id": "pawLf2z3FOi3"
      },
      "execution_count": null,
      "outputs": []
    },
    {
      "cell_type": "code",
      "source": [
        "# pooling\n",
        "out_pool = pool.forward(out_conv)\n",
        "print(out_pool.shape)"
      ],
      "metadata": {
        "id": "ifmP6-TIFQcb"
      },
      "execution_count": null,
      "outputs": []
    },
    {
      "cell_type": "code",
      "source": [
        "plt.figure(figsize=(20, 20))\n",
        "for n in range(out_pool.shape[1]):\n",
        "    plt.subplot(8, 8, n+1)\n",
        "    plt.imshow(out_pool[0][n], cmap='gray')\n",
        "    plt.axis('off')"
      ],
      "metadata": {
        "id": "9_FESoA0FRiy"
      },
      "execution_count": null,
      "outputs": []
    }
  ]
}