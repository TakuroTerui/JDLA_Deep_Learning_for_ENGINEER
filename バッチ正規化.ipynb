{
  "nbformat": 4,
  "nbformat_minor": 0,
  "metadata": {
    "colab": {
      "name": "バッチ正規化.ipynb",
      "provenance": [],
      "authorship_tag": "ABX9TyM3hvmMB79vCmvNEmvoYmI1"
    },
    "kernelspec": {
      "name": "python3",
      "display_name": "Python 3"
    },
    "language_info": {
      "name": "python"
    }
  },
  "cells": [
    {
      "cell_type": "code",
      "execution_count": 1,
      "metadata": {
        "id": "07Ka-a_FcPI_"
      },
      "outputs": [],
      "source": [
        "import numpy as np"
      ]
    },
    {
      "cell_type": "code",
      "source": [
        "x = np.random.randint(1, 10, (40, 4))\n",
        "x"
      ],
      "metadata": {
        "colab": {
          "base_uri": "https://localhost:8080/"
        },
        "id": "2vzDTjJ7cTCq",
        "outputId": "70a0204c-fd8b-47ae-988d-1d85791b6acc"
      },
      "execution_count": 2,
      "outputs": [
        {
          "output_type": "execute_result",
          "data": {
            "text/plain": [
              "array([[6, 7, 9, 9],\n",
              "       [6, 6, 3, 6],\n",
              "       [8, 2, 9, 7],\n",
              "       [8, 1, 7, 3],\n",
              "       [2, 6, 4, 7],\n",
              "       [5, 7, 4, 4],\n",
              "       [2, 3, 6, 7],\n",
              "       [7, 6, 6, 8],\n",
              "       [3, 9, 5, 9],\n",
              "       [7, 3, 4, 3],\n",
              "       [5, 8, 8, 7],\n",
              "       [8, 6, 7, 6],\n",
              "       [5, 2, 6, 3],\n",
              "       [9, 8, 8, 6],\n",
              "       [7, 8, 2, 8],\n",
              "       [2, 6, 8, 4],\n",
              "       [1, 8, 3, 6],\n",
              "       [4, 5, 5, 9],\n",
              "       [8, 8, 1, 2],\n",
              "       [4, 4, 6, 7],\n",
              "       [2, 1, 8, 1],\n",
              "       [5, 8, 4, 2],\n",
              "       [2, 5, 6, 9],\n",
              "       [2, 8, 1, 6],\n",
              "       [6, 7, 6, 4],\n",
              "       [8, 6, 3, 6],\n",
              "       [5, 8, 1, 5],\n",
              "       [1, 1, 8, 7],\n",
              "       [8, 5, 7, 2],\n",
              "       [6, 8, 8, 6],\n",
              "       [7, 3, 3, 4],\n",
              "       [3, 7, 2, 1],\n",
              "       [5, 6, 4, 9],\n",
              "       [4, 5, 5, 8],\n",
              "       [2, 2, 9, 4],\n",
              "       [5, 3, 9, 1],\n",
              "       [7, 1, 8, 9],\n",
              "       [4, 7, 6, 4],\n",
              "       [9, 8, 9, 3],\n",
              "       [5, 3, 3, 1]])"
            ]
          },
          "metadata": {},
          "execution_count": 2
        }
      ]
    },
    {
      "cell_type": "code",
      "source": [
        "x.shape"
      ],
      "metadata": {
        "colab": {
          "base_uri": "https://localhost:8080/"
        },
        "id": "7rMm6gwZcZnJ",
        "outputId": "c56369b1-99b8-46a0-f681-5244c00438a4"
      },
      "execution_count": 3,
      "outputs": [
        {
          "output_type": "execute_result",
          "data": {
            "text/plain": [
              "(40, 4)"
            ]
          },
          "metadata": {},
          "execution_count": 3
        }
      ]
    },
    {
      "cell_type": "code",
      "source": [
        "# 全体のデータ数を取得\n",
        "data_size = x.shape[0]\n",
        "data_size"
      ],
      "metadata": {
        "colab": {
          "base_uri": "https://localhost:8080/"
        },
        "id": "ITr69Ja0cbe4",
        "outputId": "76ac917e-d2a0-4a4a-ea48-01bcba4b6625"
      },
      "execution_count": 4,
      "outputs": [
        {
          "output_type": "execute_result",
          "data": {
            "text/plain": [
              "40"
            ]
          },
          "metadata": {},
          "execution_count": 4
        }
      ]
    },
    {
      "cell_type": "code",
      "source": [
        "# バッチサイズを指定\n",
        "batch_size = 5"
      ],
      "metadata": {
        "id": "aT8FsmMlckHp"
      },
      "execution_count": 5,
      "outputs": []
    },
    {
      "cell_type": "code",
      "source": [
        "# ランダムで数値を抽出\n",
        "# replace=False　重複不許可\n",
        "np.random.choice(data_size, batch_size, replace=False)"
      ],
      "metadata": {
        "colab": {
          "base_uri": "https://localhost:8080/"
        },
        "id": "_H-qXgMccsAp",
        "outputId": "646e6096-a4e9-4c8e-ad65-61fb6383413f"
      },
      "execution_count": 6,
      "outputs": [
        {
          "output_type": "execute_result",
          "data": {
            "text/plain": [
              "array([ 1, 32,  0, 39, 34])"
            ]
          },
          "metadata": {},
          "execution_count": 6
        }
      ]
    },
    {
      "cell_type": "code",
      "source": [
        "mini_batch = x[np.random.choice(data_size, batch_size, replace=False)]\n",
        "mini_batch"
      ],
      "metadata": {
        "colab": {
          "base_uri": "https://localhost:8080/"
        },
        "id": "6M9FXix5c4uy",
        "outputId": "7619a385-3a04-4072-ca7e-63fe6a312dab"
      },
      "execution_count": 7,
      "outputs": [
        {
          "output_type": "execute_result",
          "data": {
            "text/plain": [
              "array([[8, 6, 7, 6],\n",
              "       [9, 8, 8, 6],\n",
              "       [8, 5, 7, 2],\n",
              "       [7, 1, 8, 9],\n",
              "       [2, 6, 8, 4]])"
            ]
          },
          "metadata": {},
          "execution_count": 7
        }
      ]
    },
    {
      "cell_type": "code",
      "source": [
        "mu = np.mean(mini_batch, axis=0)"
      ],
      "metadata": {
        "id": "YS98rFGhc-rm"
      },
      "execution_count": 8,
      "outputs": []
    },
    {
      "cell_type": "code",
      "source": [
        "mu"
      ],
      "metadata": {
        "colab": {
          "base_uri": "https://localhost:8080/"
        },
        "id": "Zu2xLv5fHwt0",
        "outputId": "dc12176f-5319-43a0-ec9e-e23da1754995"
      },
      "execution_count": 13,
      "outputs": [
        {
          "output_type": "execute_result",
          "data": {
            "text/plain": [
              "array([6.8, 5.2, 7.6, 5.4])"
            ]
          },
          "metadata": {},
          "execution_count": 13
        }
      ]
    },
    {
      "cell_type": "code",
      "source": [
        "var = np.var(mini_batch, axis=0)"
      ],
      "metadata": {
        "id": "jqsJx02LdLbF"
      },
      "execution_count": 9,
      "outputs": []
    },
    {
      "cell_type": "code",
      "source": [
        "var"
      ],
      "metadata": {
        "colab": {
          "base_uri": "https://localhost:8080/"
        },
        "id": "gfqgeEVGH207",
        "outputId": "349e7785-30d7-4d35-e49f-ff0a33169617"
      },
      "execution_count": 14,
      "outputs": [
        {
          "output_type": "execute_result",
          "data": {
            "text/plain": [
              "array([6.16, 5.36, 0.24, 5.44])"
            ]
          },
          "metadata": {},
          "execution_count": 14
        }
      ]
    },
    {
      "cell_type": "code",
      "source": [
        "(mini_batch - mu) / np.sqrt(var + 1e-8)"
      ],
      "metadata": {
        "colab": {
          "base_uri": "https://localhost:8080/"
        },
        "id": "j2auSd24dPgp",
        "outputId": "464320b7-4b1e-419c-a24c-e13c97520080"
      },
      "execution_count": 10,
      "outputs": [
        {
          "output_type": "execute_result",
          "data": {
            "text/plain": [
              "array([[ 0.48349378,  0.34554737, -1.22474485,  0.25724788],\n",
              "       [ 0.88640526,  1.20941579,  0.81649656,  0.25724788],\n",
              "       [ 0.48349378, -0.08638684, -1.22474485, -1.45773797],\n",
              "       [ 0.0805823 , -1.81412369,  0.81649656,  1.54348726],\n",
              "       [-1.93397511,  0.34554737,  0.81649656, -0.60024505]])"
            ]
          },
          "metadata": {},
          "execution_count": 10
        }
      ]
    },
    {
      "cell_type": "code",
      "source": [
        "def batch_norm(X, gamma=1, beta=0):\n",
        "    mu = np.mean(X, axis=0)\n",
        "    var = np.var(X, axis=0)\n",
        "    X_norm = (X - mu) / np.sqrt(var + 1e-8)\n",
        "    out = gamma * X_norm + beta\n",
        "    return out"
      ],
      "metadata": {
        "id": "p4i9kA-qdg3s"
      },
      "execution_count": 11,
      "outputs": []
    },
    {
      "cell_type": "code",
      "source": [
        "batch_norm(mini_batch)"
      ],
      "metadata": {
        "colab": {
          "base_uri": "https://localhost:8080/"
        },
        "id": "2fQRuCmtd3xX",
        "outputId": "c84d1263-5b77-4b67-ea0f-3eee51752a5f"
      },
      "execution_count": 12,
      "outputs": [
        {
          "output_type": "execute_result",
          "data": {
            "text/plain": [
              "array([[ 0.48349378,  0.34554737, -1.22474485,  0.25724788],\n",
              "       [ 0.88640526,  1.20941579,  0.81649656,  0.25724788],\n",
              "       [ 0.48349378, -0.08638684, -1.22474485, -1.45773797],\n",
              "       [ 0.0805823 , -1.81412369,  0.81649656,  1.54348726],\n",
              "       [-1.93397511,  0.34554737,  0.81649656, -0.60024505]])"
            ]
          },
          "metadata": {},
          "execution_count": 12
        }
      ]
    }
  ]
}