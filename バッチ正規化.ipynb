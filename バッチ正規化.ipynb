{
  "nbformat": 4,
  "nbformat_minor": 0,
  "metadata": {
    "colab": {
      "name": "バッチ正規化.ipynb",
      "provenance": [],
      "authorship_tag": "ABX9TyOiI8fOmAPKrFjWz1VUzs3X"
    },
    "kernelspec": {
      "name": "python3",
      "display_name": "Python 3"
    },
    "language_info": {
      "name": "python"
    }
  },
  "cells": [
    {
      "cell_type": "code",
      "execution_count": 1,
      "metadata": {
        "id": "07Ka-a_FcPI_"
      },
      "outputs": [],
      "source": [
        "import numpy as np"
      ]
    },
    {
      "cell_type": "code",
      "source": [
        "x = np.random.randint(1, 10, (40, 4))\n",
        "x"
      ],
      "metadata": {
        "colab": {
          "base_uri": "https://localhost:8080/"
        },
        "id": "2vzDTjJ7cTCq",
        "outputId": "f4d419ff-48be-4051-a4ab-d16e4e658bf6"
      },
      "execution_count": 2,
      "outputs": [
        {
          "output_type": "execute_result",
          "data": {
            "text/plain": [
              "array([[5, 9, 8, 1],\n",
              "       [4, 5, 5, 9],\n",
              "       [3, 4, 8, 3],\n",
              "       [9, 7, 3, 2],\n",
              "       [4, 6, 2, 1],\n",
              "       [9, 3, 3, 6],\n",
              "       [1, 7, 3, 3],\n",
              "       [8, 7, 6, 1],\n",
              "       [5, 5, 4, 8],\n",
              "       [5, 3, 7, 2],\n",
              "       [7, 8, 5, 3],\n",
              "       [8, 5, 1, 4],\n",
              "       [3, 2, 9, 9],\n",
              "       [6, 6, 5, 9],\n",
              "       [3, 2, 9, 1],\n",
              "       [7, 9, 4, 4],\n",
              "       [6, 9, 5, 2],\n",
              "       [3, 6, 7, 9],\n",
              "       [3, 5, 6, 2],\n",
              "       [9, 8, 5, 2],\n",
              "       [8, 2, 9, 7],\n",
              "       [4, 5, 4, 9],\n",
              "       [4, 9, 3, 1],\n",
              "       [2, 6, 5, 3],\n",
              "       [4, 4, 7, 4],\n",
              "       [6, 2, 8, 1],\n",
              "       [9, 4, 8, 5],\n",
              "       [1, 2, 8, 5],\n",
              "       [3, 6, 6, 3],\n",
              "       [5, 3, 7, 7],\n",
              "       [4, 3, 7, 2],\n",
              "       [8, 6, 5, 9],\n",
              "       [4, 7, 4, 7],\n",
              "       [1, 5, 3, 1],\n",
              "       [1, 1, 9, 5],\n",
              "       [7, 3, 4, 8],\n",
              "       [9, 8, 1, 6],\n",
              "       [8, 3, 1, 4],\n",
              "       [9, 4, 8, 9],\n",
              "       [4, 1, 5, 3]])"
            ]
          },
          "metadata": {},
          "execution_count": 2
        }
      ]
    },
    {
      "cell_type": "code",
      "source": [
        "x.shape"
      ],
      "metadata": {
        "colab": {
          "base_uri": "https://localhost:8080/"
        },
        "id": "7rMm6gwZcZnJ",
        "outputId": "3defa5b5-c9a4-4aa9-fcee-72eb48092b6a"
      },
      "execution_count": 3,
      "outputs": [
        {
          "output_type": "execute_result",
          "data": {
            "text/plain": [
              "(40, 4)"
            ]
          },
          "metadata": {},
          "execution_count": 3
        }
      ]
    },
    {
      "cell_type": "code",
      "source": [
        "# 全体のデータ数を取得\n",
        "data_size = x.shape[0]\n",
        "data_size"
      ],
      "metadata": {
        "colab": {
          "base_uri": "https://localhost:8080/"
        },
        "id": "ITr69Ja0cbe4",
        "outputId": "2a4649d1-74d9-4120-dcac-e9bb675b955a"
      },
      "execution_count": 4,
      "outputs": [
        {
          "output_type": "execute_result",
          "data": {
            "text/plain": [
              "40"
            ]
          },
          "metadata": {},
          "execution_count": 4
        }
      ]
    },
    {
      "cell_type": "code",
      "source": [
        "# バッチサイズを指定\n",
        "batch_size = 5"
      ],
      "metadata": {
        "id": "aT8FsmMlckHp"
      },
      "execution_count": 5,
      "outputs": []
    },
    {
      "cell_type": "code",
      "source": [
        "# ランダムで数値を抽出\n",
        "# replace=False　重複不許可\n",
        "np.random.choice(data_size, batch_size, replace=False)"
      ],
      "metadata": {
        "colab": {
          "base_uri": "https://localhost:8080/"
        },
        "id": "_H-qXgMccsAp",
        "outputId": "669cb9f1-2f09-44ce-ba47-c88c546d01be"
      },
      "execution_count": 6,
      "outputs": [
        {
          "output_type": "execute_result",
          "data": {
            "text/plain": [
              "array([28, 30, 21, 15,  5])"
            ]
          },
          "metadata": {},
          "execution_count": 6
        }
      ]
    },
    {
      "cell_type": "code",
      "source": [
        "mini_batch = x[np.random.choice(data_size, batch_size, replace=False)]\n",
        "mini_batch"
      ],
      "metadata": {
        "colab": {
          "base_uri": "https://localhost:8080/"
        },
        "id": "6M9FXix5c4uy",
        "outputId": "9474f485-5561-49fa-c563-b215e6fbef42"
      },
      "execution_count": 8,
      "outputs": [
        {
          "output_type": "execute_result",
          "data": {
            "text/plain": [
              "array([[7, 9, 4, 4],\n",
              "       [8, 2, 9, 7],\n",
              "       [7, 8, 5, 3],\n",
              "       [5, 3, 7, 7],\n",
              "       [8, 7, 6, 1]])"
            ]
          },
          "metadata": {},
          "execution_count": 8
        }
      ]
    },
    {
      "cell_type": "code",
      "source": [
        "mu = np.mean(mini_batch, axis=0)"
      ],
      "metadata": {
        "id": "YS98rFGhc-rm"
      },
      "execution_count": 11,
      "outputs": []
    },
    {
      "cell_type": "code",
      "source": [
        "var = np.var(mini_batch, axis=0)"
      ],
      "metadata": {
        "id": "jqsJx02LdLbF"
      },
      "execution_count": 12,
      "outputs": []
    },
    {
      "cell_type": "code",
      "source": [
        "(mini_batch - mu) / np.sqrt(var + 1e-8)"
      ],
      "metadata": {
        "colab": {
          "base_uri": "https://localhost:8080/"
        },
        "id": "j2auSd24dPgp",
        "outputId": "dc0f20ad-e814-4fbb-bc0e-7d6efbe17e9d"
      },
      "execution_count": 13,
      "outputs": [
        {
          "output_type": "execute_result",
          "data": {
            "text/plain": [
              "array([[ 0.        ,  1.14873305, -1.27872402, -0.17149858],\n",
              "       [ 0.91287093, -1.3641205 ,  1.62746694,  1.1147408 ],\n",
              "       [ 0.        ,  0.78975397, -0.69748583, -0.60024505],\n",
              "       [-1.82574185, -1.00514142,  0.46499055,  1.1147408 ],\n",
              "       [ 0.91287093,  0.43077489, -0.11624764, -1.45773797]])"
            ]
          },
          "metadata": {},
          "execution_count": 13
        }
      ]
    },
    {
      "cell_type": "code",
      "source": [
        "def batch_norm(X, gamma=1, beta=0):\n",
        "    mu = np.mean(X, axis=0)\n",
        "    var = np.var(X, axis=0)\n",
        "    X_norm = (X - mu) / np.sqrt(var + 1e-8)\n",
        "    out = gamma * X_norm + beta\n",
        "    return out"
      ],
      "metadata": {
        "id": "p4i9kA-qdg3s"
      },
      "execution_count": 14,
      "outputs": []
    },
    {
      "cell_type": "code",
      "source": [
        "batch_norm(mini_batch)"
      ],
      "metadata": {
        "colab": {
          "base_uri": "https://localhost:8080/"
        },
        "id": "2fQRuCmtd3xX",
        "outputId": "b1a98184-95de-4216-e412-f87a4e150c14"
      },
      "execution_count": 15,
      "outputs": [
        {
          "output_type": "execute_result",
          "data": {
            "text/plain": [
              "array([[ 0.        ,  1.14873305, -1.27872402, -0.17149858],\n",
              "       [ 0.91287093, -1.3641205 ,  1.62746694,  1.1147408 ],\n",
              "       [ 0.        ,  0.78975397, -0.69748583, -0.60024505],\n",
              "       [-1.82574185, -1.00514142,  0.46499055,  1.1147408 ],\n",
              "       [ 0.91287093,  0.43077489, -0.11624764, -1.45773797]])"
            ]
          },
          "metadata": {},
          "execution_count": 15
        }
      ]
    }
  ]
}