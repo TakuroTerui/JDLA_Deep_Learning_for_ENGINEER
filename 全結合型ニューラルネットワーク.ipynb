{
  "nbformat": 4,
  "nbformat_minor": 0,
  "metadata": {
    "colab": {
      "name": "全結合型ニューラルネットワーク.ipynb",
      "provenance": [],
      "authorship_tag": "ABX9TyPVOUswoW7cM3JGkNNgiVWT"
    },
    "kernelspec": {
      "name": "python3",
      "display_name": "Python 3"
    },
    "language_info": {
      "name": "python"
    }
  },
  "cells": [
    {
      "cell_type": "code",
      "execution_count": 1,
      "metadata": {
        "id": "4LxEFqTv1VqZ"
      },
      "outputs": [],
      "source": [
        "import numpy as np\n",
        "\n",
        "def relu(X):\n",
        "    return np.maximum(0, X)\n",
        "\n",
        "def softmax(X):\n",
        "    X = X - np.max(X, axis=1, keepdims=True)\n",
        "    return np.exp(X) / np.sum(np.exp(X), axis=1, keepdims=True)\n",
        "\n",
        "def relu_backward(Z, delta):\n",
        "    delta[Z == 0] = 0\n",
        "\n",
        "def cross_entropy_error(y, t):\n",
        "    batch_size = y.shape[0]\n",
        "    return -np.sum(t * np.log(y + 1e-7) / batch_size)"
      ]
    },
    {
      "cell_type": "code",
      "source": [
        "class FullyConnectedNeuralNetwork():\n",
        "    def __init__(self, layer_units):\n",
        "        '''\n",
        "        layer_units: list, 各層のノード数を格納したリスト\n",
        "        '''\n",
        "        self.n_iter = 0\n",
        "        self.t_ = 0\n",
        "        self.layer_units = layer_units\n",
        "        self.n_layers_ = len(layer_units)\n",
        "\n",
        "        # パラメータの初期化\n",
        "        self.coefs_ = []\n",
        "        self.intercepts_ = []\n",
        "        for i in range(self.n_layers_ - 1):\n",
        "            # coef_init, intercept_init = self._init_coef(( ア ))\n",
        "            coef_init, intercept_init = self._init_coef(layer_units[i], layer_units[i + 1])\n",
        "            self.coefs_.append(coef_init)\n",
        "            self.intercepts_.append(intercept_init)\n",
        "        \n",
        "        # 勾配の初期化\n",
        "        self.coef_grads_ = [np.empty((n_in_, n_out_)) for n_in_, n_out_ in zip(layer_units[:-1], layer_units[1:])]\n",
        "        self.intercept_grads_ = [np.empty(n_out_) for n_out_ in layer_units[1:]]\n",
        "    \n",
        "    def _init_coef(self, n_in, n_out):\n",
        "        '''\n",
        "        ある層間のパラメータを初期化するメソッド\n",
        "        n_in: int, 入力側のノード数\n",
        "        n_out: int, 出力側のノード数\n",
        "        '''\n",
        "        std = np.sqrt(2 / n_in)\n",
        "        coef_init = np.random.randn(n_in, n_out) * std\n",
        "        intercept_init = np.zeros(n_out)\n",
        "        return coef_init, intercept_init\n",
        "    \n",
        "    def _forward(self, activations):\n",
        "        '''\n",
        "        順伝播処理を行うメソッド\n",
        "        activartions: list, 各層の出力を納めたリスト\n",
        "                     activation[0]は入力データ\n",
        "                     activation[i].shape=(バッチサイズ、ノード数)\n",
        "        '''\n",
        "        affine = [None] * (self.n_layers_ - 1)\n",
        "        for i in range(self.n_layers_ - 1):\n",
        "            # アフィン変換\n",
        "            affine[i] = np.dot(activations[i], self.coefs_[i]) + self.intercepts_[i]\n",
        "\n",
        "            # if (i + 1) == (( イ )):\n",
        "            if (i + 1) == (self.n_layers_ - 1):\n",
        "                '''\n",
        "                出力層の場合\n",
        "                '''\n",
        "                activations[i + 1] = softmax(affine[i])\n",
        "            else:\n",
        "                '''\n",
        "                隠れ層の場合\n",
        "                '''\n",
        "                activations[i + 1] = relu(affine[i])\n",
        "\n",
        "        return activations\n",
        "    \n",
        "    def _grad(self, j, activations, deltas):\n",
        "        '''\n",
        "        各パラメータの勾配を算出するメソッド\n",
        "        j: int, アフィンの番号\n",
        "        activations: list, 各層の出力を納めたメソッド\n",
        "        deltas: list, 出力層側から伝わってきた勾配を納めたリスト\n",
        "        '''\n",
        "        # self.coef_grads_[j] = ( ウ )\n",
        "        self.coef_grads_[j] = np.dot(activations[j].T, deltas[j])\n",
        "        # self.intercept_grads_[j] = ( エ )\n",
        "        self.intercept_grads_[j] = np.sum(deltas[j], axis=0)\n",
        "    \n",
        "    def _backward(self, t, activations):\n",
        "        '''\n",
        "        逆伝播処理を行うメソッド\n",
        "        t: array-like, 正解ラベル, t.shape=(バッチサイズ、出力層ノード数)\n",
        "        activations: list, 各層の出力を納めたリスト\n",
        "        '''\n",
        "        deltas = [None] * (self.n_layers_ - 1)\n",
        "        last = self.n_layers_ - 2\n",
        "    \n",
        "        # 交差エントロピー誤差とソフトマックス関数を合わせて勾配を算出\n",
        "        n_samples = t.shape[0]\n",
        "        # deltas[last] = ( オ )\n",
        "        deltas[last] = (activations[-1] - t) / n_samples\n",
        "\n",
        "        # 出力層の1つ手前のパラメータの勾配を算出\n",
        "        # self._grad(( カ ), activations, deltas)\n",
        "        self._grad(last, activations, deltas)\n",
        "\n",
        "        # 残りのパラメータの勾配を算出\n",
        "        for i in range(self.n_layers_ - 2, 0, -1):\n",
        "            # 入力(activations)の勾配を算出\n",
        "            # deltas[i - 1] = ( キ )\n",
        "            deltas[i - 1] = np.dot(deltas[i], self.coefs_[i].T)\n",
        "\n",
        "            # 活性化関数ReLuの勾配を算出\n",
        "            # relu_backward(( ク ), deltas[i - 1])\n",
        "            relu_backward(activations[i], deltas[i - 1])\n",
        "\n",
        "            # パラメータの勾配を算出\n",
        "            # self._grad(( ケ ), activations, deltas)\n",
        "            self._grad(i - 1, activations, deltas)\n",
        "        \n",
        "        return\n",
        "    \n",
        "    def _forward_and_backward(self, x, t):\n",
        "        '''\n",
        "        順伝播処理を実行した後、逆伝播処理を実行するメソッド\n",
        "        x: array-like, 入力データ, x.shape=(バッチサイズ、入力層ノード数)\n",
        "        t: array-like, 正解ラベル, t.shape=(バッチサイズ、出力層ノード数)\n",
        "        '''\n",
        "        activations = [x] + [None] * (self.n_layers_ - 1)\n",
        "\n",
        "        # 順伝播\n",
        "        activations = self._forward(activations)\n",
        "        loss = cross_entropy_error(activations[-1], t)\n",
        "\n",
        "        # 逆伝播\n",
        "        self._backward(t, activations)\n",
        "\n",
        "        return loss"
      ],
      "metadata": {
        "id": "WMY_ZbPT2MMH"
      },
      "execution_count": 26,
      "outputs": []
    },
    {
      "cell_type": "code",
      "source": [
        "input_size = 4\n",
        "hidden_size1 = 5\n",
        "hidden_size2 = 6\n",
        "output_size = 3\n",
        "model = FullyConnectedNeuralNetwork([input_size, hidden_size1, hidden_size2, output_size])"
      ],
      "metadata": {
        "id": "6IIOIKFIUPjS"
      },
      "execution_count": 27,
      "outputs": []
    },
    {
      "cell_type": "code",
      "source": [
        "model.coef_grads_"
      ],
      "metadata": {
        "colab": {
          "base_uri": "https://localhost:8080/"
        },
        "id": "UGxW4YluUZz2",
        "outputId": "04f7290f-eb2e-46c5-f03b-c26fc8378f00"
      },
      "execution_count": 28,
      "outputs": [
        {
          "output_type": "execute_result",
          "data": {
            "text/plain": [
              "[array([[-1.19897959, -0.46702807,  0.52269926, -1.20833537, -0.1275274 ],\n",
              "        [-0.94053577, -1.58957394,  2.31645543,  0.51739648, -1.79909498],\n",
              "        [-0.85631736,  0.43865856,  0.40488838,  0.61185538,  1.82566929],\n",
              "        [ 1.48899123, -2.45059145, -0.79075758, -0.21225175,  0.80824117]]),\n",
              " array([[ 0.72298665,  0.94782164, -0.40360625, -0.55172785,  1.04519843,\n",
              "          0.35008679],\n",
              "        [-0.74859471,  2.13167966, -0.91472293,  1.68269645,  0.84424921,\n",
              "         -0.86993306],\n",
              "        [-1.28074674, -0.88278232,  1.24007604,  1.20207476, -0.24599205,\n",
              "          0.25912972],\n",
              "        [ 0.21588501, -1.63960296,  1.22335373, -1.20307058, -0.2938278 ,\n",
              "          0.72623751],\n",
              "        [ 1.69887768,  0.21116005,  1.39495492,  0.01233449,  0.91227218,\n",
              "          0.78441844]]),\n",
              " array([[-1.40769308, -1.12623854,  1.2356705 ],\n",
              "        [ 0.92650778, -1.13727534,  1.58293537],\n",
              "        [ 1.54833549, -0.03011686, -0.77829346],\n",
              "        [ 1.0279668 ,  0.63063554, -0.16355393],\n",
              "        [-2.39378574, -0.21617514,  0.83422804],\n",
              "        [-0.91662872,  1.42762459, -0.84934472]])]"
            ]
          },
          "metadata": {},
          "execution_count": 28
        }
      ]
    },
    {
      "cell_type": "code",
      "source": [
        "model.intercept_grads_"
      ],
      "metadata": {
        "colab": {
          "base_uri": "https://localhost:8080/"
        },
        "id": "crs9GQYyUfUN",
        "outputId": "2d8b0ba6-3662-4429-9992-5f6df06d5228"
      },
      "execution_count": 29,
      "outputs": [
        {
          "output_type": "execute_result",
          "data": {
            "text/plain": [
              "[array([3.73968564e-316, 0.00000000e+000, 0.00000000e+000, 0.00000000e+000,\n",
              "        0.00000000e+000]),\n",
              " array([2.06777698e-316, 2.19229575e-316, 2.88174341e-316, 2.88173867e-316,\n",
              "        2.06777817e-316, 2.06767619e-316]),\n",
              " array([2.20397704e-316, 2.33419537e-312, 5.73116149e-322])]"
            ]
          },
          "metadata": {},
          "execution_count": 29
        }
      ]
    },
    {
      "cell_type": "code",
      "source": [
        "batch_size = 5\n",
        "x = np.random.randn(batch_size, input_size)\n",
        "t = np.random.randn(batch_size, output_size)"
      ],
      "metadata": {
        "id": "21BMzNheU3qF"
      },
      "execution_count": 30,
      "outputs": []
    },
    {
      "cell_type": "code",
      "source": [
        "model._forward_and_backward(x, t)"
      ],
      "metadata": {
        "colab": {
          "base_uri": "https://localhost:8080/"
        },
        "id": "eXS7DrS5Uo_k",
        "outputId": "2cb942a8-68f7-4b89-ff9c-5d157d358c5a"
      },
      "execution_count": 31,
      "outputs": [
        {
          "output_type": "stream",
          "name": "stdout",
          "text": [
            "(5, 4)\n",
            "(5, 5)\n",
            "(5, 6)\n",
            "(5, 3)\n",
            "backward2\n",
            "backward1\n"
          ]
        },
        {
          "output_type": "execute_result",
          "data": {
            "text/plain": [
              "0.39887732817503485"
            ]
          },
          "metadata": {},
          "execution_count": 31
        }
      ]
    },
    {
      "cell_type": "code",
      "source": [
        ""
      ],
      "metadata": {
        "id": "Ti4XjAT_Gosx"
      },
      "execution_count": null,
      "outputs": []
    }
  ]
}