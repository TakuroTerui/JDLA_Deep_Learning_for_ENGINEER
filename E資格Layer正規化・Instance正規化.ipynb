{
  "nbformat": 4,
  "nbformat_minor": 0,
  "metadata": {
    "colab": {
      "name": "E資格Layer正規化・Instance正規化.ipynb",
      "provenance": [],
      "authorship_tag": "ABX9TyOSwVboTlMKoYYpUbTpgVpK"
    },
    "kernelspec": {
      "name": "python3",
      "display_name": "Python 3"
    },
    "language_info": {
      "name": "python"
    }
  },
  "cells": [
    {
      "cell_type": "code",
      "execution_count": 1,
      "metadata": {
        "id": "FmmpsvF3hjVq"
      },
      "outputs": [],
      "source": [
        "import numpy as np\n",
        "import pandas as pd\n",
        "import torch\n",
        "import torch.nn as nn"
      ]
    },
    {
      "cell_type": "code",
      "source": [
        "# 画像の生成\n",
        "input = torch.rand(1, 3, 28, 28)\n",
        "input.shape"
      ],
      "metadata": {
        "colab": {
          "base_uri": "https://localhost:8080/"
        },
        "id": "-AXmeL3ChxNR",
        "outputId": "bd08f60e-752e-4215-e40c-68dee125439f"
      },
      "execution_count": 2,
      "outputs": [
        {
          "output_type": "execute_result",
          "data": {
            "text/plain": [
              "torch.Size([1, 3, 28, 28])"
            ]
          },
          "metadata": {},
          "execution_count": 2
        }
      ]
    },
    {
      "cell_type": "code",
      "source": [
        "input"
      ],
      "metadata": {
        "colab": {
          "base_uri": "https://localhost:8080/"
        },
        "id": "1Z7QURGgh8Q3",
        "outputId": "3ea5787d-6a77-46b8-efcc-d6b2aeeedb37"
      },
      "execution_count": 3,
      "outputs": [
        {
          "output_type": "execute_result",
          "data": {
            "text/plain": [
              "tensor([[[[0.4819, 0.9963, 0.5972,  ..., 0.3748, 0.4332, 0.2698],\n",
              "          [0.4809, 0.2679, 0.4086,  ..., 0.6276, 0.1917, 0.9025],\n",
              "          [0.2198, 0.5234, 0.1805,  ..., 0.1778, 0.5245, 0.3001],\n",
              "          ...,\n",
              "          [0.2311, 0.3637, 0.9607,  ..., 0.6973, 0.6485, 0.2385],\n",
              "          [0.9652, 0.6296, 0.5286,  ..., 0.6545, 0.8948, 0.2674],\n",
              "          [0.9453, 0.6052, 0.3483,  ..., 0.0994, 0.4602, 0.5126]],\n",
              "\n",
              "         [[0.2697, 0.1954, 0.4165,  ..., 0.6598, 0.2197, 0.0654],\n",
              "          [0.0815, 0.7336, 0.4325,  ..., 0.7412, 0.3806, 0.6739],\n",
              "          [0.5544, 0.9566, 0.8764,  ..., 0.4898, 0.2189, 0.6600],\n",
              "          ...,\n",
              "          [0.2503, 0.8271, 0.2281,  ..., 0.0488, 0.8166, 0.4316],\n",
              "          [0.6736, 0.5425, 0.2484,  ..., 0.0699, 0.3490, 0.7182],\n",
              "          [0.1407, 0.7654, 0.1011,  ..., 0.0118, 0.2016, 0.1838]],\n",
              "\n",
              "         [[0.1609, 0.7970, 0.7248,  ..., 0.5418, 0.4362, 0.9575],\n",
              "          [0.6321, 0.5385, 0.0650,  ..., 0.8511, 0.3642, 0.6398],\n",
              "          [0.4351, 0.4672, 0.6869,  ..., 0.7902, 0.2885, 0.6605],\n",
              "          ...,\n",
              "          [0.5991, 0.3473, 0.1376,  ..., 0.6482, 0.2154, 0.7007],\n",
              "          [0.0320, 0.6925, 0.3478,  ..., 0.6853, 0.9004, 0.4215],\n",
              "          [0.0134, 0.9317, 0.8122,  ..., 0.4335, 0.2664, 0.5608]]]])"
            ]
          },
          "metadata": {},
          "execution_count": 3
        }
      ]
    },
    {
      "cell_type": "code",
      "source": [
        "LN = nn.LayerNorm(input.size()[1:])\n",
        "LN"
      ],
      "metadata": {
        "colab": {
          "base_uri": "https://localhost:8080/"
        },
        "id": "kKO72Hsnh9Wr",
        "outputId": "447a8c69-c6f5-47c8-a6fe-c5eda05b5846"
      },
      "execution_count": 4,
      "outputs": [
        {
          "output_type": "execute_result",
          "data": {
            "text/plain": [
              "LayerNorm((3, 28, 28), eps=1e-05, elementwise_affine=True)"
            ]
          },
          "metadata": {},
          "execution_count": 4
        }
      ]
    },
    {
      "cell_type": "code",
      "source": [
        "out = LN(input)\n",
        "out.shape"
      ],
      "metadata": {
        "colab": {
          "base_uri": "https://localhost:8080/"
        },
        "id": "x2r-IStoiMKp",
        "outputId": "2d9cd006-b5b1-4e84-c397-bea11934f948"
      },
      "execution_count": 5,
      "outputs": [
        {
          "output_type": "execute_result",
          "data": {
            "text/plain": [
              "torch.Size([1, 3, 28, 28])"
            ]
          },
          "metadata": {},
          "execution_count": 5
        }
      ]
    },
    {
      "cell_type": "code",
      "source": [
        "print('入力の標準偏差:{}'.format(input.view(-1).std()))\n",
        "print('入力の平均:{}'.format(input.view(-1).mean()))"
      ],
      "metadata": {
        "colab": {
          "base_uri": "https://localhost:8080/"
        },
        "id": "VCYSCsj8iOh1",
        "outputId": "aaa8fc3f-f27a-4439-8b1f-a16960d39aaf"
      },
      "execution_count": 6,
      "outputs": [
        {
          "output_type": "stream",
          "name": "stdout",
          "text": [
            "入力の標準偏差:0.28959396481513977\n",
            "入力の平均:0.5069738626480103\n"
          ]
        }
      ]
    },
    {
      "cell_type": "code",
      "source": [
        "print('入力の標準偏差:{}'.format(out.view(-1).std()))\n",
        "print('入力の平均:{}'.format(out.view(-1).mean()))"
      ],
      "metadata": {
        "colab": {
          "base_uri": "https://localhost:8080/"
        },
        "id": "QzFK9H-1irmC",
        "outputId": "197f2304-7df9-42a7-823a-a68f7c250760"
      },
      "execution_count": 7,
      "outputs": [
        {
          "output_type": "stream",
          "name": "stdout",
          "text": [
            "入力の標準偏差:1.0001530647277832\n",
            "入力の平均:-2.1895584012554536e-08\n"
          ]
        }
      ]
    },
    {
      "cell_type": "code",
      "source": [
        "IN = nn.InstanceNorm2d(input.size(1))\n",
        "IN"
      ],
      "metadata": {
        "colab": {
          "base_uri": "https://localhost:8080/"
        },
        "id": "Ae7Da9n1i-Ko",
        "outputId": "1ab48c4f-2662-49fd-cd0a-e255e492b180"
      },
      "execution_count": 8,
      "outputs": [
        {
          "output_type": "execute_result",
          "data": {
            "text/plain": [
              "InstanceNorm2d(3, eps=1e-05, momentum=0.1, affine=False, track_running_stats=False)"
            ]
          },
          "metadata": {},
          "execution_count": 8
        }
      ]
    },
    {
      "cell_type": "code",
      "source": [
        "out = IN(input)\n",
        "out.shape"
      ],
      "metadata": {
        "colab": {
          "base_uri": "https://localhost:8080/"
        },
        "id": "O9H8ApM4jPKu",
        "outputId": "9adcd12d-e984-44ee-e178-4fbf54e13403"
      },
      "execution_count": 9,
      "outputs": [
        {
          "output_type": "execute_result",
          "data": {
            "text/plain": [
              "torch.Size([1, 3, 28, 28])"
            ]
          },
          "metadata": {},
          "execution_count": 9
        }
      ]
    },
    {
      "cell_type": "code",
      "source": [
        "out_channel1 = out[0][0].view(-1)\n",
        "\n",
        "print('出力の標準偏差:{}'.format(out_channel1.std()))\n",
        "print('出力の平均:{}'.format(out_channel1.mean()))"
      ],
      "metadata": {
        "colab": {
          "base_uri": "https://localhost:8080/"
        },
        "id": "YS1Hi3SPjTu8",
        "outputId": "ef4321c0-061d-4dcf-89f0-0ee29464ca5f"
      },
      "execution_count": 10,
      "outputs": [
        {
          "output_type": "stream",
          "name": "stdout",
          "text": [
            "出力の標準偏差:1.0005747079849243\n",
            "出力の平均:-1.520526637932562e-08\n"
          ]
        }
      ]
    }
  ]
}