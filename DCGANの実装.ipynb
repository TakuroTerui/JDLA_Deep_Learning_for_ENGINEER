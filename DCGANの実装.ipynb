{
  "nbformat": 4,
  "nbformat_minor": 0,
  "metadata": {
    "colab": {
      "name": "DCGANの実装.ipynb",
      "provenance": [],
      "authorship_tag": "ABX9TyNTHzwx/RICGkOjc90kBVzz"
    },
    "kernelspec": {
      "name": "python3",
      "display_name": "Python 3"
    },
    "language_info": {
      "name": "python"
    },
    "widgets": {
      "application/vnd.jupyter.widget-state+json": {
        "32db61c11aed41099ecc59b7f9ad9a2e": {
          "model_module": "@jupyter-widgets/controls",
          "model_name": "HBoxModel",
          "model_module_version": "1.5.0",
          "state": {
            "_dom_classes": [],
            "_model_module": "@jupyter-widgets/controls",
            "_model_module_version": "1.5.0",
            "_model_name": "HBoxModel",
            "_view_count": null,
            "_view_module": "@jupyter-widgets/controls",
            "_view_module_version": "1.5.0",
            "_view_name": "HBoxView",
            "box_style": "",
            "children": [
              "IPY_MODEL_d0c316ed83d342acb8094d45cc41ec0f",
              "IPY_MODEL_9bae76354a664751a54bfe2598877cfd",
              "IPY_MODEL_3119d48e641149b9b7a3899521224818"
            ],
            "layout": "IPY_MODEL_0122e19423f54e029b8717f21ecf4194"
          }
        },
        "d0c316ed83d342acb8094d45cc41ec0f": {
          "model_module": "@jupyter-widgets/controls",
          "model_name": "HTMLModel",
          "model_module_version": "1.5.0",
          "state": {
            "_dom_classes": [],
            "_model_module": "@jupyter-widgets/controls",
            "_model_module_version": "1.5.0",
            "_model_name": "HTMLModel",
            "_view_count": null,
            "_view_module": "@jupyter-widgets/controls",
            "_view_module_version": "1.5.0",
            "_view_name": "HTMLView",
            "description": "",
            "description_tooltip": null,
            "layout": "IPY_MODEL_3f1decc786f945d99fef99b4281cf1df",
            "placeholder": "​",
            "style": "IPY_MODEL_12e18c7d60194347ae8eb76814d5a0df",
            "value": ""
          }
        },
        "9bae76354a664751a54bfe2598877cfd": {
          "model_module": "@jupyter-widgets/controls",
          "model_name": "FloatProgressModel",
          "model_module_version": "1.5.0",
          "state": {
            "_dom_classes": [],
            "_model_module": "@jupyter-widgets/controls",
            "_model_module_version": "1.5.0",
            "_model_name": "FloatProgressModel",
            "_view_count": null,
            "_view_module": "@jupyter-widgets/controls",
            "_view_module_version": "1.5.0",
            "_view_name": "ProgressView",
            "bar_style": "success",
            "description": "",
            "description_tooltip": null,
            "layout": "IPY_MODEL_6dcce4b08cae4041a4fede82471ed779",
            "max": 170498071,
            "min": 0,
            "orientation": "horizontal",
            "style": "IPY_MODEL_5deaddde64d1424ca70f902057f4e2a3",
            "value": 170498071
          }
        },
        "3119d48e641149b9b7a3899521224818": {
          "model_module": "@jupyter-widgets/controls",
          "model_name": "HTMLModel",
          "model_module_version": "1.5.0",
          "state": {
            "_dom_classes": [],
            "_model_module": "@jupyter-widgets/controls",
            "_model_module_version": "1.5.0",
            "_model_name": "HTMLModel",
            "_view_count": null,
            "_view_module": "@jupyter-widgets/controls",
            "_view_module_version": "1.5.0",
            "_view_name": "HTMLView",
            "description": "",
            "description_tooltip": null,
            "layout": "IPY_MODEL_2b094dfed3ce4fa88c35da1896fbe8f6",
            "placeholder": "​",
            "style": "IPY_MODEL_c0717f479fc7498f9fc931dab8a043f2",
            "value": " 170499072/? [00:03&lt;00:00, 47953888.38it/s]"
          }
        },
        "0122e19423f54e029b8717f21ecf4194": {
          "model_module": "@jupyter-widgets/base",
          "model_name": "LayoutModel",
          "model_module_version": "1.2.0",
          "state": {
            "_model_module": "@jupyter-widgets/base",
            "_model_module_version": "1.2.0",
            "_model_name": "LayoutModel",
            "_view_count": null,
            "_view_module": "@jupyter-widgets/base",
            "_view_module_version": "1.2.0",
            "_view_name": "LayoutView",
            "align_content": null,
            "align_items": null,
            "align_self": null,
            "border": null,
            "bottom": null,
            "display": null,
            "flex": null,
            "flex_flow": null,
            "grid_area": null,
            "grid_auto_columns": null,
            "grid_auto_flow": null,
            "grid_auto_rows": null,
            "grid_column": null,
            "grid_gap": null,
            "grid_row": null,
            "grid_template_areas": null,
            "grid_template_columns": null,
            "grid_template_rows": null,
            "height": null,
            "justify_content": null,
            "justify_items": null,
            "left": null,
            "margin": null,
            "max_height": null,
            "max_width": null,
            "min_height": null,
            "min_width": null,
            "object_fit": null,
            "object_position": null,
            "order": null,
            "overflow": null,
            "overflow_x": null,
            "overflow_y": null,
            "padding": null,
            "right": null,
            "top": null,
            "visibility": null,
            "width": null
          }
        },
        "3f1decc786f945d99fef99b4281cf1df": {
          "model_module": "@jupyter-widgets/base",
          "model_name": "LayoutModel",
          "model_module_version": "1.2.0",
          "state": {
            "_model_module": "@jupyter-widgets/base",
            "_model_module_version": "1.2.0",
            "_model_name": "LayoutModel",
            "_view_count": null,
            "_view_module": "@jupyter-widgets/base",
            "_view_module_version": "1.2.0",
            "_view_name": "LayoutView",
            "align_content": null,
            "align_items": null,
            "align_self": null,
            "border": null,
            "bottom": null,
            "display": null,
            "flex": null,
            "flex_flow": null,
            "grid_area": null,
            "grid_auto_columns": null,
            "grid_auto_flow": null,
            "grid_auto_rows": null,
            "grid_column": null,
            "grid_gap": null,
            "grid_row": null,
            "grid_template_areas": null,
            "grid_template_columns": null,
            "grid_template_rows": null,
            "height": null,
            "justify_content": null,
            "justify_items": null,
            "left": null,
            "margin": null,
            "max_height": null,
            "max_width": null,
            "min_height": null,
            "min_width": null,
            "object_fit": null,
            "object_position": null,
            "order": null,
            "overflow": null,
            "overflow_x": null,
            "overflow_y": null,
            "padding": null,
            "right": null,
            "top": null,
            "visibility": null,
            "width": null
          }
        },
        "12e18c7d60194347ae8eb76814d5a0df": {
          "model_module": "@jupyter-widgets/controls",
          "model_name": "DescriptionStyleModel",
          "model_module_version": "1.5.0",
          "state": {
            "_model_module": "@jupyter-widgets/controls",
            "_model_module_version": "1.5.0",
            "_model_name": "DescriptionStyleModel",
            "_view_count": null,
            "_view_module": "@jupyter-widgets/base",
            "_view_module_version": "1.2.0",
            "_view_name": "StyleView",
            "description_width": ""
          }
        },
        "6dcce4b08cae4041a4fede82471ed779": {
          "model_module": "@jupyter-widgets/base",
          "model_name": "LayoutModel",
          "model_module_version": "1.2.0",
          "state": {
            "_model_module": "@jupyter-widgets/base",
            "_model_module_version": "1.2.0",
            "_model_name": "LayoutModel",
            "_view_count": null,
            "_view_module": "@jupyter-widgets/base",
            "_view_module_version": "1.2.0",
            "_view_name": "LayoutView",
            "align_content": null,
            "align_items": null,
            "align_self": null,
            "border": null,
            "bottom": null,
            "display": null,
            "flex": null,
            "flex_flow": null,
            "grid_area": null,
            "grid_auto_columns": null,
            "grid_auto_flow": null,
            "grid_auto_rows": null,
            "grid_column": null,
            "grid_gap": null,
            "grid_row": null,
            "grid_template_areas": null,
            "grid_template_columns": null,
            "grid_template_rows": null,
            "height": null,
            "justify_content": null,
            "justify_items": null,
            "left": null,
            "margin": null,
            "max_height": null,
            "max_width": null,
            "min_height": null,
            "min_width": null,
            "object_fit": null,
            "object_position": null,
            "order": null,
            "overflow": null,
            "overflow_x": null,
            "overflow_y": null,
            "padding": null,
            "right": null,
            "top": null,
            "visibility": null,
            "width": null
          }
        },
        "5deaddde64d1424ca70f902057f4e2a3": {
          "model_module": "@jupyter-widgets/controls",
          "model_name": "ProgressStyleModel",
          "model_module_version": "1.5.0",
          "state": {
            "_model_module": "@jupyter-widgets/controls",
            "_model_module_version": "1.5.0",
            "_model_name": "ProgressStyleModel",
            "_view_count": null,
            "_view_module": "@jupyter-widgets/base",
            "_view_module_version": "1.2.0",
            "_view_name": "StyleView",
            "bar_color": null,
            "description_width": ""
          }
        },
        "2b094dfed3ce4fa88c35da1896fbe8f6": {
          "model_module": "@jupyter-widgets/base",
          "model_name": "LayoutModel",
          "model_module_version": "1.2.0",
          "state": {
            "_model_module": "@jupyter-widgets/base",
            "_model_module_version": "1.2.0",
            "_model_name": "LayoutModel",
            "_view_count": null,
            "_view_module": "@jupyter-widgets/base",
            "_view_module_version": "1.2.0",
            "_view_name": "LayoutView",
            "align_content": null,
            "align_items": null,
            "align_self": null,
            "border": null,
            "bottom": null,
            "display": null,
            "flex": null,
            "flex_flow": null,
            "grid_area": null,
            "grid_auto_columns": null,
            "grid_auto_flow": null,
            "grid_auto_rows": null,
            "grid_column": null,
            "grid_gap": null,
            "grid_row": null,
            "grid_template_areas": null,
            "grid_template_columns": null,
            "grid_template_rows": null,
            "height": null,
            "justify_content": null,
            "justify_items": null,
            "left": null,
            "margin": null,
            "max_height": null,
            "max_width": null,
            "min_height": null,
            "min_width": null,
            "object_fit": null,
            "object_position": null,
            "order": null,
            "overflow": null,
            "overflow_x": null,
            "overflow_y": null,
            "padding": null,
            "right": null,
            "top": null,
            "visibility": null,
            "width": null
          }
        },
        "c0717f479fc7498f9fc931dab8a043f2": {
          "model_module": "@jupyter-widgets/controls",
          "model_name": "DescriptionStyleModel",
          "model_module_version": "1.5.0",
          "state": {
            "_model_module": "@jupyter-widgets/controls",
            "_model_module_version": "1.5.0",
            "_model_name": "DescriptionStyleModel",
            "_view_count": null,
            "_view_module": "@jupyter-widgets/base",
            "_view_module_version": "1.2.0",
            "_view_name": "StyleView",
            "description_width": ""
          }
        }
      }
    }
  },
  "cells": [
    {
      "cell_type": "markdown",
      "source": [
        "- Discriminator においては、pooling ではなく stride によるダウンサンプリングを行う。 Generator では、転置畳み込みを使用してアップサンプリングを行う。\n",
        "- Generator と Discriminator に BatchNormalization を使用する\n",
        "- 隠れ層の全結合層は除く\n",
        "- Generator の活性化関数には ReLU を用い、出力層のみ Tanh を用いる\n",
        "- Discriminator の全ての層の活性化関数に、LeakyReLU を使用する"
      ],
      "metadata": {
        "id": "kD5-cavLwPno"
      }
    },
    {
      "cell_type": "markdown",
      "source": [
        "### データセットの準備"
      ],
      "metadata": {
        "id": "yinXn9SowYdN"
      }
    },
    {
      "cell_type": "code",
      "source": [
        "%matplotlib inline\n",
        "\n",
        "import numpy as np\n",
        "import matplotlib.pyplot as plt\n",
        "\n",
        "import torch\n",
        "import torch.nn as nn\n",
        "import torch.nn.functional as F\n",
        "\n",
        "from torchvision import datasets\n",
        "import torchvision.transforms as transforms\n",
        "\n",
        "np.random.seed(0)\n",
        "torch.manual_seed(0)"
      ],
      "metadata": {
        "colab": {
          "base_uri": "https://localhost:8080/"
        },
        "id": "Uhe8Rniqwaqs",
        "outputId": "b0020dd5-c74b-42a7-da2d-a4a9507c7ff4"
      },
      "execution_count": 1,
      "outputs": [
        {
          "output_type": "execute_result",
          "data": {
            "text/plain": [
              "<torch._C.Generator at 0x7fc280e06f50>"
            ]
          },
          "metadata": {},
          "execution_count": 1
        }
      ]
    },
    {
      "cell_type": "code",
      "source": [
        "transform = transforms.ToTensor()\n",
        "train_data = datasets.CIFAR10(root='data', train=True,\n",
        "                                   download=True, transform=transform)\n",
        "\n",
        "batch_size = 128\n",
        "train_loader = torch.utils.data.DataLoader(train_data, batch_size=batch_size)"
      ],
      "metadata": {
        "colab": {
          "base_uri": "https://localhost:8080/",
          "height": 85,
          "referenced_widgets": [
            "32db61c11aed41099ecc59b7f9ad9a2e",
            "d0c316ed83d342acb8094d45cc41ec0f",
            "9bae76354a664751a54bfe2598877cfd",
            "3119d48e641149b9b7a3899521224818",
            "0122e19423f54e029b8717f21ecf4194",
            "3f1decc786f945d99fef99b4281cf1df",
            "12e18c7d60194347ae8eb76814d5a0df",
            "6dcce4b08cae4041a4fede82471ed779",
            "5deaddde64d1424ca70f902057f4e2a3",
            "2b094dfed3ce4fa88c35da1896fbe8f6",
            "c0717f479fc7498f9fc931dab8a043f2"
          ]
        },
        "id": "jcX4rITGwcDw",
        "outputId": "46547a7a-e157-4997-902d-a3b2a72f8f03"
      },
      "execution_count": 2,
      "outputs": [
        {
          "output_type": "stream",
          "name": "stdout",
          "text": [
            "Downloading https://www.cs.toronto.edu/~kriz/cifar-10-python.tar.gz to data/cifar-10-python.tar.gz\n"
          ]
        },
        {
          "output_type": "display_data",
          "data": {
            "text/plain": [
              "  0%|          | 0/170498071 [00:00<?, ?it/s]"
            ],
            "application/vnd.jupyter.widget-view+json": {
              "version_major": 2,
              "version_minor": 0,
              "model_id": "32db61c11aed41099ecc59b7f9ad9a2e"
            }
          },
          "metadata": {}
        },
        {
          "output_type": "stream",
          "name": "stdout",
          "text": [
            "Extracting data/cifar-10-python.tar.gz to data\n"
          ]
        }
      ]
    },
    {
      "cell_type": "markdown",
      "source": [
        "### モデルの定義"
      ],
      "metadata": {
        "id": "QdAHkhXkweSI"
      }
    },
    {
      "cell_type": "code",
      "source": [
        "class Discriminator(nn.Module):\n",
        "    def __init__(self, conv_dim=32):\n",
        "        super().__init__()\n",
        "\n",
        "        self.conv_dim = conv_dim\n",
        "        self.conv = nn.Sequential(\n",
        "            # input: 32 x 32\n",
        "            nn.Conv2d(in_channels=3, out_channels=conv_dim, kernel_size=4, stride=2, padding=1, bias=False), \n",
        "            nn.LeakyReLU(0.2, inplace=True),\n",
        "            # 16 x 16\n",
        "            nn.Conv2d(conv_dim, conv_dim*2, 4, 2, 1), \n",
        "            nn.BatchNorm2d(conv_dim * 2),\n",
        "            nn.LeakyReLU(0.2, inplace=True),\n",
        "            # 8 x 8 \n",
        "            nn.Conv2d(conv_dim*2, conv_dim*4, 4, 2, 1),\n",
        "            nn.BatchNorm2d(conv_dim * 4),\n",
        "            nn.LeakyReLU(0.2, inplace=True),\n",
        "            # output: 4 x 4\n",
        "        )\n",
        "        self.fc = nn.Linear(conv_dim*4*4*4, 1)\n",
        "\n",
        "    def forward(self, x):\n",
        "        out = self.conv(x)\n",
        "        out = out.view(out.size(0), -1)\n",
        "        return self.fc(out)"
      ],
      "metadata": {
        "id": "69e_HVHtwgFS"
      },
      "execution_count": 3,
      "outputs": []
    },
    {
      "cell_type": "code",
      "source": [
        "class Generator(nn.Module):\n",
        "    def __init__(self, z_dim, conv_dim=32):\n",
        "        super().__init__()\n",
        "        self.conv_dim = conv_dim \n",
        "        self.fc = nn.Linear(z_dim, conv_dim*4*4*4)\n",
        "        self.deconv = nn.Sequential(\n",
        "            nn.ConvTranspose2d(conv_dim*4, conv_dim*2, kernel_size=4, stride=2, padding=1, bias=False),\n",
        "            nn.BatchNorm2d(conv_dim*2),\n",
        "            nn.ReLU(inplace=True),\n",
        "            nn.ConvTranspose2d(conv_dim*2, conv_dim, 4, 2, 1, bias=False),\n",
        "            nn.BatchNorm2d(conv_dim),\n",
        "            nn.ReLU(inplace=True),\n",
        "            nn.ConvTranspose2d(conv_dim, 3, 4, 2, 1, bias=False),\n",
        "            nn.Tanh()\n",
        "        )\n",
        "\n",
        "    def forward(self, x):\n",
        "        out = self.fc(x)\n",
        "        out = out.view(-1, self.conv_dim*4, 4, 4) \n",
        "        out = self.deconv(out)\n",
        "        return out"
      ],
      "metadata": {
        "id": "xTMgmh2iwzIC"
      },
      "execution_count": 5,
      "outputs": []
    },
    {
      "cell_type": "markdown",
      "source": [
        "### 損失関数"
      ],
      "metadata": {
        "id": "PPo4WaWcwzmd"
      }
    },
    {
      "cell_type": "code",
      "source": [
        "def real_loss(D_out, smooth=False):\n",
        "    batch_size = D_out.size(0)\n",
        "    if smooth:\n",
        "        labels = torch.ones(batch_size)*0.9\n",
        "    else:\n",
        "        labels = torch.ones(batch_size)\n",
        "\n",
        "    criterion = nn.BCEWithLogitsLoss()\n",
        "    loss = criterion(D_out.squeeze(), labels.to(device))\n",
        "    return loss\n",
        "\n",
        "def fake_loss(D_out):\n",
        "    batch_size = D_out.size(0)\n",
        "    labels = torch.zeros(batch_size) \n",
        "    criterion = nn.BCEWithLogitsLoss()\n",
        "    loss = criterion(D_out.squeeze(), labels.to(device))\n",
        "    return loss"
      ],
      "metadata": {
        "id": "_G7HVuWxxBfj"
      },
      "execution_count": 6,
      "outputs": []
    },
    {
      "cell_type": "markdown",
      "source": [
        "### 学習の手順"
      ],
      "metadata": {
        "id": "PGUICm4WxOOB"
      }
    },
    {
      "cell_type": "markdown",
      "source": [
        "#### Discriminator\n",
        "1. 本物画像で discriminator loss を計算\n",
        "2. 偽物画像を generator で生成\n",
        "3. 偽物画像で discriminator loss を計算\n",
        "4. 2 つの discriminator loss を合算\n",
        "5. 合算した loss を元に逆伝播・パラメータ更新\n",
        "\n",
        "#### Generator\n",
        "1. 偽物画像を generator で生成\n",
        "2. 偽物画像で disciminator loss を計算（ label を反転させる ）\n",
        "3. 逆伝播・パラメータ更新"
      ],
      "metadata": {
        "id": "2bwOuvNpxSs3"
      }
    },
    {
      "cell_type": "code",
      "source": [
        "num_epochs = 50\n",
        "z_dim = 100\n",
        "lr = 1e-4 \n",
        "conv_dim = 32\n",
        "\n",
        "device = 'cuda' if torch.cuda.is_available() else 'cpu'\n",
        "D = Discriminator(conv_dim).to(device)\n",
        "G = Generator(z_dim=z_dim, conv_dim=conv_dim).to(device)\n",
        "d_optim = torch.optim.Adam(D.parameters(), lr=lr, betas=(0.5, 0.999))\n",
        "g_optim = torch.optim.Adam(G.parameters(), lr=lr, betas=(0.5, 0.999))\n",
        "\n",
        "\n",
        "  \n",
        "for epoch in range(num_epochs):\n",
        "\n",
        "  for idx, (real_imgs, _) in enumerate(train_loader):\n",
        "    batch_size = real_imgs.size(0)\n",
        "\n",
        "    # rescaling 0~1 -> -1~1\n",
        "    real_imgs = real_imgs * 2 - 1 \n",
        "    real_imgs = real_imgs.to(device)\n",
        "\n",
        "    # =============================\n",
        "    # TRAIN THE DISCRIMINATOR\n",
        "    # =============================\n",
        "\n",
        "    d_optim.zero_grad()\n",
        "\n",
        "    # 本物画像で discriminator loss を計算\n",
        "    D_real = D(real_imgs)\n",
        "    d_real_loss = real_loss(D_real)\n",
        "\n",
        "    # 偽物画像を generator で生成\n",
        "    z = np.random.uniform(-1, 1, size=(batch_size, z_dim))\n",
        "    z = torch.from_numpy(z).float().to(device)\n",
        "    fake_imgs = G(z)\n",
        "\n",
        "    # 偽物画像で discriminator loss を計算\n",
        "    D_fake = D(fake_imgs)\n",
        "    d_fake_loss = fake_loss(D_fake)\n",
        "\n",
        "    # 合算した loss を元に逆伝播・パラメータ更新\n",
        "    d_loss = d_real_loss + d_fake_loss \n",
        "    d_loss.backward()\n",
        "    d_optim.step()\n",
        "\n",
        "    # =============================\n",
        "    # TRAIN THE GENERATOR\n",
        "    # =============================\n",
        "\n",
        "    g_optim.zero_grad()\n",
        "\n",
        "    # 偽物画像を generator で生成\n",
        "    z = np.random.uniform(-1, 1, size=(batch_size, z_dim))\n",
        "    z = torch.from_numpy(z).float().to(device)\n",
        "    fake_imgs = G(z)\n",
        "\n",
        "    # 偽物画像で disciminator loss を計算（ label を反転させる ）\n",
        "    D_fake = D(fake_imgs)\n",
        "    g_loss = real_loss(D_fake) # ここで fake_loss ではなく real_loss を用いる点がポイント\n",
        "\n",
        "    # 逆伝播・パラメータ更新\n",
        "    g_loss.backward()\n",
        "    g_optim.step()\n",
        "\n",
        "  # エポックごとにログを表示\n",
        "  print('Epoch [{:5d}/{:5d}] | d_loss: {:6.4f} | g_loss: {:6.4f}'.format(epoch+1, num_epochs, d_loss.item(), g_loss.item()))"
      ],
      "metadata": {
        "colab": {
          "base_uri": "https://localhost:8080/"
        },
        "id": "op34T2xGxgw3",
        "outputId": "c3332d27-c60d-4cf4-ba97-c3882b5a183f"
      },
      "execution_count": 7,
      "outputs": [
        {
          "output_type": "stream",
          "name": "stdout",
          "text": [
            "Epoch [    1/   50] | d_loss: 0.2342 | g_loss: 2.7285\n",
            "Epoch [    2/   50] | d_loss: 0.4036 | g_loss: 2.3579\n",
            "Epoch [    3/   50] | d_loss: 0.4289 | g_loss: 3.5510\n",
            "Epoch [    4/   50] | d_loss: 0.2662 | g_loss: 2.4498\n",
            "Epoch [    5/   50] | d_loss: 0.2448 | g_loss: 3.3709\n",
            "Epoch [    6/   50] | d_loss: 0.1850 | g_loss: 3.2804\n",
            "Epoch [    7/   50] | d_loss: 0.2330 | g_loss: 2.9932\n",
            "Epoch [    8/   50] | d_loss: 0.2973 | g_loss: 3.7349\n",
            "Epoch [    9/   50] | d_loss: 0.2345 | g_loss: 3.5905\n",
            "Epoch [   10/   50] | d_loss: 0.2512 | g_loss: 3.3480\n",
            "Epoch [   11/   50] | d_loss: 0.2427 | g_loss: 3.1734\n",
            "Epoch [   12/   50] | d_loss: 0.3154 | g_loss: 2.8746\n",
            "Epoch [   13/   50] | d_loss: 0.2552 | g_loss: 3.0863\n",
            "Epoch [   14/   50] | d_loss: 0.2149 | g_loss: 2.9894\n",
            "Epoch [   15/   50] | d_loss: 0.2204 | g_loss: 3.3595\n",
            "Epoch [   16/   50] | d_loss: 0.2921 | g_loss: 3.1760\n",
            "Epoch [   17/   50] | d_loss: 0.1872 | g_loss: 3.0369\n",
            "Epoch [   18/   50] | d_loss: 0.3151 | g_loss: 3.6578\n",
            "Epoch [   19/   50] | d_loss: 0.1943 | g_loss: 2.7980\n",
            "Epoch [   20/   50] | d_loss: 0.2424 | g_loss: 4.0501\n",
            "Epoch [   21/   50] | d_loss: 0.2644 | g_loss: 3.8513\n",
            "Epoch [   22/   50] | d_loss: 0.2137 | g_loss: 3.6049\n",
            "Epoch [   23/   50] | d_loss: 0.1842 | g_loss: 3.2347\n",
            "Epoch [   24/   50] | d_loss: 0.2032 | g_loss: 3.5013\n",
            "Epoch [   25/   50] | d_loss: 0.2269 | g_loss: 4.2075\n",
            "Epoch [   26/   50] | d_loss: 0.2420 | g_loss: 3.7087\n",
            "Epoch [   27/   50] | d_loss: 0.2161 | g_loss: 3.5261\n",
            "Epoch [   28/   50] | d_loss: 0.1940 | g_loss: 3.5170\n",
            "Epoch [   29/   50] | d_loss: 0.2279 | g_loss: 4.0073\n",
            "Epoch [   30/   50] | d_loss: 0.1564 | g_loss: 2.7229\n",
            "Epoch [   31/   50] | d_loss: 0.2477 | g_loss: 3.8533\n",
            "Epoch [   32/   50] | d_loss: 0.1859 | g_loss: 2.4924\n",
            "Epoch [   33/   50] | d_loss: 0.2033 | g_loss: 4.0199\n",
            "Epoch [   34/   50] | d_loss: 0.2759 | g_loss: 4.2601\n",
            "Epoch [   35/   50] | d_loss: 0.1741 | g_loss: 3.4854\n",
            "Epoch [   36/   50] | d_loss: 0.1537 | g_loss: 3.9798\n",
            "Epoch [   37/   50] | d_loss: 0.3667 | g_loss: 3.1802\n",
            "Epoch [   38/   50] | d_loss: 0.1968 | g_loss: 3.5889\n",
            "Epoch [   39/   50] | d_loss: 0.3308 | g_loss: 3.5672\n",
            "Epoch [   40/   50] | d_loss: 0.2184 | g_loss: 3.5989\n",
            "Epoch [   41/   50] | d_loss: 0.3012 | g_loss: 3.8414\n",
            "Epoch [   42/   50] | d_loss: 0.1662 | g_loss: 3.5538\n",
            "Epoch [   43/   50] | d_loss: 0.1868 | g_loss: 3.0331\n",
            "Epoch [   44/   50] | d_loss: 0.1837 | g_loss: 3.4789\n",
            "Epoch [   45/   50] | d_loss: 0.1528 | g_loss: 2.6548\n",
            "Epoch [   46/   50] | d_loss: 0.2129 | g_loss: 3.3135\n",
            "Epoch [   47/   50] | d_loss: 0.3338 | g_loss: 4.1544\n",
            "Epoch [   48/   50] | d_loss: 0.2607 | g_loss: 4.3965\n",
            "Epoch [   49/   50] | d_loss: 0.3229 | g_loss: 4.5700\n",
            "Epoch [   50/   50] | d_loss: 0.1767 | g_loss: 3.5113\n"
          ]
        }
      ]
    },
    {
      "cell_type": "markdown",
      "source": [
        "### 画像を生成"
      ],
      "metadata": {
        "id": "aLJGEhTyxuTS"
      }
    },
    {
      "cell_type": "code",
      "source": [
        "# 100 次元のノイズを 25 個作成\n",
        "z_dim = 100\n",
        "z = np.random.uniform(-1, 1, size=(25, z_dim))\n",
        "z = torch.from_numpy(z).float().to(device)\n",
        "\n",
        "G.eval().to(device)\n",
        "\n",
        "# Generator に通して偽物画像を生成する\n",
        "fake_images = G(z)\n",
        "\n",
        "fake_images.size()"
      ],
      "metadata": {
        "colab": {
          "base_uri": "https://localhost:8080/"
        },
        "id": "KCiFNhVMx8iy",
        "outputId": "6b9eccf2-465e-4d3a-d51b-260a243cf446"
      },
      "execution_count": 8,
      "outputs": [
        {
          "output_type": "execute_result",
          "data": {
            "text/plain": [
              "torch.Size([25, 3, 32, 32])"
            ]
          },
          "metadata": {},
          "execution_count": 8
        }
      ]
    },
    {
      "cell_type": "code",
      "source": [
        "plt.figure(figsize=(12, 12))\n",
        "\n",
        "for i in range(25):\n",
        "    img = fake_images[i].cpu().detach().numpy()\n",
        "    img = np.transpose(img, (1, 2, 0))\n",
        "    img = ((img + 1) * 255 / 2).astype(np.uint8) # rescaling\n",
        "    plt.subplot(5, 5, i+1)\n",
        "    plt.axis('off')\n",
        "    plt.imshow(img)"
      ],
      "metadata": {
        "colab": {
          "base_uri": "https://localhost:8080/",
          "height": 683
        },
        "id": "o0akUIf7yDVp",
        "outputId": "86a0da2a-ef0e-4447-b196-32a507055c7c"
      },
      "execution_count": 9,
      "outputs": [
        {
          "output_type": "display_data",
          "data": {
            "text/plain": [
              "<Figure size 864x864 with 25 Axes>"
            ],
            "image/png": "[encoded data removed]"
          },
          "metadata": {
            "needs_background": "light"
          }
        }
      ]
    }
  ]
}