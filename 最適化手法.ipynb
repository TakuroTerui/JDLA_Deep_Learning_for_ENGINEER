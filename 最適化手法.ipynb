{
  "nbformat": 4,
  "nbformat_minor": 0,
  "metadata": {
    "colab": {
      "name": "最適化手法.ipynb",
      "provenance": [],
      "authorship_tag": "ABX9TyP7E8p7+Vf5/yn0SaVHFVih"
    },
    "kernelspec": {
      "name": "python3",
      "display_name": "Python 3"
    },
    "language_info": {
      "name": "python"
    }
  },
  "cells": [
    {
      "cell_type": "code",
      "execution_count": 1,
      "metadata": {
        "id": "k02OxRKfoP0j"
      },
      "outputs": [],
      "source": [
        "import numpy as np"
      ]
    },
    {
      "cell_type": "markdown",
      "source": [
        "$$ \\theta_{t+1} = \\theta_{t} - \\eta\\frac{\\partial{L}}{\\partial{\\theta_{t}}} $$"
      ],
      "metadata": {
        "id": "jGClPBEt4Y-7"
      }
    },
    {
      "cell_type": "code",
      "source": [
        "class SGD:\n",
        "    '''\n",
        "    確率的勾配降下法\n",
        "    '''\n",
        "    def __init__(self, lr=0.01):\n",
        "        self.lr = lr\n",
        "    \n",
        "    def update(self, params, grads):\n",
        "        for key in params.keys():\n",
        "            params[key] -= self.lr * grads[key]"
      ],
      "metadata": {
        "id": "SFJWY-DioTsD"
      },
      "execution_count": 2,
      "outputs": []
    },
    {
      "cell_type": "markdown",
      "source": [
        "$$ v_{t+1} = \\alpha_{t}v_{t} - \\eta\\frac{\\partial{L}}{\\partial{\\theta_{t}}} $$\n",
        "$$ \\theta_{t+1} = \\theta_{t} + v_{t+1} $$"
      ],
      "metadata": {
        "id": "QHAfITgQ5Sfv"
      }
    },
    {
      "cell_type": "code",
      "source": [
        "class Momentum:\n",
        "    '''\n",
        "    モーメンタム\n",
        "    '''\n",
        "    def __init__(self, lr=0.01, momentum=0.9):\n",
        "        self.lr = lr\n",
        "        self.momentum = momentum\n",
        "        self.v = None\n",
        "    \n",
        "    def update(self, params, grads):\n",
        "        if self.v is None:\n",
        "            self.v = {}\n",
        "            for key, val in params.items():\n",
        "                self.v[key] = np.zeros_like(val)\n",
        "        \n",
        "        for key in params.key():\n",
        "            self.v[key] = self.momentum * self.v[key] - self.lr * grads[key]\n",
        "            params[key] += self.v[key]"
      ],
      "metadata": {
        "id": "JszVa1IBpVNd"
      },
      "execution_count": 3,
      "outputs": []
    },
    {
      "cell_type": "markdown",
      "source": [
        "更新式は以下の通り\n",
        "$$ v_{t+1} = \\alpha_{t}v_{t} - \\eta\\frac{\\partial{L}}{\\partial{(\\theta_{t}} + \\alpha v_{t})} $$\n",
        "$$ \\theta_{t+1} = \\theta_{t} + v_{t+1} $$"
      ],
      "metadata": {
        "id": "Aan32S5g54HS"
      }
    },
    {
      "cell_type": "markdown",
      "source": [
        "実装時は以下の通り\n",
        "$$ \\Theta_{t+1} = \\theta_{t} + \\alpha v_{t+1} $$\n",
        "$$ v_{t+1} = \\alpha_{t}v_{t} - \\eta\\frac{\\partial{L}}{\\partial{\\Theta_{t}}} $$\n",
        "$$ \\Theta_{t+1} = \\Theta_{t} + \\alpha^2 v_{t} - (1 + \\alpha) \\eta\\frac{\\partial{L}}{\\partial{\\Theta_{t}}}  $$"
      ],
      "metadata": {
        "id": "Ro4CW9Bo6Sue"
      }
    },
    {
      "cell_type": "code",
      "source": [
        "class Nesterov:\n",
        "    '''\n",
        "    ネステロフのモーメンタム\n",
        "    '''\n",
        "    def __init__(self, lr=0.01, momentum=0.9):\n",
        "        self.lr = lr\n",
        "        self.momentum = momentum\n",
        "        self.v = None\n",
        "    \n",
        "    def update(self, params, grads):\n",
        "        if self.v is None:\n",
        "            self.v = {}\n",
        "            for key, val in params.items():\n",
        "                self.v[key] = np.zeros_like(val)\n",
        "        \n",
        "        for key in params.keys():\n",
        "            params[key] += self.momentum * self.momentum * self.v[key]\n",
        "            params[key] -= (1 + self.momentum) * self.lr * grads[key]\n",
        "            self.v[key] *= self.momentum\n",
        "            self.v[key] -= self.lr * grads[key]"
      ],
      "metadata": {
        "id": "5vwAqdoCqM7S"
      },
      "execution_count": 4,
      "outputs": []
    },
    {
      "cell_type": "markdown",
      "source": [
        "$$ h_{t+1} = h_{t} + \\boldsymbol{\\frac{\\partial{L}}{\\partial{\\theta_{t}}}}\\circ\\boldsymbol{\\frac{\\partial{L}}{\\partial{\\theta_{t}}}} $$\n",
        "$$ \\theta_{t+1} = \\theta_{t} - \\eta \\boldsymbol{\\frac{1}{ϵ + \\sqrt{h_{t+1}}}}\\circ\\boldsymbol{\\frac{\\partial{L}}{\\partial{}\\theta_{t}}} $$"
      ],
      "metadata": {
        "id": "DdyDRvpP7W4M"
      }
    },
    {
      "cell_type": "code",
      "source": [
        "class AdaGrad:\n",
        "    '''\n",
        "    AdaGrad\n",
        "    '''\n",
        "    def __init__(self, lr=0.01):\n",
        "        self.lr = lr\n",
        "        self.h = None\n",
        "    \n",
        "    def update(self, params, grads):\n",
        "        if self.h is None:\n",
        "            self.h = {}\n",
        "            for key, val in params.items():\n",
        "                self.h[key] = np.zeros_like(val)\n",
        "        \n",
        "        for key in params.keys():\n",
        "            self.h[key] += grads[key] * grads[key]\n",
        "            params[key] -= self.lr * grads[key] / (np.sqrt(self.h[key]) + 1e-7)"
      ],
      "metadata": {
        "id": "QAvjl5xU1hct"
      },
      "execution_count": 5,
      "outputs": []
    },
    {
      "cell_type": "markdown",
      "source": [
        "$$ h_{t+1} = \\rho h_{t} + (1 - \\rho) \\boldsymbol{\\frac{\\partial{L}}{\\partial{\\theta_{t}}}}\\circ\\boldsymbol{\\frac{\\partial{L}}{\\partial{\\theta_{t}}}} $$\n",
        "$$ \\theta_{t+1} = \\theta_{t} - \\eta \\boldsymbol{\\frac{1}{ϵ + \\sqrt{h_{t+1}}}}\\circ\\boldsymbol{\\frac{\\partial{L}}{\\partial{}\\theta_{t}}} $$"
      ],
      "metadata": {
        "id": "JVpv1vkm95Y2"
      }
    },
    {
      "cell_type": "code",
      "source": [
        "class RMSProp:\n",
        "    '''\n",
        "    RMSProp\n",
        "    '''\n",
        "    def __init__(self, lr=0.01, decay_rate=0.99):\n",
        "        self.lr = lr\n",
        "        self.decay_rate = decay_rate\n",
        "        self.h = None\n",
        "    \n",
        "    def update(self, params, grads):\n",
        "        if self.h is None:\n",
        "            self.h = {}\n",
        "            for key, val in params.items():\n",
        "                self.h[key] = np.zeros_like(val)\n",
        "        \n",
        "        for key in params.keys():\n",
        "            self.h[key] *= self.decay_rate\n",
        "            self.h[key] += (1 - self.decay_rate) * grads[key] * grads[key]\n",
        "            params[key] -= self.lr * grads[key] / (np.sqrt(self.h[key] + 1e-7))"
      ],
      "metadata": {
        "id": "4Rejn2G92IZp"
      },
      "execution_count": 6,
      "outputs": []
    },
    {
      "cell_type": "markdown",
      "source": [
        "Adamにおけるパラメータの更新式は以下の通り\n",
        "$$ m_{t+1} = \\rho_{1} m_{t} + (1 - \\rho_{1}) \\frac{\\partial{L}}{\\partial{\\theta_{t}}} $$\n",
        "$$ v_{t+1} = \\rho_{2} v_{t} + (1 - \\rho_{2}) \\boldsymbol{\\frac{\\partial{L}}{\\partial{}\\theta_{t}}}\\circ\\boldsymbol{\\frac{\\partial{L}}{\\partial{}\\theta_{t}}} $$\n",
        "\n",
        "およびバイアスに修正\n",
        "$$  \\hat{m_{t+1}} = \\frac{m_{t+1}}{1 - \\rho^{t}_{1}} $$\n",
        "$$  \\hat{v_{t+1}} = \\frac{v_{t+1}}{1 - \\rho^{t}_{2}} $$\n",
        "\n",
        "を用いて、\n",
        "$$ \\theta_{t+1} = \\theta_{t} - \\eta \\frac{1}{\\sqrt{\\hat{v_{t+1}}} + \\epsilon} \\circ \\hat{m_{t+1}} $$"
      ],
      "metadata": {
        "id": "6CbedKtn-vR2"
      }
    },
    {
      "cell_type": "code",
      "source": [
        "class Adam:\n",
        "    '''\n",
        "    Adam\n",
        "    '''\n",
        "    def __init__(self, lr=0.001, rho1=0.9, rho2=0.999):\n",
        "        self.lr = lr\n",
        "        self.rho1 = rho1\n",
        "        self.rho2 = rho2\n",
        "        self.iter = 0\n",
        "        self.m = None\n",
        "        self.v = None\n",
        "        self.epsilon = 1e-8\n",
        "    \n",
        "    def update(self, params, grads):\n",
        "        if self.m is None:\n",
        "            self.m, self.v = {}, {}\n",
        "            for key, val in params.items():\n",
        "                self.m[key] = np.zeros_like(val)\n",
        "                self.v[key] = np.zeros_like(val)\n",
        "        \n",
        "        self.iter += 1\n",
        "\n",
        "        for key in params.keys():\n",
        "            self.m[key] = self.rho1 * self.m[key] + (1 - self.rho1) * grads[key]\n",
        "            self.v[key] = self.rho2 * self.v[key] + (1 - self.rho2) * (grads[key] ** 2)\n",
        "\n",
        "            m = self.m[key] / (1 - self.rho1 ** self.iter)\n",
        "            v = self.v[key] / (1 - self.rho2 ** self.iter)\n",
        "\n",
        "            params[key] -= self.lr * m / (np.sqrt(v) * self.epsilon)"
      ],
      "metadata": {
        "id": "prD9kGz627Wt"
      },
      "execution_count": 7,
      "outputs": []
    }
  ]
}