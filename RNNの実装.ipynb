{
  "nbformat": 4,
  "nbformat_minor": 0,
  "metadata": {
    "colab": {
      "name": "RNNの実装.ipynb",
      "provenance": [],
      "authorship_tag": "ABX9TyPORMLCNVfXoJK8MNhuJ1Qd"
    },
    "kernelspec": {
      "name": "python3",
      "display_name": "Python 3"
    },
    "language_info": {
      "name": "python"
    }
  },
  "cells": [
    {
      "cell_type": "code",
      "execution_count": 1,
      "metadata": {
        "id": "W_iekJ1lPpRM"
      },
      "outputs": [],
      "source": [
        "import numpy as np"
      ]
    },
    {
      "cell_type": "markdown",
      "source": [
        "### Step1. RNNユニットを作成"
      ],
      "metadata": {
        "id": "4P6Uso9aU6TE"
      }
    },
    {
      "cell_type": "code",
      "source": [
        "N = 32\n",
        "T = 16\n",
        "D = 100\n",
        "H = 100\n",
        "\n",
        "# バッチサイズ 32, タイムステップ 16, 次元数 100 のテンソルを生成\n",
        "xs = np.random.randn(N, T, D)\n",
        "\n",
        "# 1 時刻分を取り出す\n",
        "x = xs[:, 0, :]\n",
        "x.shape"
      ],
      "metadata": {
        "colab": {
          "base_uri": "https://localhost:8080/"
        },
        "id": "8Ov2O1GqVAFf",
        "outputId": "bb466458-b0c9-45b5-e449-d93cfa0c11f7"
      },
      "execution_count": 2,
      "outputs": [
        {
          "output_type": "execute_result",
          "data": {
            "text/plain": [
              "(32, 100)"
            ]
          },
          "metadata": {},
          "execution_count": 2
        }
      ]
    },
    {
      "cell_type": "markdown",
      "source": [
        "$$ tanh(h_{t-1}W_{h} + x_{t}W_{x} + b) = h_{t} $$\n",
        "$$ (N, H) (H, H) (N, D) (D, H) (N, H) (N, H) $$"
      ],
      "metadata": {
        "id": "1dbARtaaViEs"
      }
    },
    {
      "cell_type": "code",
      "source": [
        "# 隠れ状態ベクトルの初期値は 0 とする\n",
        "h_prev = np.zeros((N, H))\n",
        "\n",
        "# パラメータ Wh, Wx, b を生成\n",
        "Wh = np.random.randn(H, H)\n",
        "Wx = np.random.randn(D, H)\n",
        "b = np.random.randn(N, H)"
      ],
      "metadata": {
        "id": "G9O_ecq7VD8W"
      },
      "execution_count": 3,
      "outputs": []
    },
    {
      "cell_type": "code",
      "source": [
        "u = np.dot(h_prev, Wh) + np.dot(x, Wx) + b\n",
        "u.shape"
      ],
      "metadata": {
        "colab": {
          "base_uri": "https://localhost:8080/"
        },
        "id": "JzPP2Ha8VNhI",
        "outputId": "cff4ad7b-81ac-41ec-e52a-2dc79f2b24de"
      },
      "execution_count": 4,
      "outputs": [
        {
          "output_type": "execute_result",
          "data": {
            "text/plain": [
              "(32, 100)"
            ]
          },
          "metadata": {},
          "execution_count": 4
        }
      ]
    },
    {
      "cell_type": "code",
      "source": [
        "h_next = np.tanh(u)\n",
        "h_next.shape"
      ],
      "metadata": {
        "colab": {
          "base_uri": "https://localhost:8080/"
        },
        "id": "pvCntKp-VPqE",
        "outputId": "2e3d51b9-a6eb-4977-c6b3-b6949c59d497"
      },
      "execution_count": 5,
      "outputs": [
        {
          "output_type": "execute_result",
          "data": {
            "text/plain": [
              "(32, 100)"
            ]
          },
          "metadata": {},
          "execution_count": 5
        }
      ]
    },
    {
      "cell_type": "code",
      "source": [
        "h_next"
      ],
      "metadata": {
        "colab": {
          "base_uri": "https://localhost:8080/"
        },
        "id": "RYATk3biVSQJ",
        "outputId": "bf499873-8726-4735-ebf2-c489f187d232"
      },
      "execution_count": 6,
      "outputs": [
        {
          "output_type": "execute_result",
          "data": {
            "text/plain": [
              "array([[ 1.        ,  0.99958002,  0.99893217, ...,  0.99999996,\n",
              "        -0.76952616, -0.99850991],\n",
              "       [ 0.99999505, -0.77533492, -1.        , ..., -0.99208186,\n",
              "        -0.90657128,  1.        ],\n",
              "       [ 0.87234494, -0.99922999,  1.        , ..., -1.        ,\n",
              "        -0.99998257, -1.        ],\n",
              "       ...,\n",
              "       [-1.        ,  0.99797761,  1.        , ..., -0.99980148,\n",
              "        -0.99997336,  1.        ],\n",
              "       [-0.99999995,  0.99999108, -0.99999957, ...,  1.        ,\n",
              "        -0.99980904,  0.99119339],\n",
              "       [ 0.86463281, -1.        , -0.98218646, ...,  0.82410175,\n",
              "        -0.52670444, -0.99999951]])"
            ]
          },
          "metadata": {},
          "execution_count": 6
        }
      ]
    },
    {
      "cell_type": "code",
      "source": [
        "class RNN:\n",
        "  def __init__(self, Wx, Wh, b): # 引数として、 2 つの重みと 1 つのバイアスをとる\n",
        "    self.params = [Wx, Wh, b] # パラメータを格納\n",
        "  \n",
        "  def forward(self, x, h_prev):\n",
        "    Wx, Wh, b = self.params\n",
        "    t = np.dot(h_prev, Wh) + np.dot(x, Wx) + b # 線形変換\n",
        "    h_next = np.tanh(t) # 非線形変換\n",
        "\n",
        "    self.cache = (x, h_prev, h_next)\n",
        "    return h_next"
      ],
      "metadata": {
        "id": "8-_ipeSyVTun"
      },
      "execution_count": 7,
      "outputs": []
    },
    {
      "cell_type": "code",
      "source": [
        "rnn_unit = RNN(Wx, Wh, b)\n",
        "res = rnn_unit.forward(x, h_prev)"
      ],
      "metadata": {
        "id": "X83hmmyEVWGt"
      },
      "execution_count": 8,
      "outputs": []
    },
    {
      "cell_type": "code",
      "source": [
        "res == h_next"
      ],
      "metadata": {
        "colab": {
          "base_uri": "https://localhost:8080/"
        },
        "id": "bkiTZ9KAVXuO",
        "outputId": "791528ea-e5cf-4fe0-f927-4783d931c8d4"
      },
      "execution_count": 9,
      "outputs": [
        {
          "output_type": "execute_result",
          "data": {
            "text/plain": [
              "array([[ True,  True,  True, ...,  True,  True,  True],\n",
              "       [ True,  True,  True, ...,  True,  True,  True],\n",
              "       [ True,  True,  True, ...,  True,  True,  True],\n",
              "       ...,\n",
              "       [ True,  True,  True, ...,  True,  True,  True],\n",
              "       [ True,  True,  True, ...,  True,  True,  True],\n",
              "       [ True,  True,  True, ...,  True,  True,  True]])"
            ]
          },
          "metadata": {},
          "execution_count": 9
        }
      ]
    },
    {
      "cell_type": "markdown",
      "source": [
        "### Step2. RNNレイヤーを作成"
      ],
      "metadata": {
        "id": "3j05VZgXVeNT"
      }
    },
    {
      "cell_type": "code",
      "source": [
        "xs = np.random.randn(N, T, D)"
      ],
      "metadata": {
        "id": "fNTOrqUdWC7J"
      },
      "execution_count": 10,
      "outputs": []
    },
    {
      "cell_type": "code",
      "source": [
        "rnn_unit = RNN(Wx, Wh, b)"
      ],
      "metadata": {
        "id": "gDKISFpuWKGO"
      },
      "execution_count": 11,
      "outputs": []
    },
    {
      "cell_type": "code",
      "source": [
        "h_0 = np.zeros((N, H))\n",
        "h_1 = rnn_unit.forward(xs[:, 0, :], h_0)\n",
        "h_2 = rnn_unit.forward(xs[:, 1, :], h_1)\n",
        "h_3 = rnn_unit.forward(xs[:, 2, :], h_2)"
      ],
      "metadata": {
        "id": "YkhiS79yWNde"
      },
      "execution_count": 12,
      "outputs": []
    },
    {
      "cell_type": "code",
      "source": [
        "N, T, D = xs.shape"
      ],
      "metadata": {
        "id": "qPYTtzKKWRxr"
      },
      "execution_count": 13,
      "outputs": []
    },
    {
      "cell_type": "code",
      "source": [
        "h = np.zeros((N, H), dtype='f') # 隠れ状態ベクトルの初期値\n",
        "hs = np.empty((N, T, H), dtype='f')\n",
        "for t in range(T):\n",
        "  # RNN セルで隠れ状態ベクトルを更新\n",
        "  h = rnn_unit.forward(xs[:, t, :], h)\n",
        "  hs[:, t, :] = h"
      ],
      "metadata": {
        "id": "yY8tjTscWTzq"
      },
      "execution_count": 14,
      "outputs": []
    },
    {
      "cell_type": "code",
      "source": [
        "hs.shape"
      ],
      "metadata": {
        "colab": {
          "base_uri": "https://localhost:8080/"
        },
        "id": "XgIFYqelWaA3",
        "outputId": "e2422b68-ef51-49a1-bd8d-a863eed0d32e"
      },
      "execution_count": 15,
      "outputs": [
        {
          "output_type": "execute_result",
          "data": {
            "text/plain": [
              "(32, 16, 100)"
            ]
          },
          "metadata": {},
          "execution_count": 15
        }
      ]
    },
    {
      "cell_type": "code",
      "source": [
        "class RNNLayer:\n",
        "  def __init__(self, Wx, Wh, b, stateful=False):\n",
        "    self.params = [Wx, Wh, b]\n",
        "    self.rnn = RNN(Wx, Wh, b)\n",
        "    self.h = None\n",
        "    self.stateful = stateful\n",
        "\n",
        "  def forward(self, xs):\n",
        "    Wx, Wh, b = self.params \n",
        "    N, T, D = xs.shape \n",
        "    D, H = Wx.shape \n",
        "\n",
        "    hs = np.empty((N, T, H), dtype='f')\n",
        "    \n",
        "    if not self.stateful or self.h is None:\n",
        "      self.h = np.zeros((N, H), dtype='f')\n",
        "\n",
        "    for t in range(T):\n",
        "      self.h = self.rnn.forward(xs[:, t, :], self.h)\n",
        "      hs[:, t, :] = self.h \n",
        "\n",
        "    return hs"
      ],
      "metadata": {
        "id": "fI0z-3ssWcYV"
      },
      "execution_count": 16,
      "outputs": []
    },
    {
      "cell_type": "code",
      "source": [
        "rnn_layer = RNNLayer(Wx, Wh, b, stateful=False)"
      ],
      "metadata": {
        "id": "j6_Ks9VzWese"
      },
      "execution_count": 17,
      "outputs": []
    },
    {
      "cell_type": "code",
      "source": [
        "hs = rnn_layer.forward(xs)"
      ],
      "metadata": {
        "id": "oE_fXbhuWgMQ"
      },
      "execution_count": 18,
      "outputs": []
    },
    {
      "cell_type": "code",
      "source": [
        "hs.shape"
      ],
      "metadata": {
        "colab": {
          "base_uri": "https://localhost:8080/"
        },
        "id": "uoCb4u8WWiWL",
        "outputId": "fe59129f-2a33-48aa-c2a8-5ae348c75e60"
      },
      "execution_count": 19,
      "outputs": [
        {
          "output_type": "execute_result",
          "data": {
            "text/plain": [
              "(32, 16, 100)"
            ]
          },
          "metadata": {},
          "execution_count": 19
        }
      ]
    }
  ]
}