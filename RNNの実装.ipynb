{
  "nbformat": 4,
  "nbformat_minor": 0,
  "metadata": {
    "colab": {
      "name": "RNNの実装.ipynb",
      "provenance": [],
      "authorship_tag": "ABX9TyOcGRSM6tKEppgysMl0nW53"
    },
    "kernelspec": {
      "name": "python3",
      "display_name": "Python 3"
    },
    "language_info": {
      "name": "python"
    }
  },
  "cells": [
    {
      "cell_type": "code",
      "execution_count": 1,
      "metadata": {
        "id": "W_iekJ1lPpRM"
      },
      "outputs": [],
      "source": [
        "import numpy as np"
      ]
    },
    {
      "cell_type": "markdown",
      "source": [
        "### Step1. RNNユニットを作成"
      ],
      "metadata": {
        "id": "4P6Uso9aU6TE"
      }
    },
    {
      "cell_type": "code",
      "source": [
        "N = 32\n",
        "T = 16\n",
        "D = 100\n",
        "H = 100\n",
        "\n",
        "# バッチサイズ 32, タイムステップ 16, 次元数 100 のテンソルを生成\n",
        "xs = np.random.randn(N, T, D)\n",
        "\n",
        "# 1 時刻分を取り出す\n",
        "x = xs[:, 0, :]\n",
        "x.shape"
      ],
      "metadata": {
        "colab": {
          "base_uri": "https://localhost:8080/"
        },
        "id": "8Ov2O1GqVAFf",
        "outputId": "5cb7db28-9e2f-4c08-ad43-d97194613b07"
      },
      "execution_count": 2,
      "outputs": [
        {
          "output_type": "execute_result",
          "data": {
            "text/plain": [
              "(32, 100)"
            ]
          },
          "metadata": {},
          "execution_count": 2
        }
      ]
    },
    {
      "cell_type": "markdown",
      "source": [
        "$$ tanh(h_{t-1}W_{h} + x_{t}W_{x} + b) = h_{t} $$\n",
        "$$ h_{t-1} : (N, H) $$\n",
        "$$  W_{h} : (H, H) $$\n",
        "$$ x_{t} : (N, D) $$\n",
        "$$ W_{x} : (D, H) $$\n",
        "$$ b : (N, H) $$\n",
        "$$ h_{t} : (N, H) $$"
      ],
      "metadata": {
        "id": "1dbARtaaViEs"
      }
    },
    {
      "cell_type": "code",
      "source": [
        "# 隠れ状態ベクトルの初期値は 0 とする\n",
        "h_prev = np.zeros((N, H))\n",
        "\n",
        "# パラメータ Wh, Wx, b を生成\n",
        "Wh = np.random.randn(H, H)\n",
        "Wx = np.random.randn(D, H)\n",
        "b = np.random.randn(N, H)"
      ],
      "metadata": {
        "id": "G9O_ecq7VD8W"
      },
      "execution_count": 3,
      "outputs": []
    },
    {
      "cell_type": "code",
      "source": [
        "u = np.dot(h_prev, Wh) + np.dot(x, Wx) + b\n",
        "u.shape"
      ],
      "metadata": {
        "colab": {
          "base_uri": "https://localhost:8080/"
        },
        "id": "JzPP2Ha8VNhI",
        "outputId": "d24c2464-5149-41f7-f993-5b8469043423"
      },
      "execution_count": 4,
      "outputs": [
        {
          "output_type": "execute_result",
          "data": {
            "text/plain": [
              "(32, 100)"
            ]
          },
          "metadata": {},
          "execution_count": 4
        }
      ]
    },
    {
      "cell_type": "code",
      "source": [
        "h_next = np.tanh(u)\n",
        "h_next.shape"
      ],
      "metadata": {
        "colab": {
          "base_uri": "https://localhost:8080/"
        },
        "id": "pvCntKp-VPqE",
        "outputId": "7ebdf24b-c464-4c0d-d5b1-e15d2e7ed75c"
      },
      "execution_count": 5,
      "outputs": [
        {
          "output_type": "execute_result",
          "data": {
            "text/plain": [
              "(32, 100)"
            ]
          },
          "metadata": {},
          "execution_count": 5
        }
      ]
    },
    {
      "cell_type": "code",
      "source": [
        "h_next"
      ],
      "metadata": {
        "colab": {
          "base_uri": "https://localhost:8080/"
        },
        "id": "RYATk3biVSQJ",
        "outputId": "009f60fb-c448-496f-9fcf-4f5181426e52"
      },
      "execution_count": 6,
      "outputs": [
        {
          "output_type": "execute_result",
          "data": {
            "text/plain": [
              "array([[ 0.9881369 ,  0.9999999 ,  0.99955073, ...,  0.99999999,\n",
              "         0.99887534,  0.98743934],\n",
              "       [ 1.        , -0.99999711, -0.95491545, ...,  0.99999999,\n",
              "        -0.99990978,  0.9998628 ],\n",
              "       [ 0.99999897, -0.99998094,  1.        , ...,  0.99843245,\n",
              "        -1.        ,  1.        ],\n",
              "       ...,\n",
              "       [-1.        ,  1.        ,  0.99996976, ...,  1.        ,\n",
              "         1.        , -1.        ],\n",
              "       [-0.77173216, -0.09944896,  0.99999455, ...,  0.12510887,\n",
              "        -1.        ,  0.81339823],\n",
              "       [-1.        ,  0.999996  ,  0.99999979, ..., -1.        ,\n",
              "         0.99999131,  0.99239536]])"
            ]
          },
          "metadata": {},
          "execution_count": 6
        }
      ]
    },
    {
      "cell_type": "code",
      "source": [
        "class RNN:\n",
        "  def __init__(self, Wx, Wh, b): # 引数として、 2 つの重みと 1 つのバイアスをとる\n",
        "    self.params = [Wx, Wh, b] # パラメータを格納\n",
        "  \n",
        "  def forward(self, x, h_prev):\n",
        "    Wx, Wh, b = self.params\n",
        "    t = np.dot(h_prev, Wh) + np.dot(x, Wx) + b # 線形変換\n",
        "    h_next = np.tanh(t) # 非線形変換\n",
        "\n",
        "    self.cache = (x, h_prev, h_next)\n",
        "    return h_next"
      ],
      "metadata": {
        "id": "8-_ipeSyVTun"
      },
      "execution_count": 7,
      "outputs": []
    },
    {
      "cell_type": "code",
      "source": [
        "rnn_unit = RNN(Wx, Wh, b)\n",
        "res = rnn_unit.forward(x, h_prev)"
      ],
      "metadata": {
        "id": "X83hmmyEVWGt"
      },
      "execution_count": 8,
      "outputs": []
    },
    {
      "cell_type": "code",
      "source": [
        "res == h_next"
      ],
      "metadata": {
        "colab": {
          "base_uri": "https://localhost:8080/"
        },
        "id": "bkiTZ9KAVXuO",
        "outputId": "bb3eb6bb-a1fe-4b12-af2c-fed4feba3577"
      },
      "execution_count": 9,
      "outputs": [
        {
          "output_type": "execute_result",
          "data": {
            "text/plain": [
              "array([[ True,  True,  True, ...,  True,  True,  True],\n",
              "       [ True,  True,  True, ...,  True,  True,  True],\n",
              "       [ True,  True,  True, ...,  True,  True,  True],\n",
              "       ...,\n",
              "       [ True,  True,  True, ...,  True,  True,  True],\n",
              "       [ True,  True,  True, ...,  True,  True,  True],\n",
              "       [ True,  True,  True, ...,  True,  True,  True]])"
            ]
          },
          "metadata": {},
          "execution_count": 9
        }
      ]
    },
    {
      "cell_type": "markdown",
      "source": [
        "### Step2. RNNレイヤーを作成"
      ],
      "metadata": {
        "id": "3j05VZgXVeNT"
      }
    },
    {
      "cell_type": "code",
      "source": [
        "xs = np.random.randn(N, T, D)"
      ],
      "metadata": {
        "id": "fNTOrqUdWC7J"
      },
      "execution_count": 10,
      "outputs": []
    },
    {
      "cell_type": "code",
      "source": [
        "rnn_unit = RNN(Wx, Wh, b)"
      ],
      "metadata": {
        "id": "gDKISFpuWKGO"
      },
      "execution_count": 11,
      "outputs": []
    },
    {
      "cell_type": "code",
      "source": [
        "h_0 = np.zeros((N, H))\n",
        "h_1 = rnn_unit.forward(xs[:, 0, :], h_0)\n",
        "h_2 = rnn_unit.forward(xs[:, 1, :], h_1)\n",
        "h_3 = rnn_unit.forward(xs[:, 2, :], h_2)"
      ],
      "metadata": {
        "id": "YkhiS79yWNde"
      },
      "execution_count": 12,
      "outputs": []
    },
    {
      "cell_type": "code",
      "source": [
        "N, T, D = xs.shape"
      ],
      "metadata": {
        "id": "qPYTtzKKWRxr"
      },
      "execution_count": 13,
      "outputs": []
    },
    {
      "cell_type": "code",
      "source": [
        "h = np.zeros((N, H), dtype='f') # 隠れ状態ベクトルの初期値\n",
        "hs = np.empty((N, T, H), dtype='f')\n",
        "for t in range(T):\n",
        "  # RNN セルで隠れ状態ベクトルを更新\n",
        "  h = rnn_unit.forward(xs[:, t, :], h)\n",
        "  hs[:, t, :] = h"
      ],
      "metadata": {
        "id": "yY8tjTscWTzq"
      },
      "execution_count": 14,
      "outputs": []
    },
    {
      "cell_type": "code",
      "source": [
        "hs.shape"
      ],
      "metadata": {
        "colab": {
          "base_uri": "https://localhost:8080/"
        },
        "id": "XgIFYqelWaA3",
        "outputId": "eb4e190e-7510-4d53-b55a-fdd5d28e933a"
      },
      "execution_count": 15,
      "outputs": [
        {
          "output_type": "execute_result",
          "data": {
            "text/plain": [
              "(32, 16, 100)"
            ]
          },
          "metadata": {},
          "execution_count": 15
        }
      ]
    },
    {
      "cell_type": "code",
      "source": [
        "class RNNLayer:\n",
        "  def __init__(self, Wx, Wh, b, stateful=False):\n",
        "    self.params = [Wx, Wh, b]\n",
        "    self.rnn = RNN(Wx, Wh, b)\n",
        "    self.h = None\n",
        "    self.stateful = stateful\n",
        "\n",
        "  def forward(self, xs):\n",
        "    Wx, Wh, b = self.params \n",
        "    N, T, D = xs.shape \n",
        "    D, H = Wx.shape \n",
        "\n",
        "    hs = np.empty((N, T, H), dtype='f')\n",
        "    \n",
        "    if not self.stateful or self.h is None:\n",
        "      self.h = np.zeros((N, H), dtype='f')\n",
        "\n",
        "    for t in range(T):\n",
        "      self.h = self.rnn.forward(xs[:, t, :], self.h)\n",
        "      hs[:, t, :] = self.h \n",
        "\n",
        "    return hs"
      ],
      "metadata": {
        "id": "fI0z-3ssWcYV"
      },
      "execution_count": 16,
      "outputs": []
    },
    {
      "cell_type": "code",
      "source": [
        "rnn_layer = RNNLayer(Wx, Wh, b, stateful=False)"
      ],
      "metadata": {
        "id": "j6_Ks9VzWese"
      },
      "execution_count": 17,
      "outputs": []
    },
    {
      "cell_type": "code",
      "source": [
        "hs = rnn_layer.forward(xs)"
      ],
      "metadata": {
        "id": "oE_fXbhuWgMQ"
      },
      "execution_count": 18,
      "outputs": []
    },
    {
      "cell_type": "code",
      "source": [
        "hs.shape"
      ],
      "metadata": {
        "id": "uoCb4u8WWiWL",
        "outputId": "4cc35fda-fbc5-4b19-943e-09c529ccadc1",
        "colab": {
          "base_uri": "https://localhost:8080/"
        }
      },
      "execution_count": 19,
      "outputs": [
        {
          "output_type": "execute_result",
          "data": {
            "text/plain": [
              "(32, 16, 100)"
            ]
          },
          "metadata": {},
          "execution_count": 19
        }
      ]
    }
  ]
}