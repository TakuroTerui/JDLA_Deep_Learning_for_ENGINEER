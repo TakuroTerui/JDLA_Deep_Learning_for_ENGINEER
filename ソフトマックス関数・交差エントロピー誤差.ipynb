{
  "nbformat": 4,
  "nbformat_minor": 0,
  "metadata": {
    "colab": {
      "name": "ソフトマックス関数・交差エントロピー誤差.ipynb",
      "provenance": [],
      "authorship_tag": "ABX9TyOV+wowk/BFMgJo6Iz6Am6i"
    },
    "kernelspec": {
      "name": "python3",
      "display_name": "Python 3"
    },
    "language_info": {
      "name": "python"
    }
  },
  "cells": [
    {
      "cell_type": "code",
      "execution_count": null,
      "metadata": {
        "id": "0jfwmJgQujUc"
      },
      "outputs": [],
      "source": [
        "import numpy as np\n",
        "\n",
        "def softmax(x):\n",
        "    if x.ndim == 2:\n",
        "        x = x - x.max(axis=1, keepdims=True)\n",
        "        x = np.exp(x)\n",
        "        x /= x.sum(axis=1, keepdims=True)\n",
        "    elif x.ndim == 1:\n",
        "        x = x - np.max(x)\n",
        "        x = np.exp(x) / np.sum(np.exp(x)) \n",
        "    return x"
      ]
    },
    {
      "cell_type": "code",
      "source": [
        "class Softmax:\n",
        "    def __init__(self):\n",
        "        self.params, self.grads = [], []\n",
        "        self.out = None\n",
        "    \n",
        "    def forward(self, x):\n",
        "        self.out = softmax(x)\n",
        "        return self.out\n",
        "    \n",
        "    def backward(self, dout):\n",
        "        dx = self.out * dout\n",
        "        sumdx = np.sum(dx, axis=1, keepdims=True)\n",
        "        dx -= self.out * sumdx\n",
        "        return dx"
      ],
      "metadata": {
        "id": "3gm595IkvIB_"
      },
      "execution_count": null,
      "outputs": []
    },
    {
      "cell_type": "code",
      "source": [
        "def cross_entropy_error(y, t):\n",
        "    '''\n",
        "    y: ソフトマックス関数の出力\n",
        "        y.shape(k,) またはy.shape=(N, k)\n",
        "    t: 正解ラベル（ワンホット表現）\n",
        "        t.shape(k,) またはt.shape=(N, k)\n",
        "    '''\n",
        "    if y.ndim == 1:\n",
        "        t = t.reshape(1, -1)\n",
        "        y = y.reshape(1, -1)\n",
        "    \n",
        "    batch_size = y.shape[0]\n",
        "    delta = 1e-7\n",
        "    return -np.sum(t * np.log(y + delta)) / batch_size"
      ],
      "metadata": {
        "id": "-vCm5sF1vtrA"
      },
      "execution_count": 3,
      "outputs": []
    },
    {
      "cell_type": "code",
      "source": [
        "class SoftmaxWithLoss:\n",
        "    def __init__(self):\n",
        "        self.loss = None\n",
        "        self.y = None\n",
        "        self.t = None\n",
        "    \n",
        "    def forward(self, x, t):\n",
        "        self.t = t\n",
        "        self.y = softmax(x)\n",
        "        self.loss = cross_entropy_error(self.y, self.t)\n",
        "        return self.loss\n",
        "    \n",
        "    def backward(self):\n",
        "        batch_size = self.t.shape[0]\n",
        "        dx = (self.y - self.t) / batch_size\n",
        "        return dx"
      ],
      "metadata": {
        "id": "pwkz65UW0lUZ"
      },
      "execution_count": 4,
      "outputs": []
    },
    {
      "cell_type": "code",
      "source": [
        ""
      ],
      "metadata": {
        "id": "j8I72mtz1KTT"
      },
      "execution_count": null,
      "outputs": []
    }
  ]
}