{
  "nbformat": 4,
  "nbformat_minor": 0,
  "metadata": {
    "colab": {
      "name": "教師なし学習の各種アルゴリズム.ipynb",
      "provenance": [],
      "authorship_tag": "ABX9TyOyEswT6s61ufB/zNGsqVJP"
    },
    "kernelspec": {
      "name": "python3",
      "display_name": "Python 3"
    },
    "language_info": {
      "name": "python"
    }
  },
  "cells": [
    {
      "cell_type": "markdown",
      "source": [
        "### k-means"
      ],
      "metadata": {
        "id": "KxA1sPY0rtgx"
      }
    },
    {
      "cell_type": "code",
      "execution_count": 1,
      "metadata": {
        "id": "0ulRLNpZjE5G"
      },
      "outputs": [],
      "source": [
        "import numpy as np"
      ]
    },
    {
      "cell_type": "code",
      "source": [
        "def init_centroid(X, k, n_data):\n",
        "    # 各データ点の中からセントロイドとなる点をk個ランダムに選択\n",
        "    idx = np.random.permutation(n_data)[:k]\n",
        "    centroids = X[idx]\n",
        "    return centroids"
      ],
      "metadata": {
        "id": "8q43u5BajG2-"
      },
      "execution_count": 2,
      "outputs": []
    },
    {
      "cell_type": "code",
      "source": [
        "def compute_distances(X, k, n_data, centroids):\n",
        "    distances = np.zeros((n_data, k))\n",
        "    for idx_centroids in range(k):\n",
        "        dist = np.sqrt(np.sum((X - centroids[idx_centroids]) ** 2, axis=1))\n",
        "        distances[:, idx_centroids] = dist\n",
        "    return distances"
      ],
      "metadata": {
        "id": "8Q0JpEGWjc-P"
      },
      "execution_count": 3,
      "outputs": []
    },
    {
      "cell_type": "code",
      "source": [
        "def k_means(k, X, max_iter=300):\n",
        "    '''\n",
        "    X.shape = (データ数、次元数)\n",
        "    k = クラスタ数\n",
        "    '''\n",
        "    n_data, n_features = X.shape\n",
        "\n",
        "    # セントロイドの初期値\n",
        "    centroids = init_centroid(X, n_data, k)\n",
        "\n",
        "    # 新しいクラスタを格納するための配列\n",
        "    new_cluster = np.zeros(n_data)\n",
        "\n",
        "    # 各データの所属クラスタを保存する配列\n",
        "    cluster = np.zeros(n_data)\n",
        "\n",
        "    for epoch in range(max_iter):\n",
        "        # 各データ点とセントロイドとの距離を計算\n",
        "        distances = compute_distances(X, k, n_data, centroids)\n",
        "\n",
        "        # 新たな所属クラスタを計算\n",
        "        new_cluster = np.argmin(distances, axis=1)\n",
        "        # print('new_cluster', new_cluster)\n",
        "\n",
        "        # 全てのクラスタに対してセントロイドを再計算\n",
        "        for idx_centroids in range(k):\n",
        "            centroids[idx_centroids] = X[new_cluster == idx_centroids].mean(axis=0)\n",
        "            # print('セントロイド', X[new_cluster == idx_centroids])\n",
        "            # print('セントロイド', X[new_cluster == idx_centroids].mean(axis=0))\n",
        "        \n",
        "        # クラスタによるグループ分けに変化がなかったら終了\n",
        "        if (new_cluster == cluster).all():\n",
        "            break\n",
        "        \n",
        "        cluster = new_cluster\n",
        "    \n",
        "    return cluster"
      ],
      "metadata": {
        "id": "gOPJlDcUkLy4"
      },
      "execution_count": 19,
      "outputs": []
    },
    {
      "cell_type": "code",
      "source": [
        "# seed値固定\n",
        "np.random.seed(874)\n",
        "# x座標\n",
        "x = np.r_[np.random.normal(size=1000,loc=0,scale=1),\n",
        "          np.random.normal(size=1000,loc=4,scale=1)]\n",
        "# y座標\n",
        "y = np.r_[np.random.normal(size=1000,loc=10,scale=1),\n",
        "          np.random.normal(size=1000,loc=10,scale=1)]\n",
        "data = np.c_[x, y]\n",
        "print(data.shape)"
      ],
      "metadata": {
        "colab": {
          "base_uri": "https://localhost:8080/"
        },
        "id": "unnVrvJ8llrj",
        "outputId": "b0892899-a675-4804-9c9d-7d3398fb8f3f"
      },
      "execution_count": 20,
      "outputs": [
        {
          "output_type": "stream",
          "name": "stdout",
          "text": [
            "(2000, 2)\n"
          ]
        }
      ]
    },
    {
      "cell_type": "code",
      "source": [
        "print(k_means(2, data))"
      ],
      "metadata": {
        "colab": {
          "base_uri": "https://localhost:8080/"
        },
        "id": "FUPcHnjXoiqL",
        "outputId": "677e35be-11ae-4fae-8959-9883e2f0d3c0"
      },
      "execution_count": 21,
      "outputs": [
        {
          "output_type": "stream",
          "name": "stdout",
          "text": [
            "new_cluster [0 1 1 ... 1 1 1]\n",
            "セントロイド [[-0.20326761 11.11519782]\n",
            " [-1.4092337  10.62356966]\n",
            " [-0.65379406 10.11412878]\n",
            " ...\n",
            " [ 1.06946839 10.36416877]\n",
            " [ 5.08669304 11.77011704]\n",
            " [ 1.87238621 10.62203165]]\n",
            "セントロイド [ 0.45547013 10.90751717]\n",
            "セントロイド [[ 0.51059539  8.9471941 ]\n",
            " [-0.081612    9.13104393]\n",
            " [ 0.47263178  9.8013869 ]\n",
            " ...\n",
            " [ 4.88229755  9.12563974]\n",
            " [ 5.15585889  9.74081804]\n",
            " [ 3.69871148 10.7152379 ]]\n",
            "セントロイド [2.67407055 9.61807376]\n",
            "new_cluster [0 0 0 ... 1 1 1]\n",
            "セントロイド [[-0.20326761 11.11519782]\n",
            " [ 0.51059539  8.9471941 ]\n",
            " [-0.081612    9.13104393]\n",
            " ...\n",
            " [ 1.67659235 10.55529045]\n",
            " [ 2.31646533 11.61950896]\n",
            " [ 1.06946839 10.36416877]]\n",
            "セントロイド [-0.16180067 10.1117885 ]\n",
            "セントロイド [[ 1.58816583  8.69074879]\n",
            " [ 2.44456484 11.4088265 ]\n",
            " [ 0.23223802  7.37433972]\n",
            " ...\n",
            " [ 4.88229755  9.12563974]\n",
            " [ 5.15585889  9.74081804]\n",
            " [ 3.69871148 10.7152379 ]]\n",
            "セントロイド [3.79330613 9.94313832]\n",
            "new_cluster [0 0 0 ... 1 1 1]\n",
            "セントロイド [[-0.20326761 11.11519782]\n",
            " [ 0.51059539  8.9471941 ]\n",
            " [-0.081612    9.13104393]\n",
            " ...\n",
            " [ 1.06946839 10.36416877]\n",
            " [ 1.08313718  8.88140687]\n",
            " [ 1.52880983  8.39300324]]\n",
            "セントロイド [-0.07162905 10.02032694]\n",
            "セントロイド [[ 2.44456484 11.4088265 ]\n",
            " [ 2.1780111  10.543603  ]\n",
            " [ 1.78493787  8.86176555]\n",
            " ...\n",
            " [ 4.88229755  9.12563974]\n",
            " [ 5.15585889  9.74081804]\n",
            " [ 3.69871148 10.7152379 ]]\n",
            "セントロイド [ 3.97466901 10.0204317 ]\n",
            "new_cluster [0 0 0 ... 1 1 1]\n",
            "セントロイド [[-0.20326761 11.11519782]\n",
            " [ 0.51059539  8.9471941 ]\n",
            " [-0.081612    9.13104393]\n",
            " ...\n",
            " [ 1.08313718  8.88140687]\n",
            " [ 1.87238621 10.62203165]\n",
            " [ 1.52880983  8.39300324]]\n",
            "セントロイド [-0.03654019 10.01352022]\n",
            "セントロイド [[ 2.44456484 11.4088265 ]\n",
            " [ 2.1780111  10.543603  ]\n",
            " [ 2.07053256 10.10283902]\n",
            " ...\n",
            " [ 4.88229755  9.12563974]\n",
            " [ 5.15585889  9.74081804]\n",
            " [ 3.69871148 10.7152379 ]]\n",
            "セントロイド [ 4.01242151 10.02728128]\n",
            "new_cluster [0 0 0 ... 1 1 1]\n",
            "セントロイド [[-0.20326761 11.11519782]\n",
            " [ 0.51059539  8.9471941 ]\n",
            " [-0.081612    9.13104393]\n",
            " ...\n",
            " [ 1.08313718  8.88140687]\n",
            " [ 1.87238621 10.62203165]\n",
            " [ 1.52880983  8.39300324]]\n",
            "セントロイド [-0.02459815 10.00998877]\n",
            "セントロイド [[ 2.44456484 11.4088265 ]\n",
            " [ 2.1780111  10.543603  ]\n",
            " [ 2.07053256 10.10283902]\n",
            " ...\n",
            " [ 4.88229755  9.12563974]\n",
            " [ 5.15585889  9.74081804]\n",
            " [ 3.69871148 10.7152379 ]]\n",
            "セントロイド [ 4.02477696 10.03096018]\n",
            "new_cluster [0 0 0 ... 1 1 1]\n",
            "セントロイド [[-0.20326761 11.11519782]\n",
            " [ 0.51059539  8.9471941 ]\n",
            " [-0.081612    9.13104393]\n",
            " ...\n",
            " [ 1.08313718  8.88140687]\n",
            " [ 1.87238621 10.62203165]\n",
            " [ 1.52880983  8.39300324]]\n",
            "セントロイド [-0.02259635 10.01050602]\n",
            "セントロイド [[ 2.44456484 11.4088265 ]\n",
            " [ 2.1780111  10.543603  ]\n",
            " [ 2.07053256 10.10283902]\n",
            " ...\n",
            " [ 4.88229755  9.12563974]\n",
            " [ 5.15585889  9.74081804]\n",
            " [ 3.69871148 10.7152379 ]]\n",
            "セントロイド [ 4.026825   10.03045366]\n",
            "new_cluster [0 0 0 ... 1 1 1]\n",
            "セントロイド [[-0.20326761 11.11519782]\n",
            " [ 0.51059539  8.9471941 ]\n",
            " [-0.081612    9.13104393]\n",
            " ...\n",
            " [ 1.08313718  8.88140687]\n",
            " [ 1.87238621 10.62203165]\n",
            " [ 1.52880983  8.39300324]]\n",
            "セントロイド [-0.02259635 10.01050602]\n",
            "セントロイド [[ 2.44456484 11.4088265 ]\n",
            " [ 2.1780111  10.543603  ]\n",
            " [ 2.07053256 10.10283902]\n",
            " ...\n",
            " [ 4.88229755  9.12563974]\n",
            " [ 5.15585889  9.74081804]\n",
            " [ 3.69871148 10.7152379 ]]\n",
            "セントロイド [ 4.026825   10.03045366]\n",
            "[0 0 0 ... 1 1 1]\n"
          ]
        }
      ]
    },
    {
      "cell_type": "markdown",
      "source": [
        "### k-means++"
      ],
      "metadata": {
        "id": "qVzSYXCnon6z"
      }
    },
    {
      "cell_type": "code",
      "source": [
        "def init_centroid(X, k, n_data):\n",
        "    # 1つ目のセントロイドをランダムに選択\n",
        "    idx = np.random.choice(n_data, 1)\n",
        "    centroids = X[idx]\n",
        "    for i in range(k - 1):\n",
        "        # 各データ点とセントロイドとの距離を計算\n",
        "        distances = compute_distances(X, len(centroids), n_data, centroids)\n",
        "\n",
        "        # 各データ点と最も近いセントロイドとの距離の二乗を計算\n",
        "        closet_dist_sq = np.min(distances ** 2, axis=1)\n",
        "\n",
        "        # 距離の二乗の和を計算\n",
        "        weights = closet_dist_sq.sum()\n",
        "\n",
        "        # [0, 1)の乱数と距離の二乗和を掛ける\n",
        "        rand_vals = np.random.random_sample() * weights\n",
        "\n",
        "        # 距離の二乗の累積和を計算し、rand_valと最も値が近いデータ点のindexを取得\n",
        "        candidate_idx = np.searchsorted(np.cumsum(closet_dist_sq), rand_vals)\n",
        "\n",
        "        # 選ばれた点を新たなセントロイドとして追加\n",
        "        centroids = np.vstack([centroids, X[candidate_idx]])\n",
        "\n",
        "        return centroids"
      ],
      "metadata": {
        "id": "E7mLpgIHrybf"
      },
      "execution_count": null,
      "outputs": []
    },
    {
      "cell_type": "markdown",
      "source": [
        "### 主成分分析"
      ],
      "metadata": {
        "id": "oEQB7F39ut93"
      }
    },
    {
      "cell_type": "code",
      "source": [
        "def pca(X, n_components=2):\n",
        "    # データから平均を引く\n",
        "    X = X - X.mean(axis=0)\n",
        "\n",
        "    #  共分散行列の作成\n",
        "    cov = np.cov(X, rowvar=False)\n",
        "\n",
        "    # 固有値や主成分方向を計算\n",
        "    l, v = np.linalg.eig(cov)\n",
        "\n",
        "    # 固有値の大きい順に並び替え\n",
        "    l_index = np.argsort(l)[::-1]\n",
        "    v_ = v[:, l_index]\n",
        "\n",
        "    # n_components分、主成分方向を取得\n",
        "    components = v_[:, :n_components]\n",
        "\n",
        "    # データを低次元空間へ射影\n",
        "    T = np.dot(X, components)\n",
        "\n",
        "    return T"
      ],
      "metadata": {
        "id": "NvLNrKqWuyhE"
      },
      "execution_count": null,
      "outputs": []
    },
    {
      "cell_type": "code",
      "source": [
        ""
      ],
      "metadata": {
        "id": "Mzqt5k5ov6PE"
      },
      "execution_count": null,
      "outputs": []
    }
  ]
}