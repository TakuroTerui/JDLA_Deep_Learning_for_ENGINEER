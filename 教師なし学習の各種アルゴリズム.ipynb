{
  "nbformat": 4,
  "nbformat_minor": 0,
  "metadata": {
    "colab": {
      "name": "教師なし学習の各種アルゴリズム.ipynb",
      "provenance": [],
      "authorship_tag": "ABX9TyPJ60H/QsxQWpVXTsTN1nVl"
    },
    "kernelspec": {
      "name": "python3",
      "display_name": "Python 3"
    },
    "language_info": {
      "name": "python"
    }
  },
  "cells": [
    {
      "cell_type": "markdown",
      "source": [
        "### k-means"
      ],
      "metadata": {
        "id": "KxA1sPY0rtgx"
      }
    },
    {
      "cell_type": "code",
      "execution_count": null,
      "metadata": {
        "id": "0ulRLNpZjE5G"
      },
      "outputs": [],
      "source": [
        "import numpy as np"
      ]
    },
    {
      "cell_type": "code",
      "source": [
        "def init_centroid(X, k, n_data):\n",
        "    # 各データ点の中からセントロイドとなる点をk個ランダムに選択\n",
        "    idx = np.random.permutation(n_data)[:k]\n",
        "    centroids = X[idx]\n",
        "    return centroids"
      ],
      "metadata": {
        "id": "8q43u5BajG2-"
      },
      "execution_count": null,
      "outputs": []
    },
    {
      "cell_type": "code",
      "source": [
        "def compute_distances(X, k, n_data, centroids):\n",
        "    distances = np.zeros((n_data, k))\n",
        "    for idx_centroids in range(k):\n",
        "        dist = np.sqrt(np.sum((X - centroids[idx_centroids]) ** 2, axis=1))\n",
        "        distances[:, idx_centroids] = dist\n",
        "    return distances"
      ],
      "metadata": {
        "id": "8Q0JpEGWjc-P"
      },
      "execution_count": null,
      "outputs": []
    },
    {
      "cell_type": "code",
      "source": [
        "def k_means(k, X, max_iter=300):\n",
        "    '''\n",
        "    X.shape = (データ数、次元数)\n",
        "    k = クラスタ数\n",
        "    '''\n",
        "    n_data, n_features = X.shape\n",
        "\n",
        "    # セントロイドの初期値\n",
        "    centroids = init_centroid(X, n_data, k)\n",
        "\n",
        "    # 新しいクラスタを格納するための配列\n",
        "    new_cluster = np.zeros(n_data)\n",
        "\n",
        "    # 各データの所属クラスタを保存する配列\n",
        "    cluster = np.zeros(n_data)\n",
        "\n",
        "    for epoch in range(max_iter):\n",
        "        # 各データ点とセントロイドとの距離を計算\n",
        "        distances = compute_distances(X, k, n_data, centroids)\n",
        "\n",
        "        # 新たな所属クラスタを計算\n",
        "        new_cluster = np.argmin(distances, axis=1)\n",
        "        # print('distances', distances)\n",
        "        # print('new_cluster', new_cluster)\n",
        "\n",
        "        # 全てのクラスタに対してセントロイドを再計算\n",
        "        for idx_centroids in range(k):\n",
        "            centroids[idx_centroids] = X[new_cluster == idx_centroids].mean(axis=0)\n",
        "            # print('セントロイド', centroids[idx_centroids])\n",
        "            # print('セントロイド', X[new_cluster == idx_centroids].shape)\n",
        "            # print('セントロイド', X[new_cluster == idx_centroids].mean(axis=0))\n",
        "        \n",
        "        # クラスタによるグループ分けに変化がなかったら終了\n",
        "        if (new_cluster == cluster).all():\n",
        "            break\n",
        "        \n",
        "        cluster = new_cluster\n",
        "    \n",
        "    return cluster"
      ],
      "metadata": {
        "id": "gOPJlDcUkLy4"
      },
      "execution_count": null,
      "outputs": []
    },
    {
      "cell_type": "code",
      "source": [
        "# seed値固定\n",
        "np.random.seed(874)\n",
        "# x座標\n",
        "x = np.r_[np.random.normal(size=1000,loc=0,scale=1),\n",
        "          np.random.normal(size=1000,loc=4,scale=1)]\n",
        "# y座標\n",
        "y = np.r_[np.random.normal(size=1000,loc=10,scale=1),\n",
        "          np.random.normal(size=1000,loc=10,scale=1)]\n",
        "data = np.c_[x, y]\n",
        "print(data.shape)"
      ],
      "metadata": {
        "colab": {
          "base_uri": "https://localhost:8080/"
        },
        "id": "unnVrvJ8llrj",
        "outputId": "14f5c5d3-bf69-4516-a5da-4535847c5d15"
      },
      "execution_count": null,
      "outputs": [
        {
          "output_type": "stream",
          "name": "stdout",
          "text": [
            "(2000, 2)\n"
          ]
        }
      ]
    },
    {
      "cell_type": "code",
      "source": [
        "print(k_means(2, data))"
      ],
      "metadata": {
        "colab": {
          "base_uri": "https://localhost:8080/"
        },
        "id": "FUPcHnjXoiqL",
        "outputId": "23ab1c30-21e0-41f0-d20e-73eef5b81d01"
      },
      "execution_count": null,
      "outputs": [
        {
          "output_type": "stream",
          "name": "stdout",
          "text": [
            "セントロイド (624, 2)\n",
            "セントロイド (1376, 2)\n",
            "セントロイド (916, 2)\n",
            "セントロイド (1084, 2)\n",
            "セントロイド (985, 2)\n",
            "セントロイド (1015, 2)\n",
            "セントロイド (1003, 2)\n",
            "セントロイド (997, 2)\n",
            "セントロイド (1009, 2)\n",
            "セントロイド (991, 2)\n",
            "セントロイド (1010, 2)\n",
            "セントロイド (990, 2)\n",
            "セントロイド (1010, 2)\n",
            "セントロイド (990, 2)\n",
            "[0 0 0 ... 1 1 1]\n"
          ]
        }
      ]
    },
    {
      "cell_type": "markdown",
      "source": [
        "### k-means++"
      ],
      "metadata": {
        "id": "qVzSYXCnon6z"
      }
    },
    {
      "cell_type": "code",
      "source": [
        "def init_centroid(X, k, n_data):\n",
        "    # 1つ目のセントロイドをランダムに選択\n",
        "    idx = np.random.choice(n_data, 1)\n",
        "    centroids = X[idx]\n",
        "    for i in range(k - 1):\n",
        "        # 各データ点とセントロイドとの距離を計算\n",
        "        distances = compute_distances(X, len(centroids), n_data, centroids)\n",
        "\n",
        "        # 各データ点と最も近いセントロイドとの距離の二乗を計算\n",
        "        closet_dist_sq = np.min(distances ** 2, axis=1)\n",
        "\n",
        "        # 距離の二乗の和を計算\n",
        "        weights = closet_dist_sq.sum()\n",
        "\n",
        "        # [0, 1)の乱数と距離の二乗和を掛ける\n",
        "        rand_vals = np.random.random_sample() * weights\n",
        "\n",
        "        # 距離の二乗の累積和を計算し、rand_valと最も値が近いデータ点のindexを取得\n",
        "        candidate_idx = np.searchsorted(np.cumsum(closet_dist_sq), rand_vals)\n",
        "\n",
        "        # 選ばれた点を新たなセントロイドとして追加\n",
        "        centroids = np.vstack([centroids, X[candidate_idx]])\n",
        "\n",
        "        return centroids"
      ],
      "metadata": {
        "id": "E7mLpgIHrybf"
      },
      "execution_count": null,
      "outputs": []
    },
    {
      "cell_type": "markdown",
      "source": [
        "### 主成分分析"
      ],
      "metadata": {
        "id": "oEQB7F39ut93"
      }
    },
    {
      "cell_type": "code",
      "source": [
        "def pca(X, n_components=2):\n",
        "    # データから平均を引く\n",
        "    X = X - X.mean(axis=0)\n",
        "\n",
        "    #  共分散行列の作成\n",
        "    cov = np.cov(X, rowvar=False)\n",
        "\n",
        "    # 固有値や主成分方向を計算\n",
        "    l, v = np.linalg.eig(cov)\n",
        "\n",
        "    # 固有値の大きい順に並び替え\n",
        "    l_index = np.argsort(l)[::-1]\n",
        "    v_ = v[:, l_index]\n",
        "\n",
        "    # n_components分、主成分方向を取得\n",
        "    components = v_[:, :n_components]\n",
        "\n",
        "    # データを低次元空間へ射影\n",
        "    T = np.dot(X, components)\n",
        "\n",
        "    return T"
      ],
      "metadata": {
        "id": "NvLNrKqWuyhE"
      },
      "execution_count": null,
      "outputs": []
    },
    {
      "cell_type": "code",
      "source": [
        ""
      ],
      "metadata": {
        "id": "Mzqt5k5ov6PE"
      },
      "execution_count": null,
      "outputs": []
    }
  ]
}